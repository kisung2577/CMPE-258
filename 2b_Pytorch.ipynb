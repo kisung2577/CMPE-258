{
  "nbformat": 4,
  "nbformat_minor": 0,
  "metadata": {
    "colab": {
      "provenance": [],
      "include_colab_link": true
    },
    "kernelspec": {
      "name": "python3",
      "display_name": "Python 3"
    },
    "language_info": {
      "name": "python"
    }
  },
  "cells": [
    {
      "cell_type": "markdown",
      "metadata": {
        "id": "view-in-github",
        "colab_type": "text"
      },
      "source": [
        "<a href=\"https://colab.research.google.com/github/kisung2577/CMPE-258/blob/main/2b_Pytorch.ipynb\" target=\"_parent\"><img src=\"https://colab.research.google.com/assets/colab-badge.svg\" alt=\"Open In Colab\"/></a>"
      ]
    },
    {
      "cell_type": "code",
      "execution_count": null,
      "metadata": {
        "id": "x_O7EYmr7Zjk"
      },
      "outputs": [],
      "source": [
        "import torch"
      ]
    },
    {
      "cell_type": "code",
      "source": [
        "# Scalar vector multiplication\n",
        "\n",
        "a = torch.rand(1)\n",
        "b = torch.rand(4, 6)\n",
        "mult = torch.einsum('i, ij -> ij', [a, b])\n",
        "print(a)\n",
        "print(b)\n",
        "print(mult)"
      ],
      "metadata": {
        "colab": {
          "base_uri": "https://localhost:8080/"
        },
        "id": "5Y1LUGch7wgr",
        "outputId": "f6a59eb3-ed0e-4503-f1f8-6a8f2541d8fd"
      },
      "execution_count": null,
      "outputs": [
        {
          "output_type": "stream",
          "name": "stdout",
          "text": [
            "tensor([0.2816])\n",
            "tensor([[0.7502, 0.7038, 0.7051, 0.9726, 0.0451, 0.4314],\n",
            "        [0.2282, 0.5770, 0.8642, 0.1719, 0.1312, 0.9539],\n",
            "        [0.6936, 0.5727, 0.7348, 0.8307, 0.7632, 0.1978],\n",
            "        [0.0399, 0.2240, 0.5388, 0.7339, 0.8331, 0.6872]])\n",
            "tensor([[0.2113, 0.1982, 0.1986, 0.2739, 0.0127, 0.1215],\n",
            "        [0.0643, 0.1625, 0.2434, 0.0484, 0.0370, 0.2687],\n",
            "        [0.1954, 0.1613, 0.2070, 0.2340, 0.2150, 0.0557],\n",
            "        [0.0112, 0.0631, 0.1517, 0.2067, 0.2346, 0.1935]])\n"
          ]
        }
      ]
    },
    {
      "cell_type": "code",
      "source": [
        "# Vector vector multiplication\n",
        "\n",
        "a = torch.rand(1, 2)\n",
        "b = torch.rand(2, 3)\n",
        "mult = torch.einsum('ij, jk -> ik', [a, b])\n",
        "print(a)\n",
        "print(b)\n",
        "print(mult)"
      ],
      "metadata": {
        "colab": {
          "base_uri": "https://localhost:8080/"
        },
        "id": "TZ4CMTM_755g",
        "outputId": "fbddd378-1487-4067-90b5-ef7bccf240ac"
      },
      "execution_count": null,
      "outputs": [
        {
          "output_type": "stream",
          "name": "stdout",
          "text": [
            "tensor([[0.0365, 0.0465]])\n",
            "tensor([[0.1035, 0.9038, 0.0463],\n",
            "        [0.4622, 0.4749, 0.1414]])\n",
            "tensor([[0.0253, 0.0551, 0.0083]])\n"
          ]
        }
      ]
    },
    {
      "cell_type": "code",
      "source": [
        "# Outer product\n",
        "\n",
        "a = torch.arange(5)\n",
        "b = torch.arange(3, 6)  \n",
        "prod = torch.einsum('i,j -> ij', [a, b])\n",
        "print(a)\n",
        "print(b)\n",
        "print(prod)"
      ],
      "metadata": {
        "colab": {
          "base_uri": "https://localhost:8080/"
        },
        "id": "x-49ddgB8Pnz",
        "outputId": "89c456d0-d6fe-4954-958e-66d3a62b21fe"
      },
      "execution_count": null,
      "outputs": [
        {
          "output_type": "stream",
          "name": "stdout",
          "text": [
            "tensor([0, 1, 2, 3, 4])\n",
            "tensor([3, 4, 5])\n",
            "tensor([[ 0,  0,  0],\n",
            "        [ 3,  4,  5],\n",
            "        [ 6,  8, 10],\n",
            "        [ 9, 12, 15],\n",
            "        [12, 16, 20]])\n"
          ]
        }
      ]
    },
    {
      "cell_type": "code",
      "source": [
        "# Scalar dot product\n",
        "\n",
        "a = torch.arange(9).reshape(3, 3)\n",
        "b = torch.arange(6).reshape(3, 2)\n",
        "prod = torch.einsum('ij, jk ->', [a, b])\n",
        "print(a)\n",
        "print(b)\n",
        "print(prod)"
      ],
      "metadata": {
        "colab": {
          "base_uri": "https://localhost:8080/"
        },
        "id": "3_ddVdB38UIJ",
        "outputId": "e4c332fb-c89e-4d22-d65f-4c7293c83a6e"
      },
      "execution_count": null,
      "outputs": [
        {
          "output_type": "stream",
          "name": "stdout",
          "text": [
            "tensor([[0, 1, 2],\n",
            "        [3, 4, 5],\n",
            "        [6, 7, 8]])\n",
            "tensor([[0, 1],\n",
            "        [2, 3],\n",
            "        [4, 5]])\n",
            "tensor(204)\n"
          ]
        }
      ]
    },
    {
      "cell_type": "code",
      "source": [
        "# Hadamard product\n",
        "\n",
        "a = torch.arange(8).reshape(2, 4)\n",
        "b = torch.arange(4, 12).reshape(2, 4)\n",
        "prod = torch.einsum('ij, ij -> ij', [a, b])\n",
        "print(a)\n",
        "print(b)\n",
        "print(prod)"
      ],
      "metadata": {
        "colab": {
          "base_uri": "https://localhost:8080/"
        },
        "id": "TscM27338qr9",
        "outputId": "ce31fe14-b3bb-4d47-ee7d-7bef86fd65bf"
      },
      "execution_count": null,
      "outputs": [
        {
          "output_type": "stream",
          "name": "stdout",
          "text": [
            "tensor([[0, 1, 2, 3],\n",
            "        [4, 5, 6, 7]])\n",
            "tensor([[ 4,  5,  6,  7],\n",
            "        [ 8,  9, 10, 11]])\n",
            "tensor([[ 0,  5, 12, 21],\n",
            "        [32, 45, 60, 77]])\n"
          ]
        }
      ]
    },
    {
      "cell_type": "code",
      "source": [
        "# Batch matrix multiplication\n",
        "\n",
        "a = torch.randn(3, 3, 5)\n",
        "b = torch.randn(3, 5, 2)\n",
        "batch_mult = torch.einsum('bij, bjk -> bik', [a, b])\n",
        "print(a)\n",
        "print(b)\n",
        "print(batch_mult)"
      ],
      "metadata": {
        "colab": {
          "base_uri": "https://localhost:8080/"
        },
        "id": "zgvmyiWD86Ck",
        "outputId": "58c01aee-e940-4ee8-e376-4a59b38b2b1d"
      },
      "execution_count": null,
      "outputs": [
        {
          "output_type": "stream",
          "name": "stdout",
          "text": [
            "tensor([[[ 0.1146, -1.5396, -0.1097,  1.0692,  0.1926],\n",
            "         [ 0.5118,  0.0285, -0.9787,  1.2378, -0.1649],\n",
            "         [ 0.7038, -0.9669,  1.2838, -0.3901, -1.6070]],\n",
            "\n",
            "        [[-1.1492,  0.4336, -1.1261,  0.6780,  0.4498],\n",
            "         [ 0.8887,  0.3932,  0.1344,  0.3686, -1.2185],\n",
            "         [ 0.6003,  0.6075, -0.6520,  0.1858, -0.1856]],\n",
            "\n",
            "        [[ 0.2790,  1.0010,  1.0151,  0.2252,  0.6820],\n",
            "         [ 1.3085,  2.5153,  0.8193, -0.2701,  0.7210],\n",
            "         [-1.2182, -0.1762, -0.3039, -0.6304, -1.0085]]])\n",
            "tensor([[[-0.1038,  0.3215],\n",
            "         [ 0.9147, -2.5490],\n",
            "         [-0.8357,  0.7215],\n",
            "         [ 0.0268,  0.8814],\n",
            "         [ 1.4209, -0.9968]],\n",
            "\n",
            "        [[-0.2211, -0.2287],\n",
            "         [ 1.0892, -0.3269],\n",
            "         [-0.7064, -0.9105],\n",
            "         [ 0.1062,  0.9049],\n",
            "         [ 0.0365, -0.7387]],\n",
            "\n",
            "        [[ 0.5233,  0.5796],\n",
            "         [-1.6353, -1.0672],\n",
            "         [-2.3501,  1.4199],\n",
            "         [ 0.7197,  1.4262],\n",
            "         [-1.6448,  2.9994]]])\n",
            "tensor([[[-1.0262,  4.6326],\n",
            "         [ 0.5897,  0.6412],\n",
            "         [-4.3242,  4.8752]],\n",
            "\n",
            "        [[ 1.6101,  1.4275],\n",
            "         [ 0.1316,  0.7796],\n",
            "         [ 1.0025,  0.5630]],\n",
            "\n",
            "        [[-4.8363,  2.9015],\n",
            "         [-6.7344,  1.0150],\n",
            "         [ 1.5701, -4.8735]]])\n"
          ]
        }
      ]
    },
    {
      "cell_type": "code",
      "source": [
        "# Tensor reduction\n",
        "\n",
        "a = torch.randn(2, 3, 5, 7)\n",
        "b = torch.randn(4, 1, 3, 11, 5)\n",
        "reduction = torch.einsum('pqrs, tuqvr -> pstuv', [a, b])\n",
        "print(a.shape, b.shape, reduction.shape)"
      ],
      "metadata": {
        "colab": {
          "base_uri": "https://localhost:8080/"
        },
        "id": "jPocnSCH8_fZ",
        "outputId": "5e5d6daa-64b0-4a1c-aa7f-c12bc442eae4"
      },
      "execution_count": null,
      "outputs": [
        {
          "output_type": "stream",
          "name": "stdout",
          "text": [
            "torch.Size([2, 3, 5, 7]) torch.Size([4, 1, 3, 11, 5]) torch.Size([2, 7, 4, 1, 11])\n"
          ]
        }
      ]
    },
    {
      "cell_type": "code",
      "source": [
        "# Transpose\n",
        "\n",
        "a = torch.arange(8).reshape(4, 2)\n",
        "transpose = torch.einsum('ij -> ji', [a])\n",
        "print(a)\n",
        "print(transpose)"
      ],
      "metadata": {
        "colab": {
          "base_uri": "https://localhost:8080/"
        },
        "id": "StmTS9VZ9Ce8",
        "outputId": "d12f211f-64af-40fc-8ac2-0499c20d8725"
      },
      "execution_count": null,
      "outputs": [
        {
          "output_type": "stream",
          "name": "stdout",
          "text": [
            "tensor([[0, 1],\n",
            "        [2, 3],\n",
            "        [4, 5],\n",
            "        [6, 7]])\n",
            "tensor([[0, 2, 4, 6],\n",
            "        [1, 3, 5, 7]])\n"
          ]
        }
      ]
    },
    {
      "cell_type": "code",
      "source": [
        "# Bilinear transformation\n",
        "\n",
        "a = torch.randn(2, 3)\n",
        "b = torch.randn(3, 3, 4)\n",
        "c = torch.randn(2, 4)\n",
        "bilinear = torch.einsum('ik, jkl, il -> ij', [a, b, c])\n",
        "print(a)\n",
        "print(b)\n",
        "print(c)\n",
        "print(bilinear)"
      ],
      "metadata": {
        "colab": {
          "base_uri": "https://localhost:8080/"
        },
        "id": "jyQ27_eS9Fxt",
        "outputId": "1d7f321b-442c-4795-bb6d-a1533f8fb9f3"
      },
      "execution_count": null,
      "outputs": [
        {
          "output_type": "stream",
          "name": "stdout",
          "text": [
            "tensor([[-0.3459, -0.1460, -0.7323],\n",
            "        [ 0.5967,  0.1398,  0.5191]])\n",
            "tensor([[[-1.3349, -0.7883,  0.3478,  0.3982],\n",
            "         [ 1.2176,  0.7449, -0.0551, -1.1972],\n",
            "         [-1.5638,  0.4705,  0.4891,  1.5464]],\n",
            "\n",
            "        [[ 1.1694,  1.2269,  1.2733,  0.3802],\n",
            "         [-0.5719,  0.6567,  0.9136, -0.6088],\n",
            "         [ 0.0022,  0.7988,  0.5315,  1.0724]],\n",
            "\n",
            "        [[-0.0579,  0.3398,  0.3263,  0.1343],\n",
            "         [ 0.6590, -0.6689,  0.9644,  0.8690],\n",
            "         [ 0.3517, -0.7693,  1.2730, -0.4861]]])\n",
            "tensor([[ 0.7735,  0.5377, -1.3788,  0.4021],\n",
            "        [ 0.5709,  0.5487, -0.8845, -1.5437]])\n",
            "tensor([[ 1.2165,  0.1512,  1.7427],\n",
            "        [-2.6373, -1.0743, -0.8197]])\n"
          ]
        }
      ]
    },
    {
      "cell_type": "code",
      "source": [
        "# Attention\n",
        "\n",
        "def random_tensors(shape, num=1, requires_grad=False):\n",
        "  tensors = [torch.randn(shape, requires_grad=requires_grad) for i in range(0, num)]\n",
        "  return tensors[0] if num == 1 else tensors\n",
        "\n",
        "# Parameters\n",
        "# [hidden_dimension]\n",
        "bM, br, w = random_tensors([7], num=3, requires_grad=True)\n",
        "# [hidden_dimension x hidden_dimension]\n",
        "WY, Wh, Wr, Wt = random_tensors([7, 7], num=4, requires_grad=True)\n",
        "\n",
        "def attention(Y, ht, rt1):\n",
        "  # [batch_size x hidden_dimension] \n",
        "  tmp = torch.einsum('ik, kl -> il', [ht, Wh]) + torch.einsum('ik, kl -> il', [rt1, Wr])\n",
        "\n",
        "  Mt = torch.tanh(torch.einsum('ijk, kl -> ijl', [Y, WY]) + tmp.unsqueeze(1).expand_as(Y) + bM)\n",
        "  \n",
        "  # [batch_size x sequence_length]\n",
        "  at = torch.nn.functional.softmax(torch.einsum('ijk, k -> ij', [Mt, w])) \n",
        "  \n",
        "  # [batch_size x hidden_dimension]\n",
        "  rt = torch.einsum('ijk, ij -> ik', [Y, at]) + torch.tanh(torch.einsum('ij, jk -> ik', [rt1, Wt]) + br)\n",
        "  \n",
        "  return rt, at\n",
        "\n",
        "# Inputs - [batch_size x sequence_length x hidden_dimension]\n",
        "Y = torch.randn(3,5,7)\n",
        "# [batch_size x hidden_dimension]\n",
        "ht, rt1 = random_tensors([3, 7], num=2)\n",
        "\n",
        "rt, at = attention(Y, ht, rt1)\n",
        "\n",
        "print(at)"
      ],
      "metadata": {
        "colab": {
          "base_uri": "https://localhost:8080/"
        },
        "id": "V1hndqmL9Mi-",
        "outputId": "011986af-5bcb-4b1b-8836-3c4abc6c18c4"
      },
      "execution_count": null,
      "outputs": [
        {
          "output_type": "stream",
          "name": "stdout",
          "text": [
            "tensor([[0.0089, 0.0552, 0.4351, 0.5002, 0.0006],\n",
            "        [0.0122, 0.0339, 0.3530, 0.0084, 0.5925],\n",
            "        [0.1238, 0.1239, 0.2828, 0.1251, 0.3444]], grad_fn=<SoftmaxBackward0>)\n"
          ]
        },
        {
          "output_type": "stream",
          "name": "stderr",
          "text": [
            "<ipython-input-11-0f495568e4dc>:20: UserWarning: Implicit dimension choice for softmax has been deprecated. Change the call to include dim=X as an argument.\n",
            "  at = torch.nn.functional.softmax(torch.einsum('ijk, k -> ij', [Mt, w]))\n"
          ]
        }
      ]
    },
    {
      "cell_type": "code",
      "source": [
        "# Treeqn\n",
        "\n",
        "def transition(zl):\n",
        "  # [batch_size x num_actions x hidden_dimension]\n",
        "  return zl.unsqueeze(1) + torch.tanh(torch.einsum('bk, aki -> bai', [zl, W]) + b)\n",
        "\n",
        "# Inputs - [batch_size x hidden_dimension]\n",
        "zl = torch.randn(2, 3)\n",
        "# Parameters - [num_actions x hidden_dimension]\n",
        "b = torch.randn(5, 3)\n",
        "# Actions - [num_actions x hidden_dimension x hidden_dimension]\n",
        "W = torch.randn(5, 3, 3)\n",
        "\n",
        "transition(zl)"
      ],
      "metadata": {
        "colab": {
          "base_uri": "https://localhost:8080/"
        },
        "id": "xmqtU8_B9PkR",
        "outputId": "01d086e2-4e47-445f-9b72-7628ae66d5dc"
      },
      "execution_count": null,
      "outputs": [
        {
          "output_type": "execute_result",
          "data": {
            "text/plain": [
              "tensor([[[-1.6990e+00, -2.1557e-01,  5.2023e-01],\n",
              "         [-2.0484e-02, -1.2507e+00,  5.6257e-01],\n",
              "         [ 1.5275e-01, -1.8896e-02,  1.7447e+00],\n",
              "         [-1.6518e+00, -7.0626e-04,  1.8144e+00],\n",
              "         [-7.5640e-02, -1.3509e+00,  2.0551e+00]],\n",
              "\n",
              "        [[ 7.1370e-01,  1.7903e-01,  4.0921e-02],\n",
              "         [ 2.2022e+00, -1.2305e-01,  1.2058e+00],\n",
              "         [ 2.2360e+00, -2.9854e-01,  1.2327e+00],\n",
              "         [ 1.8857e+00, -1.8142e+00,  1.3945e+00],\n",
              "         [ 2.0408e+00, -1.5949e+00, -9.2836e-02]]])"
            ]
          },
          "metadata": {},
          "execution_count": 12
        }
      ]
    }
  ]
}