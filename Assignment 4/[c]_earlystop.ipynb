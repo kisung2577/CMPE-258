{
  "nbformat": 4,
  "nbformat_minor": 0,
  "metadata": {
    "colab": {
      "provenance": [],
      "include_colab_link": true
    },
    "kernelspec": {
      "name": "python3",
      "display_name": "Python 3"
    },
    "language_info": {
      "name": "python"
    }
  },
  "cells": [
    {
      "cell_type": "markdown",
      "metadata": {
        "id": "view-in-github",
        "colab_type": "text"
      },
      "source": [
        "<a href=\"https://colab.research.google.com/github/kisung2577/CMPE-258/blob/main/Assignment%204/%5Bc%5D_earlystop.ipynb\" target=\"_parent\"><img src=\"https://colab.research.google.com/assets/colab-badge.svg\" alt=\"Open In Colab\"/></a>"
      ]
    },
    {
      "cell_type": "code",
      "execution_count": null,
      "metadata": {
        "id": "RayHkPgeZT5P"
      },
      "outputs": [],
      "source": [
        "import tensorflow as tf\n",
        "import pandas as pd\n",
        "import numpy as np\n",
        "import matplotlib.pyplot as plt\n",
        "from sklearn.datasets import load_iris\n",
        "from sklearn.model_selection import train_test_split\n",
        "iris = load_iris()"
      ]
    },
    {
      "cell_type": "code",
      "source": [
        "# Load data into a DataFrame\n",
        "df = pd.DataFrame(iris.data, columns=iris.feature_names)\n",
        "# Convert datatype to float\n",
        "df = df.astype(float)\n",
        "# append \"target\" and name it \"label\"\n",
        "df['label'] = iris.target\n",
        "# Use string label instead\n",
        "df['label'] = df.label.replace(dict(enumerate(iris.target_names)))"
      ],
      "metadata": {
        "id": "AoHv0_EjZVeT"
      },
      "execution_count": null,
      "outputs": []
    },
    {
      "cell_type": "code",
      "source": [
        "# label -> one-hot encoding\n",
        "label = pd.get_dummies(df['label'], prefix='label')\n",
        "df = pd.concat([df, label], axis=1)\n",
        "# drop old label\n",
        "df.drop(['label'], axis=1, inplace=True)"
      ],
      "metadata": {
        "id": "zjPomn7KZXaW"
      },
      "execution_count": null,
      "outputs": []
    },
    {
      "cell_type": "code",
      "source": [
        "# Creating X and y\n",
        "X = df[['sepal length (cm)', 'sepal width (cm)', 'petal length (cm)', 'petal width (cm)']]\n",
        "# Convert DataFrame into np array\n",
        "X = np.asarray(X) \n",
        "y= df[['label_setosa', 'label_versicolor', 'label_virginica']]\n",
        "# Convert DataFrame into np array\n",
        "y = np.asarray(y)"
      ],
      "metadata": {
        "id": "1T6NSIxlZZSr"
      },
      "execution_count": null,
      "outputs": []
    },
    {
      "cell_type": "code",
      "source": [
        "X_train, X_test, y_train, y_test = train_test_split(\n",
        "  X,\n",
        "  y,\n",
        "  test_size=0.20\n",
        ")"
      ],
      "metadata": {
        "id": "56Y1fD-NZbSH"
      },
      "execution_count": null,
      "outputs": []
    },
    {
      "cell_type": "code",
      "source": [
        "from tensorflow.keras.models import Sequential\n",
        "from tensorflow.keras.layers import Dense\n",
        "def create_model(): \n",
        "    model = Sequential([\n",
        "        Dense(64, activation='relu', input_shape=(4,)),\n",
        "        Dense(128, activation='relu'),\n",
        "        Dense(128, activation='relu'),\n",
        "        Dense(128, activation='relu'),\n",
        "        Dense(64, activation='relu'),\n",
        "        Dense(64, activation='relu'),\n",
        "        Dense(64, activation='relu'),\n",
        "        Dense(3, activation='softmax')\n",
        "    ])\n",
        "    return model"
      ],
      "metadata": {
        "id": "fwgyETp8ZneL"
      },
      "execution_count": null,
      "outputs": []
    },
    {
      "cell_type": "code",
      "source": [
        "model = create_model()"
      ],
      "metadata": {
        "id": "tBpG_wn_Z1Zo"
      },
      "execution_count": null,
      "outputs": []
    },
    {
      "cell_type": "code",
      "source": [
        "model.compile(\n",
        "    optimizer='adam', \n",
        "    loss='categorical_crossentropy', \n",
        "    metrics=['accuracy']\n",
        ")"
      ],
      "metadata": {
        "id": "Loj6QgF3ZpJ6"
      },
      "execution_count": null,
      "outputs": []
    },
    {
      "cell_type": "code",
      "source": [
        "history = model.fit(\n",
        "    X_train, \n",
        "    y_train, \n",
        "    epochs=200, \n",
        "    validation_split=0.25, \n",
        "    batch_size=40, \n",
        "    verbose=2\n",
        ")"
      ],
      "metadata": {
        "colab": {
          "base_uri": "https://localhost:8080/"
        },
        "id": "im89YOxiZqs3",
        "outputId": "fa7e2750-82d8-4841-b1f4-d7d818d88695"
      },
      "execution_count": null,
      "outputs": [
        {
          "output_type": "stream",
          "name": "stdout",
          "text": [
            "Epoch 1/200\n",
            "3/3 - 2s - loss: 1.0469 - accuracy: 0.6444 - val_loss: 0.9492 - val_accuracy: 0.7333 - 2s/epoch - 587ms/step\n",
            "Epoch 2/200\n",
            "3/3 - 0s - loss: 0.9418 - accuracy: 0.6667 - val_loss: 0.8229 - val_accuracy: 0.7333 - 46ms/epoch - 15ms/step\n",
            "Epoch 3/200\n",
            "3/3 - 0s - loss: 0.8129 - accuracy: 0.6667 - val_loss: 0.7110 - val_accuracy: 0.7333 - 39ms/epoch - 13ms/step\n",
            "Epoch 4/200\n",
            "3/3 - 0s - loss: 0.7067 - accuracy: 0.6667 - val_loss: 0.5718 - val_accuracy: 0.7333 - 42ms/epoch - 14ms/step\n",
            "Epoch 5/200\n",
            "3/3 - 0s - loss: 0.5723 - accuracy: 0.7444 - val_loss: 0.4492 - val_accuracy: 0.9000 - 42ms/epoch - 14ms/step\n",
            "Epoch 6/200\n",
            "3/3 - 0s - loss: 0.4435 - accuracy: 0.9111 - val_loss: 0.3379 - val_accuracy: 0.8667 - 39ms/epoch - 13ms/step\n",
            "Epoch 7/200\n",
            "3/3 - 0s - loss: 0.3621 - accuracy: 0.8667 - val_loss: 0.2725 - val_accuracy: 0.9000 - 50ms/epoch - 17ms/step\n",
            "Epoch 8/200\n",
            "3/3 - 0s - loss: 0.2547 - accuracy: 0.9556 - val_loss: 0.1829 - val_accuracy: 1.0000 - 44ms/epoch - 15ms/step\n",
            "Epoch 9/200\n",
            "3/3 - 0s - loss: 0.2023 - accuracy: 0.9444 - val_loss: 0.1702 - val_accuracy: 0.9000 - 45ms/epoch - 15ms/step\n",
            "Epoch 10/200\n",
            "3/3 - 0s - loss: 0.1530 - accuracy: 0.9556 - val_loss: 0.1033 - val_accuracy: 1.0000 - 43ms/epoch - 14ms/step\n",
            "Epoch 11/200\n",
            "3/3 - 0s - loss: 0.1262 - accuracy: 0.9778 - val_loss: 0.0802 - val_accuracy: 1.0000 - 62ms/epoch - 21ms/step\n",
            "Epoch 12/200\n",
            "3/3 - 0s - loss: 0.1118 - accuracy: 0.9667 - val_loss: 0.3491 - val_accuracy: 0.8667 - 42ms/epoch - 14ms/step\n",
            "Epoch 13/200\n",
            "3/3 - 0s - loss: 0.2806 - accuracy: 0.8889 - val_loss: 0.0613 - val_accuracy: 1.0000 - 42ms/epoch - 14ms/step\n",
            "Epoch 14/200\n",
            "3/3 - 0s - loss: 0.1823 - accuracy: 0.9444 - val_loss: 0.0571 - val_accuracy: 1.0000 - 42ms/epoch - 14ms/step\n",
            "Epoch 15/200\n",
            "3/3 - 0s - loss: 0.1036 - accuracy: 0.9556 - val_loss: 0.4357 - val_accuracy: 0.8333 - 40ms/epoch - 13ms/step\n",
            "Epoch 16/200\n",
            "3/3 - 0s - loss: 0.2218 - accuracy: 0.9111 - val_loss: 0.0527 - val_accuracy: 1.0000 - 46ms/epoch - 15ms/step\n",
            "Epoch 17/200\n",
            "3/3 - 0s - loss: 0.1123 - accuracy: 0.9556 - val_loss: 0.0517 - val_accuracy: 1.0000 - 40ms/epoch - 13ms/step\n",
            "Epoch 18/200\n",
            "3/3 - 0s - loss: 0.0759 - accuracy: 0.9889 - val_loss: 0.2271 - val_accuracy: 0.8667 - 42ms/epoch - 14ms/step\n",
            "Epoch 19/200\n",
            "3/3 - 0s - loss: 0.1373 - accuracy: 0.9222 - val_loss: 0.1305 - val_accuracy: 0.8667 - 43ms/epoch - 14ms/step\n",
            "Epoch 20/200\n",
            "3/3 - 0s - loss: 0.0789 - accuracy: 0.9778 - val_loss: 0.0503 - val_accuracy: 1.0000 - 50ms/epoch - 17ms/step\n",
            "Epoch 21/200\n",
            "3/3 - 0s - loss: 0.1133 - accuracy: 0.9556 - val_loss: 0.0523 - val_accuracy: 1.0000 - 59ms/epoch - 20ms/step\n",
            "Epoch 22/200\n",
            "3/3 - 0s - loss: 0.0787 - accuracy: 0.9667 - val_loss: 0.1979 - val_accuracy: 0.8667 - 58ms/epoch - 19ms/step\n",
            "Epoch 23/200\n",
            "3/3 - 0s - loss: 0.1010 - accuracy: 0.9556 - val_loss: 0.0420 - val_accuracy: 1.0000 - 41ms/epoch - 14ms/step\n",
            "Epoch 24/200\n",
            "3/3 - 0s - loss: 0.1116 - accuracy: 0.9667 - val_loss: 0.0526 - val_accuracy: 0.9667 - 42ms/epoch - 14ms/step\n",
            "Epoch 25/200\n",
            "3/3 - 0s - loss: 0.1127 - accuracy: 0.9667 - val_loss: 0.1134 - val_accuracy: 0.9000 - 44ms/epoch - 15ms/step\n",
            "Epoch 26/200\n",
            "3/3 - 0s - loss: 0.0932 - accuracy: 0.9667 - val_loss: 0.0918 - val_accuracy: 0.9667 - 75ms/epoch - 25ms/step\n",
            "Epoch 27/200\n",
            "3/3 - 0s - loss: 0.0698 - accuracy: 0.9778 - val_loss: 0.0358 - val_accuracy: 1.0000 - 43ms/epoch - 14ms/step\n",
            "Epoch 28/200\n",
            "3/3 - 0s - loss: 0.1011 - accuracy: 0.9556 - val_loss: 0.0674 - val_accuracy: 1.0000 - 43ms/epoch - 14ms/step\n",
            "Epoch 29/200\n",
            "3/3 - 0s - loss: 0.0578 - accuracy: 0.9889 - val_loss: 0.5269 - val_accuracy: 0.8333 - 61ms/epoch - 20ms/step\n",
            "Epoch 30/200\n",
            "3/3 - 0s - loss: 0.2019 - accuracy: 0.9111 - val_loss: 0.0649 - val_accuracy: 0.9667 - 67ms/epoch - 22ms/step\n",
            "Epoch 31/200\n",
            "3/3 - 0s - loss: 0.1978 - accuracy: 0.9444 - val_loss: 0.4011 - val_accuracy: 0.8667 - 73ms/epoch - 24ms/step\n",
            "Epoch 32/200\n",
            "3/3 - 0s - loss: 0.3998 - accuracy: 0.8444 - val_loss: 0.0796 - val_accuracy: 1.0000 - 75ms/epoch - 25ms/step\n",
            "Epoch 33/200\n",
            "3/3 - 0s - loss: 0.1372 - accuracy: 0.9556 - val_loss: 0.2326 - val_accuracy: 0.8667 - 61ms/epoch - 20ms/step\n",
            "Epoch 34/200\n",
            "3/3 - 0s - loss: 0.1011 - accuracy: 0.9556 - val_loss: 0.1468 - val_accuracy: 0.9333 - 78ms/epoch - 26ms/step\n",
            "Epoch 35/200\n",
            "3/3 - 0s - loss: 0.2506 - accuracy: 0.8889 - val_loss: 0.1458 - val_accuracy: 0.9333 - 58ms/epoch - 19ms/step\n",
            "Epoch 36/200\n",
            "3/3 - 0s - loss: 0.1700 - accuracy: 0.9333 - val_loss: 0.0781 - val_accuracy: 1.0000 - 60ms/epoch - 20ms/step\n",
            "Epoch 37/200\n",
            "3/3 - 0s - loss: 0.1012 - accuracy: 0.9667 - val_loss: 0.3751 - val_accuracy: 0.8667 - 77ms/epoch - 26ms/step\n",
            "Epoch 38/200\n",
            "3/3 - 0s - loss: 0.2178 - accuracy: 0.9111 - val_loss: 0.1162 - val_accuracy: 0.9333 - 75ms/epoch - 25ms/step\n",
            "Epoch 39/200\n",
            "3/3 - 0s - loss: 0.1000 - accuracy: 0.9667 - val_loss: 0.0746 - val_accuracy: 0.9667 - 73ms/epoch - 24ms/step\n",
            "Epoch 40/200\n",
            "3/3 - 0s - loss: 0.1401 - accuracy: 0.9333 - val_loss: 0.0670 - val_accuracy: 0.9667 - 61ms/epoch - 20ms/step\n",
            "Epoch 41/200\n",
            "3/3 - 0s - loss: 0.1053 - accuracy: 0.9556 - val_loss: 0.0661 - val_accuracy: 1.0000 - 85ms/epoch - 28ms/step\n",
            "Epoch 42/200\n",
            "3/3 - 0s - loss: 0.0761 - accuracy: 0.9889 - val_loss: 0.1897 - val_accuracy: 0.8667 - 78ms/epoch - 26ms/step\n",
            "Epoch 43/200\n",
            "3/3 - 0s - loss: 0.1228 - accuracy: 0.9444 - val_loss: 0.0901 - val_accuracy: 1.0000 - 59ms/epoch - 20ms/step\n",
            "Epoch 44/200\n",
            "3/3 - 0s - loss: 0.0896 - accuracy: 0.9667 - val_loss: 0.0545 - val_accuracy: 0.9667 - 94ms/epoch - 31ms/step\n",
            "Epoch 45/200\n",
            "3/3 - 0s - loss: 0.1371 - accuracy: 0.9444 - val_loss: 0.0401 - val_accuracy: 1.0000 - 78ms/epoch - 26ms/step\n",
            "Epoch 46/200\n",
            "3/3 - 0s - loss: 0.0656 - accuracy: 0.9778 - val_loss: 0.4116 - val_accuracy: 0.8667 - 94ms/epoch - 31ms/step\n",
            "Epoch 47/200\n",
            "3/3 - 0s - loss: 0.2697 - accuracy: 0.9000 - val_loss: 0.2861 - val_accuracy: 0.8667 - 66ms/epoch - 22ms/step\n",
            "Epoch 48/200\n",
            "3/3 - 0s - loss: 0.1299 - accuracy: 0.9333 - val_loss: 0.0659 - val_accuracy: 1.0000 - 63ms/epoch - 21ms/step\n",
            "Epoch 49/200\n",
            "3/3 - 0s - loss: 0.0852 - accuracy: 0.9667 - val_loss: 0.0552 - val_accuracy: 1.0000 - 58ms/epoch - 19ms/step\n",
            "Epoch 50/200\n",
            "3/3 - 0s - loss: 0.0999 - accuracy: 0.9556 - val_loss: 0.0497 - val_accuracy: 1.0000 - 68ms/epoch - 23ms/step\n",
            "Epoch 51/200\n",
            "3/3 - 0s - loss: 0.0846 - accuracy: 0.9667 - val_loss: 0.0549 - val_accuracy: 1.0000 - 102ms/epoch - 34ms/step\n",
            "Epoch 52/200\n",
            "3/3 - 0s - loss: 0.0749 - accuracy: 0.9778 - val_loss: 0.0729 - val_accuracy: 1.0000 - 63ms/epoch - 21ms/step\n",
            "Epoch 53/200\n",
            "3/3 - 0s - loss: 0.0705 - accuracy: 0.9889 - val_loss: 0.0579 - val_accuracy: 1.0000 - 75ms/epoch - 25ms/step\n",
            "Epoch 54/200\n",
            "3/3 - 0s - loss: 0.0682 - accuracy: 0.9889 - val_loss: 0.0430 - val_accuracy: 1.0000 - 81ms/epoch - 27ms/step\n",
            "Epoch 55/200\n",
            "3/3 - 0s - loss: 0.0679 - accuracy: 0.9778 - val_loss: 0.0491 - val_accuracy: 1.0000 - 81ms/epoch - 27ms/step\n",
            "Epoch 56/200\n",
            "3/3 - 0s - loss: 0.0740 - accuracy: 0.9667 - val_loss: 0.1102 - val_accuracy: 0.8667 - 75ms/epoch - 25ms/step\n",
            "Epoch 57/200\n",
            "3/3 - 0s - loss: 0.0757 - accuracy: 0.9667 - val_loss: 0.0666 - val_accuracy: 1.0000 - 76ms/epoch - 25ms/step\n",
            "Epoch 58/200\n",
            "3/3 - 0s - loss: 0.0645 - accuracy: 0.9889 - val_loss: 0.0322 - val_accuracy: 1.0000 - 79ms/epoch - 26ms/step\n",
            "Epoch 59/200\n",
            "3/3 - 0s - loss: 0.0732 - accuracy: 0.9778 - val_loss: 0.0360 - val_accuracy: 1.0000 - 78ms/epoch - 26ms/step\n",
            "Epoch 60/200\n",
            "3/3 - 0s - loss: 0.0604 - accuracy: 0.9889 - val_loss: 0.1668 - val_accuracy: 0.8667 - 79ms/epoch - 26ms/step\n",
            "Epoch 61/200\n",
            "3/3 - 0s - loss: 0.0960 - accuracy: 0.9556 - val_loss: 0.0789 - val_accuracy: 1.0000 - 78ms/epoch - 26ms/step\n",
            "Epoch 62/200\n",
            "3/3 - 0s - loss: 0.0624 - accuracy: 0.9778 - val_loss: 0.0359 - val_accuracy: 1.0000 - 65ms/epoch - 22ms/step\n",
            "Epoch 63/200\n",
            "3/3 - 0s - loss: 0.1028 - accuracy: 0.9556 - val_loss: 0.0373 - val_accuracy: 0.9667 - 43ms/epoch - 14ms/step\n",
            "Epoch 64/200\n",
            "3/3 - 0s - loss: 0.0998 - accuracy: 0.9667 - val_loss: 0.0349 - val_accuracy: 1.0000 - 40ms/epoch - 13ms/step\n",
            "Epoch 65/200\n",
            "3/3 - 0s - loss: 0.0575 - accuracy: 0.9889 - val_loss: 0.0932 - val_accuracy: 0.9667 - 43ms/epoch - 14ms/step\n",
            "Epoch 66/200\n",
            "3/3 - 0s - loss: 0.0811 - accuracy: 0.9667 - val_loss: 0.0592 - val_accuracy: 1.0000 - 44ms/epoch - 15ms/step\n",
            "Epoch 67/200\n",
            "3/3 - 0s - loss: 0.0716 - accuracy: 0.9778 - val_loss: 0.0415 - val_accuracy: 0.9667 - 64ms/epoch - 21ms/step\n",
            "Epoch 68/200\n",
            "3/3 - 0s - loss: 0.1170 - accuracy: 0.9556 - val_loss: 0.0402 - val_accuracy: 0.9667 - 42ms/epoch - 14ms/step\n",
            "Epoch 69/200\n",
            "3/3 - 0s - loss: 0.0972 - accuracy: 0.9556 - val_loss: 0.0343 - val_accuracy: 1.0000 - 46ms/epoch - 15ms/step\n",
            "Epoch 70/200\n",
            "3/3 - 0s - loss: 0.0592 - accuracy: 0.9889 - val_loss: 0.1502 - val_accuracy: 0.8667 - 44ms/epoch - 15ms/step\n",
            "Epoch 71/200\n",
            "3/3 - 0s - loss: 0.0858 - accuracy: 0.9667 - val_loss: 0.0865 - val_accuracy: 1.0000 - 50ms/epoch - 17ms/step\n",
            "Epoch 72/200\n",
            "3/3 - 0s - loss: 0.0648 - accuracy: 0.9778 - val_loss: 0.0268 - val_accuracy: 1.0000 - 47ms/epoch - 16ms/step\n",
            "Epoch 73/200\n",
            "3/3 - 0s - loss: 0.0706 - accuracy: 0.9667 - val_loss: 0.0248 - val_accuracy: 1.0000 - 60ms/epoch - 20ms/step\n",
            "Epoch 74/200\n",
            "3/3 - 0s - loss: 0.0602 - accuracy: 0.9778 - val_loss: 0.0686 - val_accuracy: 1.0000 - 63ms/epoch - 21ms/step\n",
            "Epoch 75/200\n",
            "3/3 - 0s - loss: 0.0693 - accuracy: 0.9667 - val_loss: 0.0799 - val_accuracy: 1.0000 - 62ms/epoch - 21ms/step\n",
            "Epoch 76/200\n",
            "3/3 - 0s - loss: 0.0603 - accuracy: 0.9889 - val_loss: 0.0300 - val_accuracy: 1.0000 - 41ms/epoch - 14ms/step\n",
            "Epoch 77/200\n",
            "3/3 - 0s - loss: 0.0584 - accuracy: 0.9889 - val_loss: 0.0203 - val_accuracy: 1.0000 - 52ms/epoch - 17ms/step\n",
            "Epoch 78/200\n",
            "3/3 - 0s - loss: 0.0636 - accuracy: 0.9778 - val_loss: 0.0253 - val_accuracy: 1.0000 - 42ms/epoch - 14ms/step\n",
            "Epoch 79/200\n",
            "3/3 - 0s - loss: 0.0582 - accuracy: 0.9889 - val_loss: 0.0351 - val_accuracy: 1.0000 - 42ms/epoch - 14ms/step\n",
            "Epoch 80/200\n",
            "3/3 - 0s - loss: 0.0549 - accuracy: 0.9889 - val_loss: 0.0520 - val_accuracy: 1.0000 - 61ms/epoch - 20ms/step\n",
            "Epoch 81/200\n",
            "3/3 - 0s - loss: 0.0566 - accuracy: 0.9889 - val_loss: 0.0363 - val_accuracy: 1.0000 - 40ms/epoch - 13ms/step\n",
            "Epoch 82/200\n",
            "3/3 - 0s - loss: 0.0539 - accuracy: 0.9889 - val_loss: 0.0240 - val_accuracy: 1.0000 - 42ms/epoch - 14ms/step\n",
            "Epoch 83/200\n",
            "3/3 - 0s - loss: 0.0581 - accuracy: 0.9889 - val_loss: 0.0220 - val_accuracy: 1.0000 - 61ms/epoch - 20ms/step\n",
            "Epoch 84/200\n",
            "3/3 - 0s - loss: 0.0553 - accuracy: 0.9889 - val_loss: 0.0235 - val_accuracy: 1.0000 - 43ms/epoch - 14ms/step\n",
            "Epoch 85/200\n",
            "3/3 - 0s - loss: 0.0554 - accuracy: 0.9889 - val_loss: 0.0227 - val_accuracy: 1.0000 - 60ms/epoch - 20ms/step\n",
            "Epoch 86/200\n",
            "3/3 - 0s - loss: 0.0532 - accuracy: 0.9889 - val_loss: 0.0322 - val_accuracy: 1.0000 - 43ms/epoch - 14ms/step\n",
            "Epoch 87/200\n",
            "3/3 - 0s - loss: 0.0545 - accuracy: 0.9889 - val_loss: 0.0352 - val_accuracy: 1.0000 - 66ms/epoch - 22ms/step\n",
            "Epoch 88/200\n",
            "3/3 - 0s - loss: 0.0535 - accuracy: 0.9889 - val_loss: 0.0226 - val_accuracy: 1.0000 - 46ms/epoch - 15ms/step\n",
            "Epoch 89/200\n",
            "3/3 - 0s - loss: 0.0614 - accuracy: 0.9778 - val_loss: 0.0225 - val_accuracy: 1.0000 - 71ms/epoch - 24ms/step\n",
            "Epoch 90/200\n",
            "3/3 - 0s - loss: 0.0521 - accuracy: 0.9889 - val_loss: 0.1539 - val_accuracy: 0.8667 - 42ms/epoch - 14ms/step\n",
            "Epoch 91/200\n",
            "3/3 - 0s - loss: 0.1053 - accuracy: 0.9556 - val_loss: 0.0362 - val_accuracy: 1.0000 - 42ms/epoch - 14ms/step\n",
            "Epoch 92/200\n",
            "3/3 - 0s - loss: 0.0508 - accuracy: 0.9889 - val_loss: 0.0262 - val_accuracy: 1.0000 - 40ms/epoch - 13ms/step\n",
            "Epoch 93/200\n",
            "3/3 - 0s - loss: 0.0534 - accuracy: 0.9889 - val_loss: 0.0417 - val_accuracy: 1.0000 - 44ms/epoch - 15ms/step\n",
            "Epoch 94/200\n",
            "3/3 - 0s - loss: 0.0538 - accuracy: 0.9889 - val_loss: 0.0549 - val_accuracy: 1.0000 - 44ms/epoch - 15ms/step\n",
            "Epoch 95/200\n",
            "3/3 - 0s - loss: 0.0576 - accuracy: 0.9889 - val_loss: 0.0381 - val_accuracy: 1.0000 - 61ms/epoch - 20ms/step\n",
            "Epoch 96/200\n",
            "3/3 - 0s - loss: 0.0554 - accuracy: 0.9889 - val_loss: 0.0325 - val_accuracy: 1.0000 - 41ms/epoch - 14ms/step\n",
            "Epoch 97/200\n",
            "3/3 - 0s - loss: 0.0837 - accuracy: 0.9667 - val_loss: 0.0291 - val_accuracy: 1.0000 - 40ms/epoch - 13ms/step\n",
            "Epoch 98/200\n",
            "3/3 - 0s - loss: 0.0743 - accuracy: 0.9667 - val_loss: 0.0344 - val_accuracy: 1.0000 - 60ms/epoch - 20ms/step\n",
            "Epoch 99/200\n",
            "3/3 - 0s - loss: 0.0535 - accuracy: 0.9889 - val_loss: 0.0975 - val_accuracy: 0.9000 - 40ms/epoch - 13ms/step\n",
            "Epoch 100/200\n",
            "3/3 - 0s - loss: 0.0679 - accuracy: 0.9667 - val_loss: 0.0212 - val_accuracy: 1.0000 - 58ms/epoch - 19ms/step\n",
            "Epoch 101/200\n",
            "3/3 - 0s - loss: 0.0905 - accuracy: 0.9667 - val_loss: 0.0704 - val_accuracy: 0.9667 - 41ms/epoch - 14ms/step\n",
            "Epoch 102/200\n",
            "3/3 - 0s - loss: 0.1550 - accuracy: 0.9444 - val_loss: 0.0318 - val_accuracy: 1.0000 - 63ms/epoch - 21ms/step\n",
            "Epoch 103/200\n",
            "3/3 - 0s - loss: 0.0537 - accuracy: 0.9889 - val_loss: 0.2009 - val_accuracy: 0.8667 - 45ms/epoch - 15ms/step\n",
            "Epoch 104/200\n",
            "3/3 - 0s - loss: 0.1165 - accuracy: 0.9667 - val_loss: 0.0496 - val_accuracy: 1.0000 - 68ms/epoch - 23ms/step\n",
            "Epoch 105/200\n",
            "3/3 - 0s - loss: 0.0470 - accuracy: 0.9889 - val_loss: 0.0963 - val_accuracy: 0.9667 - 47ms/epoch - 16ms/step\n",
            "Epoch 106/200\n",
            "3/3 - 0s - loss: 0.2093 - accuracy: 0.9000 - val_loss: 0.1061 - val_accuracy: 0.9333 - 68ms/epoch - 23ms/step\n",
            "Epoch 107/200\n",
            "3/3 - 0s - loss: 0.1570 - accuracy: 0.9333 - val_loss: 0.0573 - val_accuracy: 1.0000 - 58ms/epoch - 19ms/step\n",
            "Epoch 108/200\n",
            "3/3 - 0s - loss: 0.0817 - accuracy: 0.9778 - val_loss: 0.1537 - val_accuracy: 0.8667 - 44ms/epoch - 15ms/step\n",
            "Epoch 109/200\n",
            "3/3 - 0s - loss: 0.1131 - accuracy: 0.9444 - val_loss: 0.1109 - val_accuracy: 0.9667 - 60ms/epoch - 20ms/step\n",
            "Epoch 110/200\n",
            "3/3 - 0s - loss: 0.0795 - accuracy: 0.9778 - val_loss: 0.0521 - val_accuracy: 1.0000 - 64ms/epoch - 21ms/step\n",
            "Epoch 111/200\n",
            "3/3 - 0s - loss: 0.0789 - accuracy: 0.9667 - val_loss: 0.0462 - val_accuracy: 0.9667 - 45ms/epoch - 15ms/step\n",
            "Epoch 112/200\n",
            "3/3 - 0s - loss: 0.0900 - accuracy: 0.9556 - val_loss: 0.0372 - val_accuracy: 1.0000 - 42ms/epoch - 14ms/step\n",
            "Epoch 113/200\n",
            "3/3 - 0s - loss: 0.0632 - accuracy: 0.9778 - val_loss: 0.1004 - val_accuracy: 0.9333 - 44ms/epoch - 15ms/step\n",
            "Epoch 114/200\n",
            "3/3 - 0s - loss: 0.0824 - accuracy: 0.9667 - val_loss: 0.1172 - val_accuracy: 0.8667 - 48ms/epoch - 16ms/step\n",
            "Epoch 115/200\n",
            "3/3 - 0s - loss: 0.0648 - accuracy: 0.9778 - val_loss: 0.0275 - val_accuracy: 1.0000 - 61ms/epoch - 20ms/step\n",
            "Epoch 116/200\n",
            "3/3 - 0s - loss: 0.0680 - accuracy: 0.9889 - val_loss: 0.0247 - val_accuracy: 1.0000 - 43ms/epoch - 14ms/step\n",
            "Epoch 117/200\n",
            "3/3 - 0s - loss: 0.0732 - accuracy: 0.9667 - val_loss: 0.0318 - val_accuracy: 1.0000 - 47ms/epoch - 16ms/step\n",
            "Epoch 118/200\n",
            "3/3 - 0s - loss: 0.0547 - accuracy: 0.9889 - val_loss: 0.0830 - val_accuracy: 1.0000 - 40ms/epoch - 13ms/step\n",
            "Epoch 119/200\n",
            "3/3 - 0s - loss: 0.0692 - accuracy: 0.9667 - val_loss: 0.0379 - val_accuracy: 1.0000 - 41ms/epoch - 14ms/step\n",
            "Epoch 120/200\n",
            "3/3 - 0s - loss: 0.0595 - accuracy: 0.9667 - val_loss: 0.0347 - val_accuracy: 1.0000 - 40ms/epoch - 13ms/step\n",
            "Epoch 121/200\n",
            "3/3 - 0s - loss: 0.0951 - accuracy: 0.9556 - val_loss: 0.0342 - val_accuracy: 1.0000 - 50ms/epoch - 17ms/step\n",
            "Epoch 122/200\n",
            "3/3 - 0s - loss: 0.0809 - accuracy: 0.9667 - val_loss: 0.0332 - val_accuracy: 1.0000 - 59ms/epoch - 20ms/step\n",
            "Epoch 123/200\n",
            "3/3 - 0s - loss: 0.0545 - accuracy: 0.9889 - val_loss: 0.1410 - val_accuracy: 0.8667 - 44ms/epoch - 15ms/step\n",
            "Epoch 124/200\n",
            "3/3 - 0s - loss: 0.0950 - accuracy: 0.9667 - val_loss: 0.0505 - val_accuracy: 1.0000 - 65ms/epoch - 22ms/step\n",
            "Epoch 125/200\n",
            "3/3 - 0s - loss: 0.0640 - accuracy: 0.9889 - val_loss: 0.0317 - val_accuracy: 1.0000 - 64ms/epoch - 21ms/step\n",
            "Epoch 126/200\n",
            "3/3 - 0s - loss: 0.0828 - accuracy: 0.9667 - val_loss: 0.0340 - val_accuracy: 1.0000 - 43ms/epoch - 14ms/step\n",
            "Epoch 127/200\n",
            "3/3 - 0s - loss: 0.0712 - accuracy: 0.9667 - val_loss: 0.0459 - val_accuracy: 1.0000 - 43ms/epoch - 14ms/step\n",
            "Epoch 128/200\n",
            "3/3 - 0s - loss: 0.0536 - accuracy: 0.9889 - val_loss: 0.0643 - val_accuracy: 1.0000 - 41ms/epoch - 14ms/step\n",
            "Epoch 129/200\n",
            "3/3 - 0s - loss: 0.0616 - accuracy: 0.9778 - val_loss: 0.0534 - val_accuracy: 1.0000 - 50ms/epoch - 17ms/step\n",
            "Epoch 130/200\n",
            "3/3 - 0s - loss: 0.0551 - accuracy: 0.9889 - val_loss: 0.0296 - val_accuracy: 1.0000 - 60ms/epoch - 20ms/step\n",
            "Epoch 131/200\n",
            "3/3 - 0s - loss: 0.0565 - accuracy: 0.9889 - val_loss: 0.0257 - val_accuracy: 1.0000 - 43ms/epoch - 14ms/step\n",
            "Epoch 132/200\n",
            "3/3 - 0s - loss: 0.0536 - accuracy: 0.9889 - val_loss: 0.0272 - val_accuracy: 1.0000 - 62ms/epoch - 21ms/step\n",
            "Epoch 133/200\n",
            "3/3 - 0s - loss: 0.0498 - accuracy: 0.9889 - val_loss: 0.0245 - val_accuracy: 1.0000 - 64ms/epoch - 21ms/step\n",
            "Epoch 134/200\n",
            "3/3 - 0s - loss: 0.0492 - accuracy: 0.9889 - val_loss: 0.0235 - val_accuracy: 1.0000 - 41ms/epoch - 14ms/step\n",
            "Epoch 135/200\n",
            "3/3 - 0s - loss: 0.0485 - accuracy: 0.9889 - val_loss: 0.0228 - val_accuracy: 1.0000 - 50ms/epoch - 17ms/step\n",
            "Epoch 136/200\n",
            "3/3 - 0s - loss: 0.0491 - accuracy: 0.9889 - val_loss: 0.0224 - val_accuracy: 1.0000 - 46ms/epoch - 15ms/step\n",
            "Epoch 137/200\n",
            "3/3 - 0s - loss: 0.0486 - accuracy: 0.9889 - val_loss: 0.0198 - val_accuracy: 1.0000 - 68ms/epoch - 23ms/step\n",
            "Epoch 138/200\n",
            "3/3 - 0s - loss: 0.0486 - accuracy: 0.9889 - val_loss: 0.0195 - val_accuracy: 1.0000 - 46ms/epoch - 15ms/step\n",
            "Epoch 139/200\n",
            "3/3 - 0s - loss: 0.0483 - accuracy: 0.9889 - val_loss: 0.0195 - val_accuracy: 1.0000 - 45ms/epoch - 15ms/step\n",
            "Epoch 140/200\n",
            "3/3 - 0s - loss: 0.0497 - accuracy: 0.9889 - val_loss: 0.0203 - val_accuracy: 1.0000 - 60ms/epoch - 20ms/step\n",
            "Epoch 141/200\n",
            "3/3 - 0s - loss: 0.0478 - accuracy: 0.9889 - val_loss: 0.0173 - val_accuracy: 1.0000 - 40ms/epoch - 13ms/step\n",
            "Epoch 142/200\n",
            "3/3 - 0s - loss: 0.0498 - accuracy: 0.9889 - val_loss: 0.0179 - val_accuracy: 1.0000 - 66ms/epoch - 22ms/step\n",
            "Epoch 143/200\n",
            "3/3 - 0s - loss: 0.0508 - accuracy: 0.9889 - val_loss: 0.0151 - val_accuracy: 1.0000 - 58ms/epoch - 19ms/step\n",
            "Epoch 144/200\n",
            "3/3 - 0s - loss: 0.0683 - accuracy: 0.9778 - val_loss: 0.0143 - val_accuracy: 1.0000 - 42ms/epoch - 14ms/step\n",
            "Epoch 145/200\n",
            "3/3 - 0s - loss: 0.0514 - accuracy: 0.9889 - val_loss: 0.2626 - val_accuracy: 0.8667 - 44ms/epoch - 15ms/step\n",
            "Epoch 146/200\n",
            "3/3 - 0s - loss: 0.1195 - accuracy: 0.9444 - val_loss: 0.0350 - val_accuracy: 1.0000 - 43ms/epoch - 14ms/step\n",
            "Epoch 147/200\n",
            "3/3 - 0s - loss: 0.0518 - accuracy: 0.9889 - val_loss: 0.0205 - val_accuracy: 1.0000 - 64ms/epoch - 21ms/step\n",
            "Epoch 148/200\n",
            "3/3 - 0s - loss: 0.0651 - accuracy: 0.9667 - val_loss: 0.0260 - val_accuracy: 1.0000 - 40ms/epoch - 13ms/step\n",
            "Epoch 149/200\n",
            "3/3 - 0s - loss: 0.0555 - accuracy: 0.9889 - val_loss: 0.1516 - val_accuracy: 0.8667 - 41ms/epoch - 14ms/step\n",
            "Epoch 150/200\n",
            "3/3 - 0s - loss: 0.0829 - accuracy: 0.9667 - val_loss: 0.0435 - val_accuracy: 1.0000 - 43ms/epoch - 14ms/step\n",
            "Epoch 151/200\n",
            "3/3 - 0s - loss: 0.0505 - accuracy: 0.9889 - val_loss: 0.0260 - val_accuracy: 1.0000 - 47ms/epoch - 16ms/step\n",
            "Epoch 152/200\n",
            "3/3 - 0s - loss: 0.0643 - accuracy: 0.9667 - val_loss: 0.0246 - val_accuracy: 1.0000 - 58ms/epoch - 19ms/step\n",
            "Epoch 153/200\n",
            "3/3 - 0s - loss: 0.0581 - accuracy: 0.9778 - val_loss: 0.0293 - val_accuracy: 1.0000 - 60ms/epoch - 20ms/step\n",
            "Epoch 154/200\n",
            "3/3 - 0s - loss: 0.0474 - accuracy: 0.9889 - val_loss: 0.0758 - val_accuracy: 1.0000 - 45ms/epoch - 15ms/step\n",
            "Epoch 155/200\n",
            "3/3 - 0s - loss: 0.0647 - accuracy: 0.9667 - val_loss: 0.0346 - val_accuracy: 1.0000 - 41ms/epoch - 14ms/step\n",
            "Epoch 156/200\n",
            "3/3 - 0s - loss: 0.0479 - accuracy: 0.9889 - val_loss: 0.0184 - val_accuracy: 1.0000 - 44ms/epoch - 15ms/step\n",
            "Epoch 157/200\n",
            "3/3 - 0s - loss: 0.0475 - accuracy: 0.9889 - val_loss: 0.0192 - val_accuracy: 1.0000 - 47ms/epoch - 16ms/step\n",
            "Epoch 158/200\n",
            "3/3 - 0s - loss: 0.0470 - accuracy: 0.9889 - val_loss: 0.0169 - val_accuracy: 1.0000 - 59ms/epoch - 20ms/step\n",
            "Epoch 159/200\n",
            "3/3 - 0s - loss: 0.0473 - accuracy: 0.9889 - val_loss: 0.0130 - val_accuracy: 1.0000 - 60ms/epoch - 20ms/step\n",
            "Epoch 160/200\n",
            "3/3 - 0s - loss: 0.0511 - accuracy: 0.9889 - val_loss: 0.0152 - val_accuracy: 1.0000 - 47ms/epoch - 16ms/step\n",
            "Epoch 161/200\n",
            "3/3 - 0s - loss: 0.0467 - accuracy: 0.9889 - val_loss: 0.0240 - val_accuracy: 1.0000 - 53ms/epoch - 18ms/step\n",
            "Epoch 162/200\n",
            "3/3 - 0s - loss: 0.0481 - accuracy: 0.9889 - val_loss: 0.0198 - val_accuracy: 1.0000 - 50ms/epoch - 17ms/step\n",
            "Epoch 163/200\n",
            "3/3 - 0s - loss: 0.0502 - accuracy: 0.9889 - val_loss: 0.0161 - val_accuracy: 1.0000 - 68ms/epoch - 23ms/step\n",
            "Epoch 164/200\n",
            "3/3 - 0s - loss: 0.0447 - accuracy: 0.9889 - val_loss: 0.0533 - val_accuracy: 1.0000 - 62ms/epoch - 21ms/step\n",
            "Epoch 165/200\n",
            "3/3 - 0s - loss: 0.0528 - accuracy: 0.9778 - val_loss: 0.0506 - val_accuracy: 1.0000 - 45ms/epoch - 15ms/step\n",
            "Epoch 166/200\n",
            "3/3 - 0s - loss: 0.0515 - accuracy: 0.9778 - val_loss: 0.0237 - val_accuracy: 1.0000 - 50ms/epoch - 17ms/step\n",
            "Epoch 167/200\n",
            "3/3 - 0s - loss: 0.0496 - accuracy: 0.9889 - val_loss: 0.0239 - val_accuracy: 1.0000 - 63ms/epoch - 21ms/step\n",
            "Epoch 168/200\n",
            "3/3 - 0s - loss: 0.0465 - accuracy: 0.9889 - val_loss: 0.0567 - val_accuracy: 1.0000 - 43ms/epoch - 14ms/step\n",
            "Epoch 169/200\n",
            "3/3 - 0s - loss: 0.0517 - accuracy: 0.9778 - val_loss: 0.0357 - val_accuracy: 1.0000 - 46ms/epoch - 15ms/step\n",
            "Epoch 170/200\n",
            "3/3 - 0s - loss: 0.0446 - accuracy: 0.9889 - val_loss: 0.0232 - val_accuracy: 1.0000 - 65ms/epoch - 22ms/step\n",
            "Epoch 171/200\n",
            "3/3 - 0s - loss: 0.0472 - accuracy: 0.9889 - val_loss: 0.0202 - val_accuracy: 1.0000 - 60ms/epoch - 20ms/step\n",
            "Epoch 172/200\n",
            "3/3 - 0s - loss: 0.0473 - accuracy: 0.9889 - val_loss: 0.0223 - val_accuracy: 1.0000 - 42ms/epoch - 14ms/step\n",
            "Epoch 173/200\n",
            "3/3 - 0s - loss: 0.0443 - accuracy: 0.9889 - val_loss: 0.0290 - val_accuracy: 1.0000 - 42ms/epoch - 14ms/step\n",
            "Epoch 174/200\n",
            "3/3 - 0s - loss: 0.0465 - accuracy: 0.9889 - val_loss: 0.0287 - val_accuracy: 1.0000 - 46ms/epoch - 15ms/step\n",
            "Epoch 175/200\n",
            "3/3 - 0s - loss: 0.0467 - accuracy: 0.9889 - val_loss: 0.0552 - val_accuracy: 1.0000 - 60ms/epoch - 20ms/step\n",
            "Epoch 176/200\n",
            "3/3 - 0s - loss: 0.0505 - accuracy: 0.9778 - val_loss: 0.0321 - val_accuracy: 1.0000 - 46ms/epoch - 15ms/step\n",
            "Epoch 177/200\n",
            "3/3 - 0s - loss: 0.0446 - accuracy: 0.9889 - val_loss: 0.0290 - val_accuracy: 1.0000 - 51ms/epoch - 17ms/step\n",
            "Epoch 178/200\n",
            "3/3 - 0s - loss: 0.0499 - accuracy: 0.9889 - val_loss: 0.0310 - val_accuracy: 1.0000 - 65ms/epoch - 22ms/step\n",
            "Epoch 179/200\n",
            "3/3 - 0s - loss: 0.0481 - accuracy: 0.9889 - val_loss: 0.0330 - val_accuracy: 1.0000 - 51ms/epoch - 17ms/step\n",
            "Epoch 180/200\n",
            "3/3 - 0s - loss: 0.0453 - accuracy: 0.9889 - val_loss: 0.0331 - val_accuracy: 1.0000 - 43ms/epoch - 14ms/step\n",
            "Epoch 181/200\n",
            "3/3 - 0s - loss: 0.0437 - accuracy: 0.9889 - val_loss: 0.0263 - val_accuracy: 1.0000 - 43ms/epoch - 14ms/step\n",
            "Epoch 182/200\n",
            "3/3 - 0s - loss: 0.0452 - accuracy: 0.9889 - val_loss: 0.0329 - val_accuracy: 1.0000 - 62ms/epoch - 21ms/step\n",
            "Epoch 183/200\n",
            "3/3 - 0s - loss: 0.0486 - accuracy: 0.9778 - val_loss: 0.0752 - val_accuracy: 1.0000 - 44ms/epoch - 15ms/step\n",
            "Epoch 184/200\n",
            "3/3 - 0s - loss: 0.0540 - accuracy: 0.9889 - val_loss: 0.0250 - val_accuracy: 1.0000 - 44ms/epoch - 15ms/step\n",
            "Epoch 185/200\n",
            "3/3 - 0s - loss: 0.0446 - accuracy: 0.9889 - val_loss: 0.0265 - val_accuracy: 1.0000 - 66ms/epoch - 22ms/step\n",
            "Epoch 186/200\n",
            "3/3 - 0s - loss: 0.0476 - accuracy: 0.9889 - val_loss: 0.0292 - val_accuracy: 1.0000 - 52ms/epoch - 17ms/step\n",
            "Epoch 187/200\n",
            "3/3 - 0s - loss: 0.0460 - accuracy: 0.9889 - val_loss: 0.0287 - val_accuracy: 1.0000 - 61ms/epoch - 20ms/step\n",
            "Epoch 188/200\n",
            "3/3 - 0s - loss: 0.0445 - accuracy: 0.9889 - val_loss: 0.0287 - val_accuracy: 1.0000 - 60ms/epoch - 20ms/step\n",
            "Epoch 189/200\n",
            "3/3 - 0s - loss: 0.0446 - accuracy: 0.9889 - val_loss: 0.0317 - val_accuracy: 1.0000 - 43ms/epoch - 14ms/step\n",
            "Epoch 190/200\n",
            "3/3 - 0s - loss: 0.0492 - accuracy: 0.9778 - val_loss: 0.0410 - val_accuracy: 1.0000 - 44ms/epoch - 15ms/step\n",
            "Epoch 191/200\n",
            "3/3 - 0s - loss: 0.0462 - accuracy: 0.9889 - val_loss: 0.0243 - val_accuracy: 1.0000 - 45ms/epoch - 15ms/step\n",
            "Epoch 192/200\n",
            "3/3 - 0s - loss: 0.0477 - accuracy: 0.9889 - val_loss: 0.0216 - val_accuracy: 1.0000 - 62ms/epoch - 21ms/step\n",
            "Epoch 193/200\n",
            "3/3 - 0s - loss: 0.0471 - accuracy: 0.9889 - val_loss: 0.0240 - val_accuracy: 1.0000 - 42ms/epoch - 14ms/step\n",
            "Epoch 194/200\n",
            "3/3 - 0s - loss: 0.0460 - accuracy: 0.9889 - val_loss: 0.0218 - val_accuracy: 1.0000 - 44ms/epoch - 15ms/step\n",
            "Epoch 195/200\n",
            "3/3 - 0s - loss: 0.0500 - accuracy: 0.9778 - val_loss: 0.0198 - val_accuracy: 1.0000 - 66ms/epoch - 22ms/step\n",
            "Epoch 196/200\n",
            "3/3 - 0s - loss: 0.0469 - accuracy: 0.9889 - val_loss: 0.1790 - val_accuracy: 0.8667 - 53ms/epoch - 18ms/step\n",
            "Epoch 197/200\n",
            "3/3 - 0s - loss: 0.0711 - accuracy: 0.9778 - val_loss: 0.0188 - val_accuracy: 1.0000 - 52ms/epoch - 17ms/step\n",
            "Epoch 198/200\n",
            "3/3 - 0s - loss: 0.0498 - accuracy: 0.9778 - val_loss: 0.0183 - val_accuracy: 1.0000 - 44ms/epoch - 15ms/step\n",
            "Epoch 199/200\n",
            "3/3 - 0s - loss: 0.0452 - accuracy: 0.9889 - val_loss: 0.1690 - val_accuracy: 0.8667 - 59ms/epoch - 20ms/step\n",
            "Epoch 200/200\n",
            "3/3 - 0s - loss: 0.0722 - accuracy: 0.9778 - val_loss: 0.0209 - val_accuracy: 1.0000 - 44ms/epoch - 15ms/step\n"
          ]
        }
      ]
    },
    {
      "cell_type": "code",
      "source": [
        "%matplotlib inline\n",
        "%config InlineBackend.figure_format = 'svg'\n",
        "\n",
        "def plot_metric(history, metric):\n",
        "    train_metrics = history.history[metric]\n",
        "    val_metrics = history.history['val_'+metric]\n",
        "    epochs = range(1, len(train_metrics) + 1)\n",
        "    plt.plot(epochs, train_metrics)\n",
        "    plt.plot(epochs, val_metrics)\n",
        "    plt.title('Training and validation '+ metric)\n",
        "    plt.xlabel(\"Epochs\")\n",
        "    plt.ylabel(metric)\n",
        "    plt.legend([\"train_\"+metric, 'val_'+metric])\n",
        "    plt.show()"
      ],
      "metadata": {
        "id": "GaXeFUh6Z8Zz"
      },
      "execution_count": null,
      "outputs": []
    },
    {
      "cell_type": "code",
      "source": [
        "plot_metric(history, 'loss')"
      ],
      "metadata": {
        "colab": {
          "base_uri": "https://localhost:8080/",
          "height": 456
        },
        "id": "ty2zaiPwapS8",
        "outputId": "f21512b1-adb2-42c1-9dcf-158e844e1ce8"
      },
      "execution_count": null,
      "outputs": [
        {
          "output_type": "display_data",
          "data": {
            "text/plain": [
              "<Figure size 640x480 with 1 Axes>"
            ],
            "image/svg+xml": "<?xml version=\"1.0\" encoding=\"utf-8\" standalone=\"no\"?>\n<!DOCTYPE svg PUBLIC \"-//W3C//DTD SVG 1.1//EN\"\n  \"http://www.w3.org/Graphics/SVG/1.1/DTD/svg11.dtd\">\n<svg xmlns:xlink=\"http://www.w3.org/1999/xlink\" width=\"408.10125pt\" height=\"325.986375pt\" viewBox=\"0 0 408.10125 325.986375\" xmlns=\"http://www.w3.org/2000/svg\" version=\"1.1\">\n <metadata>\n  <rdf:RDF xmlns:dc=\"http://purl.org/dc/elements/1.1/\" xmlns:cc=\"http://creativecommons.org/ns#\" xmlns:rdf=\"http://www.w3.org/1999/02/22-rdf-syntax-ns#\">\n   <cc:Work>\n    <dc:type rdf:resource=\"http://purl.org/dc/dcmitype/StillImage\"/>\n    <dc:date>2023-04-12T07:43:03.680582</dc:date>\n    <dc:format>image/svg+xml</dc:format>\n    <dc:creator>\n     <cc:Agent>\n      <dc:title>Matplotlib v3.7.1, https://matplotlib.org/</dc:title>\n     </cc:Agent>\n    </dc:creator>\n   </cc:Work>\n  </rdf:RDF>\n </metadata>\n <defs>\n  <style type=\"text/css\">*{stroke-linejoin: round; stroke-linecap: butt}</style>\n </defs>\n <g id=\"figure_1\">\n  <g id=\"patch_1\">\n   <path d=\"M 0 325.986375 \nL 408.10125 325.986375 \nL 408.10125 0 \nL 0 0 \nz\n\" style=\"fill: #ffffff\"/>\n  </g>\n  <g id=\"axes_1\">\n   <g id=\"patch_2\">\n    <path d=\"M 43.78125 288.430125 \nL 400.90125 288.430125 \nL 400.90125 22.318125 \nL 43.78125 22.318125 \nz\n\" style=\"fill: #ffffff\"/>\n   </g>\n   <g id=\"matplotlib.axis_1\">\n    <g id=\"xtick_1\">\n     <g id=\"line2d_1\">\n      <defs>\n       <path id=\"m57a883f6b5\" d=\"M 0 0 \nL 0 3.5 \n\" style=\"stroke: #000000; stroke-width: 0.8\"/>\n      </defs>\n      <g>\n       <use xlink:href=\"#m57a883f6b5\" x=\"58.382547\" y=\"288.430125\" style=\"stroke: #000000; stroke-width: 0.8\"/>\n      </g>\n     </g>\n     <g id=\"text_1\">\n      <!-- 0 -->\n      <g transform=\"translate(55.201297 303.028562) scale(0.1 -0.1)\">\n       <defs>\n        <path id=\"DejaVuSans-30\" d=\"M 2034 4250 \nQ 1547 4250 1301 3770 \nQ 1056 3291 1056 2328 \nQ 1056 1369 1301 889 \nQ 1547 409 2034 409 \nQ 2525 409 2770 889 \nQ 3016 1369 3016 2328 \nQ 3016 3291 2770 3770 \nQ 2525 4250 2034 4250 \nz\nM 2034 4750 \nQ 2819 4750 3233 4129 \nQ 3647 3509 3647 2328 \nQ 3647 1150 3233 529 \nQ 2819 -91 2034 -91 \nQ 1250 -91 836 529 \nQ 422 1150 422 2328 \nQ 422 3509 836 4129 \nQ 1250 4750 2034 4750 \nz\n\" transform=\"scale(0.015625)\"/>\n       </defs>\n       <use xlink:href=\"#DejaVuSans-30\"/>\n      </g>\n     </g>\n    </g>\n    <g id=\"xtick_2\">\n     <g id=\"line2d_2\">\n      <g>\n       <use xlink:href=\"#m57a883f6b5\" x=\"99.168294\" y=\"288.430125\" style=\"stroke: #000000; stroke-width: 0.8\"/>\n      </g>\n     </g>\n     <g id=\"text_2\">\n      <!-- 25 -->\n      <g transform=\"translate(92.805794 303.028562) scale(0.1 -0.1)\">\n       <defs>\n        <path id=\"DejaVuSans-32\" d=\"M 1228 531 \nL 3431 531 \nL 3431 0 \nL 469 0 \nL 469 531 \nQ 828 903 1448 1529 \nQ 2069 2156 2228 2338 \nQ 2531 2678 2651 2914 \nQ 2772 3150 2772 3378 \nQ 2772 3750 2511 3984 \nQ 2250 4219 1831 4219 \nQ 1534 4219 1204 4116 \nQ 875 4013 500 3803 \nL 500 4441 \nQ 881 4594 1212 4672 \nQ 1544 4750 1819 4750 \nQ 2544 4750 2975 4387 \nQ 3406 4025 3406 3419 \nQ 3406 3131 3298 2873 \nQ 3191 2616 2906 2266 \nQ 2828 2175 2409 1742 \nQ 1991 1309 1228 531 \nz\n\" transform=\"scale(0.015625)\"/>\n        <path id=\"DejaVuSans-35\" d=\"M 691 4666 \nL 3169 4666 \nL 3169 4134 \nL 1269 4134 \nL 1269 2991 \nQ 1406 3038 1543 3061 \nQ 1681 3084 1819 3084 \nQ 2600 3084 3056 2656 \nQ 3513 2228 3513 1497 \nQ 3513 744 3044 326 \nQ 2575 -91 1722 -91 \nQ 1428 -91 1123 -41 \nQ 819 9 494 109 \nL 494 744 \nQ 775 591 1075 516 \nQ 1375 441 1709 441 \nQ 2250 441 2565 725 \nQ 2881 1009 2881 1497 \nQ 2881 1984 2565 2268 \nQ 2250 2553 1709 2553 \nQ 1456 2553 1204 2497 \nQ 953 2441 691 2322 \nL 691 4666 \nz\n\" transform=\"scale(0.015625)\"/>\n       </defs>\n       <use xlink:href=\"#DejaVuSans-32\"/>\n       <use xlink:href=\"#DejaVuSans-35\" x=\"63.623047\"/>\n      </g>\n     </g>\n    </g>\n    <g id=\"xtick_3\">\n     <g id=\"line2d_3\">\n      <g>\n       <use xlink:href=\"#m57a883f6b5\" x=\"139.954041\" y=\"288.430125\" style=\"stroke: #000000; stroke-width: 0.8\"/>\n      </g>\n     </g>\n     <g id=\"text_3\">\n      <!-- 50 -->\n      <g transform=\"translate(133.591541 303.028562) scale(0.1 -0.1)\">\n       <use xlink:href=\"#DejaVuSans-35\"/>\n       <use xlink:href=\"#DejaVuSans-30\" x=\"63.623047\"/>\n      </g>\n     </g>\n    </g>\n    <g id=\"xtick_4\">\n     <g id=\"line2d_4\">\n      <g>\n       <use xlink:href=\"#m57a883f6b5\" x=\"180.739788\" y=\"288.430125\" style=\"stroke: #000000; stroke-width: 0.8\"/>\n      </g>\n     </g>\n     <g id=\"text_4\">\n      <!-- 75 -->\n      <g transform=\"translate(174.377288 303.028562) scale(0.1 -0.1)\">\n       <defs>\n        <path id=\"DejaVuSans-37\" d=\"M 525 4666 \nL 3525 4666 \nL 3525 4397 \nL 1831 0 \nL 1172 0 \nL 2766 4134 \nL 525 4134 \nL 525 4666 \nz\n\" transform=\"scale(0.015625)\"/>\n       </defs>\n       <use xlink:href=\"#DejaVuSans-37\"/>\n       <use xlink:href=\"#DejaVuSans-35\" x=\"63.623047\"/>\n      </g>\n     </g>\n    </g>\n    <g id=\"xtick_5\">\n     <g id=\"line2d_5\">\n      <g>\n       <use xlink:href=\"#m57a883f6b5\" x=\"221.525535\" y=\"288.430125\" style=\"stroke: #000000; stroke-width: 0.8\"/>\n      </g>\n     </g>\n     <g id=\"text_5\">\n      <!-- 100 -->\n      <g transform=\"translate(211.981785 303.028562) scale(0.1 -0.1)\">\n       <defs>\n        <path id=\"DejaVuSans-31\" d=\"M 794 531 \nL 1825 531 \nL 1825 4091 \nL 703 3866 \nL 703 4441 \nL 1819 4666 \nL 2450 4666 \nL 2450 531 \nL 3481 531 \nL 3481 0 \nL 794 0 \nL 794 531 \nz\n\" transform=\"scale(0.015625)\"/>\n       </defs>\n       <use xlink:href=\"#DejaVuSans-31\"/>\n       <use xlink:href=\"#DejaVuSans-30\" x=\"63.623047\"/>\n       <use xlink:href=\"#DejaVuSans-30\" x=\"127.246094\"/>\n      </g>\n     </g>\n    </g>\n    <g id=\"xtick_6\">\n     <g id=\"line2d_6\">\n      <g>\n       <use xlink:href=\"#m57a883f6b5\" x=\"262.311282\" y=\"288.430125\" style=\"stroke: #000000; stroke-width: 0.8\"/>\n      </g>\n     </g>\n     <g id=\"text_6\">\n      <!-- 125 -->\n      <g transform=\"translate(252.767532 303.028562) scale(0.1 -0.1)\">\n       <use xlink:href=\"#DejaVuSans-31\"/>\n       <use xlink:href=\"#DejaVuSans-32\" x=\"63.623047\"/>\n       <use xlink:href=\"#DejaVuSans-35\" x=\"127.246094\"/>\n      </g>\n     </g>\n    </g>\n    <g id=\"xtick_7\">\n     <g id=\"line2d_7\">\n      <g>\n       <use xlink:href=\"#m57a883f6b5\" x=\"303.097029\" y=\"288.430125\" style=\"stroke: #000000; stroke-width: 0.8\"/>\n      </g>\n     </g>\n     <g id=\"text_7\">\n      <!-- 150 -->\n      <g transform=\"translate(293.553279 303.028562) scale(0.1 -0.1)\">\n       <use xlink:href=\"#DejaVuSans-31\"/>\n       <use xlink:href=\"#DejaVuSans-35\" x=\"63.623047\"/>\n       <use xlink:href=\"#DejaVuSans-30\" x=\"127.246094\"/>\n      </g>\n     </g>\n    </g>\n    <g id=\"xtick_8\">\n     <g id=\"line2d_8\">\n      <g>\n       <use xlink:href=\"#m57a883f6b5\" x=\"343.882776\" y=\"288.430125\" style=\"stroke: #000000; stroke-width: 0.8\"/>\n      </g>\n     </g>\n     <g id=\"text_8\">\n      <!-- 175 -->\n      <g transform=\"translate(334.339026 303.028562) scale(0.1 -0.1)\">\n       <use xlink:href=\"#DejaVuSans-31\"/>\n       <use xlink:href=\"#DejaVuSans-37\" x=\"63.623047\"/>\n       <use xlink:href=\"#DejaVuSans-35\" x=\"127.246094\"/>\n      </g>\n     </g>\n    </g>\n    <g id=\"xtick_9\">\n     <g id=\"line2d_9\">\n      <g>\n       <use xlink:href=\"#m57a883f6b5\" x=\"384.668523\" y=\"288.430125\" style=\"stroke: #000000; stroke-width: 0.8\"/>\n      </g>\n     </g>\n     <g id=\"text_9\">\n      <!-- 200 -->\n      <g transform=\"translate(375.124773 303.028562) scale(0.1 -0.1)\">\n       <use xlink:href=\"#DejaVuSans-32\"/>\n       <use xlink:href=\"#DejaVuSans-30\" x=\"63.623047\"/>\n       <use xlink:href=\"#DejaVuSans-30\" x=\"127.246094\"/>\n      </g>\n     </g>\n    </g>\n    <g id=\"text_10\">\n     <!-- Epochs -->\n     <g transform=\"translate(204.425625 316.706687) scale(0.1 -0.1)\">\n      <defs>\n       <path id=\"DejaVuSans-45\" d=\"M 628 4666 \nL 3578 4666 \nL 3578 4134 \nL 1259 4134 \nL 1259 2753 \nL 3481 2753 \nL 3481 2222 \nL 1259 2222 \nL 1259 531 \nL 3634 531 \nL 3634 0 \nL 628 0 \nL 628 4666 \nz\n\" transform=\"scale(0.015625)\"/>\n       <path id=\"DejaVuSans-70\" d=\"M 1159 525 \nL 1159 -1331 \nL 581 -1331 \nL 581 3500 \nL 1159 3500 \nL 1159 2969 \nQ 1341 3281 1617 3432 \nQ 1894 3584 2278 3584 \nQ 2916 3584 3314 3078 \nQ 3713 2572 3713 1747 \nQ 3713 922 3314 415 \nQ 2916 -91 2278 -91 \nQ 1894 -91 1617 61 \nQ 1341 213 1159 525 \nz\nM 3116 1747 \nQ 3116 2381 2855 2742 \nQ 2594 3103 2138 3103 \nQ 1681 3103 1420 2742 \nQ 1159 2381 1159 1747 \nQ 1159 1113 1420 752 \nQ 1681 391 2138 391 \nQ 2594 391 2855 752 \nQ 3116 1113 3116 1747 \nz\n\" transform=\"scale(0.015625)\"/>\n       <path id=\"DejaVuSans-6f\" d=\"M 1959 3097 \nQ 1497 3097 1228 2736 \nQ 959 2375 959 1747 \nQ 959 1119 1226 758 \nQ 1494 397 1959 397 \nQ 2419 397 2687 759 \nQ 2956 1122 2956 1747 \nQ 2956 2369 2687 2733 \nQ 2419 3097 1959 3097 \nz\nM 1959 3584 \nQ 2709 3584 3137 3096 \nQ 3566 2609 3566 1747 \nQ 3566 888 3137 398 \nQ 2709 -91 1959 -91 \nQ 1206 -91 779 398 \nQ 353 888 353 1747 \nQ 353 2609 779 3096 \nQ 1206 3584 1959 3584 \nz\n\" transform=\"scale(0.015625)\"/>\n       <path id=\"DejaVuSans-63\" d=\"M 3122 3366 \nL 3122 2828 \nQ 2878 2963 2633 3030 \nQ 2388 3097 2138 3097 \nQ 1578 3097 1268 2742 \nQ 959 2388 959 1747 \nQ 959 1106 1268 751 \nQ 1578 397 2138 397 \nQ 2388 397 2633 464 \nQ 2878 531 3122 666 \nL 3122 134 \nQ 2881 22 2623 -34 \nQ 2366 -91 2075 -91 \nQ 1284 -91 818 406 \nQ 353 903 353 1747 \nQ 353 2603 823 3093 \nQ 1294 3584 2113 3584 \nQ 2378 3584 2631 3529 \nQ 2884 3475 3122 3366 \nz\n\" transform=\"scale(0.015625)\"/>\n       <path id=\"DejaVuSans-68\" d=\"M 3513 2113 \nL 3513 0 \nL 2938 0 \nL 2938 2094 \nQ 2938 2591 2744 2837 \nQ 2550 3084 2163 3084 \nQ 1697 3084 1428 2787 \nQ 1159 2491 1159 1978 \nL 1159 0 \nL 581 0 \nL 581 4863 \nL 1159 4863 \nL 1159 2956 \nQ 1366 3272 1645 3428 \nQ 1925 3584 2291 3584 \nQ 2894 3584 3203 3211 \nQ 3513 2838 3513 2113 \nz\n\" transform=\"scale(0.015625)\"/>\n       <path id=\"DejaVuSans-73\" d=\"M 2834 3397 \nL 2834 2853 \nQ 2591 2978 2328 3040 \nQ 2066 3103 1784 3103 \nQ 1356 3103 1142 2972 \nQ 928 2841 928 2578 \nQ 928 2378 1081 2264 \nQ 1234 2150 1697 2047 \nL 1894 2003 \nQ 2506 1872 2764 1633 \nQ 3022 1394 3022 966 \nQ 3022 478 2636 193 \nQ 2250 -91 1575 -91 \nQ 1294 -91 989 -36 \nQ 684 19 347 128 \nL 347 722 \nQ 666 556 975 473 \nQ 1284 391 1588 391 \nQ 1994 391 2212 530 \nQ 2431 669 2431 922 \nQ 2431 1156 2273 1281 \nQ 2116 1406 1581 1522 \nL 1381 1569 \nQ 847 1681 609 1914 \nQ 372 2147 372 2553 \nQ 372 3047 722 3315 \nQ 1072 3584 1716 3584 \nQ 2034 3584 2315 3537 \nQ 2597 3491 2834 3397 \nz\n\" transform=\"scale(0.015625)\"/>\n      </defs>\n      <use xlink:href=\"#DejaVuSans-45\"/>\n      <use xlink:href=\"#DejaVuSans-70\" x=\"63.183594\"/>\n      <use xlink:href=\"#DejaVuSans-6f\" x=\"126.660156\"/>\n      <use xlink:href=\"#DejaVuSans-63\" x=\"187.841797\"/>\n      <use xlink:href=\"#DejaVuSans-68\" x=\"242.822266\"/>\n      <use xlink:href=\"#DejaVuSans-73\" x=\"306.201172\"/>\n     </g>\n    </g>\n   </g>\n   <g id=\"matplotlib.axis_2\">\n    <g id=\"ytick_1\">\n     <g id=\"line2d_10\">\n      <defs>\n       <path id=\"meff742726e\" d=\"M 0 0 \nL -3.5 0 \n\" style=\"stroke: #000000; stroke-width: 0.8\"/>\n      </defs>\n      <g>\n       <use xlink:href=\"#meff742726e\" x=\"43.78125\" y=\"279.379945\" style=\"stroke: #000000; stroke-width: 0.8\"/>\n      </g>\n     </g>\n     <g id=\"text_11\">\n      <!-- 0.0 -->\n      <g transform=\"translate(20.878125 283.179164) scale(0.1 -0.1)\">\n       <defs>\n        <path id=\"DejaVuSans-2e\" d=\"M 684 794 \nL 1344 794 \nL 1344 0 \nL 684 0 \nL 684 794 \nz\n\" transform=\"scale(0.015625)\"/>\n       </defs>\n       <use xlink:href=\"#DejaVuSans-30\"/>\n       <use xlink:href=\"#DejaVuSans-2e\" x=\"63.623047\"/>\n       <use xlink:href=\"#DejaVuSans-30\" x=\"95.410156\"/>\n      </g>\n     </g>\n    </g>\n    <g id=\"ytick_2\">\n     <g id=\"line2d_11\">\n      <g>\n       <use xlink:href=\"#meff742726e\" x=\"43.78125\" y=\"232.580553\" style=\"stroke: #000000; stroke-width: 0.8\"/>\n      </g>\n     </g>\n     <g id=\"text_12\">\n      <!-- 0.2 -->\n      <g transform=\"translate(20.878125 236.379772) scale(0.1 -0.1)\">\n       <use xlink:href=\"#DejaVuSans-30\"/>\n       <use xlink:href=\"#DejaVuSans-2e\" x=\"63.623047\"/>\n       <use xlink:href=\"#DejaVuSans-32\" x=\"95.410156\"/>\n      </g>\n     </g>\n    </g>\n    <g id=\"ytick_3\">\n     <g id=\"line2d_12\">\n      <g>\n       <use xlink:href=\"#meff742726e\" x=\"43.78125\" y=\"185.781161\" style=\"stroke: #000000; stroke-width: 0.8\"/>\n      </g>\n     </g>\n     <g id=\"text_13\">\n      <!-- 0.4 -->\n      <g transform=\"translate(20.878125 189.580379) scale(0.1 -0.1)\">\n       <defs>\n        <path id=\"DejaVuSans-34\" d=\"M 2419 4116 \nL 825 1625 \nL 2419 1625 \nL 2419 4116 \nz\nM 2253 4666 \nL 3047 4666 \nL 3047 1625 \nL 3713 1625 \nL 3713 1100 \nL 3047 1100 \nL 3047 0 \nL 2419 0 \nL 2419 1100 \nL 313 1100 \nL 313 1709 \nL 2253 4666 \nz\n\" transform=\"scale(0.015625)\"/>\n       </defs>\n       <use xlink:href=\"#DejaVuSans-30\"/>\n       <use xlink:href=\"#DejaVuSans-2e\" x=\"63.623047\"/>\n       <use xlink:href=\"#DejaVuSans-34\" x=\"95.410156\"/>\n      </g>\n     </g>\n    </g>\n    <g id=\"ytick_4\">\n     <g id=\"line2d_13\">\n      <g>\n       <use xlink:href=\"#meff742726e\" x=\"43.78125\" y=\"138.981768\" style=\"stroke: #000000; stroke-width: 0.8\"/>\n      </g>\n     </g>\n     <g id=\"text_14\">\n      <!-- 0.6 -->\n      <g transform=\"translate(20.878125 142.780987) scale(0.1 -0.1)\">\n       <defs>\n        <path id=\"DejaVuSans-36\" d=\"M 2113 2584 \nQ 1688 2584 1439 2293 \nQ 1191 2003 1191 1497 \nQ 1191 994 1439 701 \nQ 1688 409 2113 409 \nQ 2538 409 2786 701 \nQ 3034 994 3034 1497 \nQ 3034 2003 2786 2293 \nQ 2538 2584 2113 2584 \nz\nM 3366 4563 \nL 3366 3988 \nQ 3128 4100 2886 4159 \nQ 2644 4219 2406 4219 \nQ 1781 4219 1451 3797 \nQ 1122 3375 1075 2522 \nQ 1259 2794 1537 2939 \nQ 1816 3084 2150 3084 \nQ 2853 3084 3261 2657 \nQ 3669 2231 3669 1497 \nQ 3669 778 3244 343 \nQ 2819 -91 2113 -91 \nQ 1303 -91 875 529 \nQ 447 1150 447 2328 \nQ 447 3434 972 4092 \nQ 1497 4750 2381 4750 \nQ 2619 4750 2861 4703 \nQ 3103 4656 3366 4563 \nz\n\" transform=\"scale(0.015625)\"/>\n       </defs>\n       <use xlink:href=\"#DejaVuSans-30\"/>\n       <use xlink:href=\"#DejaVuSans-2e\" x=\"63.623047\"/>\n       <use xlink:href=\"#DejaVuSans-36\" x=\"95.410156\"/>\n      </g>\n     </g>\n    </g>\n    <g id=\"ytick_5\">\n     <g id=\"line2d_14\">\n      <g>\n       <use xlink:href=\"#meff742726e\" x=\"43.78125\" y=\"92.182376\" style=\"stroke: #000000; stroke-width: 0.8\"/>\n      </g>\n     </g>\n     <g id=\"text_15\">\n      <!-- 0.8 -->\n      <g transform=\"translate(20.878125 95.981595) scale(0.1 -0.1)\">\n       <defs>\n        <path id=\"DejaVuSans-38\" d=\"M 2034 2216 \nQ 1584 2216 1326 1975 \nQ 1069 1734 1069 1313 \nQ 1069 891 1326 650 \nQ 1584 409 2034 409 \nQ 2484 409 2743 651 \nQ 3003 894 3003 1313 \nQ 3003 1734 2745 1975 \nQ 2488 2216 2034 2216 \nz\nM 1403 2484 \nQ 997 2584 770 2862 \nQ 544 3141 544 3541 \nQ 544 4100 942 4425 \nQ 1341 4750 2034 4750 \nQ 2731 4750 3128 4425 \nQ 3525 4100 3525 3541 \nQ 3525 3141 3298 2862 \nQ 3072 2584 2669 2484 \nQ 3125 2378 3379 2068 \nQ 3634 1759 3634 1313 \nQ 3634 634 3220 271 \nQ 2806 -91 2034 -91 \nQ 1263 -91 848 271 \nQ 434 634 434 1313 \nQ 434 1759 690 2068 \nQ 947 2378 1403 2484 \nz\nM 1172 3481 \nQ 1172 3119 1398 2916 \nQ 1625 2713 2034 2713 \nQ 2441 2713 2670 2916 \nQ 2900 3119 2900 3481 \nQ 2900 3844 2670 4047 \nQ 2441 4250 2034 4250 \nQ 1625 4250 1398 4047 \nQ 1172 3844 1172 3481 \nz\n\" transform=\"scale(0.015625)\"/>\n       </defs>\n       <use xlink:href=\"#DejaVuSans-30\"/>\n       <use xlink:href=\"#DejaVuSans-2e\" x=\"63.623047\"/>\n       <use xlink:href=\"#DejaVuSans-38\" x=\"95.410156\"/>\n      </g>\n     </g>\n    </g>\n    <g id=\"ytick_6\">\n     <g id=\"line2d_15\">\n      <g>\n       <use xlink:href=\"#meff742726e\" x=\"43.78125\" y=\"45.382984\" style=\"stroke: #000000; stroke-width: 0.8\"/>\n      </g>\n     </g>\n     <g id=\"text_16\">\n      <!-- 1.0 -->\n      <g transform=\"translate(20.878125 49.182202) scale(0.1 -0.1)\">\n       <use xlink:href=\"#DejaVuSans-31\"/>\n       <use xlink:href=\"#DejaVuSans-2e\" x=\"63.623047\"/>\n       <use xlink:href=\"#DejaVuSans-30\" x=\"95.410156\"/>\n      </g>\n     </g>\n    </g>\n    <g id=\"text_17\">\n     <!-- loss -->\n     <g transform=\"translate(14.798438 165.031937) rotate(-90) scale(0.1 -0.1)\">\n      <defs>\n       <path id=\"DejaVuSans-6c\" d=\"M 603 4863 \nL 1178 4863 \nL 1178 0 \nL 603 0 \nL 603 4863 \nz\n\" transform=\"scale(0.015625)\"/>\n      </defs>\n      <use xlink:href=\"#DejaVuSans-6c\"/>\n      <use xlink:href=\"#DejaVuSans-6f\" x=\"27.783203\"/>\n      <use xlink:href=\"#DejaVuSans-73\" x=\"88.964844\"/>\n      <use xlink:href=\"#DejaVuSans-73\" x=\"141.064453\"/>\n     </g>\n    </g>\n   </g>\n   <g id=\"line2d_16\">\n    <path d=\"M 60.013977 34.414125 \nL 61.645407 59.012751 \nL 63.276837 89.15585 \nL 64.908267 114.005416 \nL 68.171127 175.607827 \nL 69.802557 194.642761 \nL 71.433986 219.77066 \nL 74.696846 243.579028 \nL 76.328276 249.842191 \nL 77.959706 253.210202 \nL 79.591136 213.728317 \nL 81.222566 236.724178 \nL 82.853996 255.147542 \nL 84.485425 227.490141 \nL 86.116855 253.106309 \nL 87.748285 261.614735 \nL 89.379715 247.253435 \nL 91.011145 260.927818 \nL 92.642575 252.872041 \nL 94.274005 260.958944 \nL 95.905435 255.744353 \nL 97.536864 253.260207 \nL 99.168294 253.005974 \nL 100.799724 257.568836 \nL 102.431154 263.042005 \nL 104.062584 255.722508 \nL 105.694014 265.845466 \nL 107.325444 232.135246 \nL 108.956874 233.099845 \nL 110.588303 185.833113 \nL 112.219733 247.271309 \nL 113.851163 255.732567 \nL 115.482593 220.741218 \nL 117.114023 239.589265 \nL 118.745453 255.690262 \nL 120.376883 228.419328 \nL 122.008313 255.970219 \nL 123.639742 246.591454 \nL 125.271172 254.736958 \nL 126.902602 261.562424 \nL 128.534032 250.640739 \nL 130.165462 258.413159 \nL 131.796892 247.302502 \nL 133.428322 264.036709 \nL 135.059752 216.262452 \nL 136.691181 248.972197 \nL 138.322611 259.440207 \nL 139.954041 256.012394 \nL 141.585471 259.581046 \nL 143.216901 261.852223 \nL 144.848331 262.879303 \nL 146.479761 263.429479 \nL 148.111191 263.491854 \nL 149.74262 262.071049 \nL 151.37405 261.675225 \nL 153.00548 264.287512 \nL 154.63691 262.24512 \nL 156.26834 265.245161 \nL 157.89977 256.915726 \nL 159.5312 264.768055 \nL 161.16263 255.320684 \nL 162.79406 256.028777 \nL 164.425489 265.931291 \nL 166.056919 260.395934 \nL 167.688349 262.618192 \nL 169.319779 251.990679 \nL 170.951209 256.636663 \nL 172.582639 265.538902 \nL 174.214069 259.313625 \nL 175.845499 264.211691 \nL 177.476928 262.866032 \nL 179.108358 265.29837 \nL 180.739788 263.168709 \nL 182.371218 265.262348 \nL 184.002648 265.721511 \nL 185.634078 264.498294 \nL 187.265508 265.754572 \nL 188.896938 266.533366 \nL 190.528367 266.131413 \nL 192.159797 266.760235 \nL 193.791227 265.790052 \nL 195.422657 266.428517 \nL 197.054087 266.410733 \nL 198.685517 266.922969 \nL 200.316947 266.622998 \nL 201.948377 266.85715 \nL 203.579806 265.01173 \nL 205.211236 267.178237 \nL 206.842666 254.729789 \nL 208.474096 267.499835 \nL 210.105526 266.880378 \nL 211.736956 266.784564 \nL 213.368386 265.90024 \nL 214.999816 266.405757 \nL 216.631245 259.805327 \nL 218.262675 261.997899 \nL 219.894105 266.86175 \nL 221.525535 263.494658 \nL 223.156965 258.197898 \nL 224.788395 243.122003 \nL 226.419825 266.812219 \nL 228.051255 252.121102 \nL 229.682684 268.387042 \nL 231.314114 230.410585 \nL 232.945544 242.650727 \nL 234.576974 260.262717 \nL 236.208404 252.907185 \nL 237.839834 260.772756 \nL 239.471264 260.92804 \nL 241.102694 258.326653 \nL 242.734123 264.59892 \nL 244.365553 260.094667 \nL 245.996983 264.2247 \nL 247.628413 263.463337 \nL 249.259843 262.256374 \nL 250.891273 266.587171 \nL 252.522703 263.182791 \nL 254.154133 265.454973 \nL 255.785562 257.125626 \nL 257.416992 260.459811 \nL 259.048422 266.625883 \nL 260.679852 257.14215 \nL 262.311282 264.395952 \nL 263.942712 260.004908 \nL 265.574142 262.71462 \nL 267.205572 266.82611 \nL 268.837001 264.965179 \nL 270.468431 266.495279 \nL 272.099861 266.154584 \nL 273.731291 266.827379 \nL 275.362721 267.732779 \nL 278.625581 268.033358 \nL 280.257011 267.891699 \nL 281.88844 268.01226 \nL 285.1513 268.067923 \nL 286.78273 267.75905 \nL 288.41416 268.203083 \nL 290.04559 267.720059 \nL 291.67702 267.504028 \nL 293.30845 263.399094 \nL 294.93988 267.350291 \nL 296.571309 251.423772 \nL 298.202739 267.265411 \nL 299.834169 264.138997 \nL 301.465599 266.38366 \nL 303.097029 259.973448 \nL 304.728459 267.56532 \nL 306.359889 264.334966 \nL 307.991319 265.79601 \nL 309.622748 268.296238 \nL 311.254178 264.22986 \nL 312.885608 268.177255 \nL 317.779898 268.31614 \nL 319.411328 267.426661 \nL 321.042758 268.446806 \nL 322.674187 268.114689 \nL 324.305617 267.643666 \nL 325.937047 268.920632 \nL 327.568477 267.022243 \nL 329.199907 267.336267 \nL 330.831337 267.782359 \nL 332.462767 268.488741 \nL 334.094197 267.271736 \nL 335.725626 268.946753 \nL 337.357056 268.344987 \nL 338.988486 268.309024 \nL 340.619916 269.005995 \nL 342.251346 268.506385 \nL 343.882776 268.460077 \nL 345.514206 267.553837 \nL 347.145636 268.939335 \nL 348.777065 267.712972 \nL 350.408495 268.118727 \nL 352.039925 268.771443 \nL 353.671355 269.145027 \nL 355.302785 268.800627 \nL 356.934215 268.014186 \nL 358.565645 266.752496 \nL 360.197075 268.943223 \nL 361.828504 268.24646 \nL 365.091364 268.970293 \nL 366.722794 268.940718 \nL 368.354224 267.868033 \nL 369.985654 268.577407 \nL 371.617084 268.229121 \nL 373.248514 268.357511 \nL 374.879943 268.608983 \nL 376.511373 267.684945 \nL 378.142803 268.416019 \nL 379.774233 262.74085 \nL 381.405663 267.733181 \nL 383.037093 268.79781 \nL 384.668523 262.487169 \nL 384.668523 262.487169 \n\" clip-path=\"url(#p99d0f665e4)\" style=\"fill: none; stroke: #1f77b4; stroke-width: 1.5; stroke-linecap: square\"/>\n   </g>\n   <g id=\"line2d_17\">\n    <path d=\"M 60.013977 57.266507 \nL 61.645407 86.816817 \nL 63.276837 113.016426 \nL 64.908267 145.582032 \nL 66.539697 174.26277 \nL 68.171127 200.31103 \nL 69.802557 215.607507 \nL 71.433986 236.574621 \nL 73.065416 239.543253 \nL 74.696846 255.219631 \nL 76.328276 260.60584 \nL 77.959706 197.688985 \nL 79.591136 265.03666 \nL 81.222566 266.029831 \nL 82.853996 177.437421 \nL 84.485425 267.052948 \nL 86.116855 267.279093 \nL 87.748285 226.240501 \nL 89.379715 248.835496 \nL 91.011145 267.60302 \nL 92.642575 267.150224 \nL 94.274005 233.082749 \nL 95.905435 269.559648 \nL 97.536864 267.066353 \nL 99.168294 252.85494 \nL 100.799724 257.906598 \nL 102.431154 270.994318 \nL 104.062584 263.611801 \nL 105.694014 156.085065 \nL 107.325444 264.185424 \nL 108.956874 185.518908 \nL 110.588303 260.744626 \nL 112.219733 224.963768 \nL 113.851163 245.026371 \nL 115.482593 245.262893 \nL 117.114023 261.110146 \nL 118.745453 191.603978 \nL 120.376883 252.191533 \nL 122.008313 261.931655 \nL 123.639742 263.713271 \nL 125.271172 263.904006 \nL 126.902602 234.997983 \nL 128.534032 258.28562 \nL 130.165462 266.621366 \nL 131.796892 269.995162 \nL 133.428322 183.064914 \nL 135.059752 212.423861 \nL 136.691181 263.952109 \nL 138.322611 266.45809 \nL 139.954041 267.743997 \nL 141.585471 266.532978 \nL 143.216901 262.312941 \nL 146.479761 269.327268 \nL 148.111191 267.892914 \nL 149.74262 253.601295 \nL 151.37405 263.806671 \nL 153.00548 271.846846 \nL 154.63691 270.944592 \nL 156.26834 240.346869 \nL 157.89977 260.922363 \nL 159.5312 270.973318 \nL 161.16263 270.65046 \nL 162.79406 271.215835 \nL 164.425489 257.573758 \nL 166.056919 265.519505 \nL 167.688349 269.669091 \nL 169.319779 269.963294 \nL 170.951209 271.352953 \nL 172.582639 244.223289 \nL 175.845499 273.102529 \nL 177.476928 273.566625 \nL 179.108358 263.337203 \nL 180.739788 260.679769 \nL 182.371218 272.350809 \nL 184.002648 274.620564 \nL 185.634078 273.463526 \nL 187.265508 271.155277 \nL 188.896938 267.221008 \nL 190.528367 270.879395 \nL 192.159797 273.763402 \nL 193.791227 274.238316 \nL 195.422657 273.881146 \nL 197.054087 274.078337 \nL 198.685517 271.834397 \nL 200.316947 271.149643 \nL 201.948377 274.08472 \nL 203.579806 274.111008 \nL 205.211236 243.370648 \nL 206.842666 270.901326 \nL 208.474096 273.255624 \nL 210.105526 269.622371 \nL 211.736956 266.536351 \nL 213.368386 270.470053 \nL 214.999816 271.767171 \nL 216.631245 272.563732 \nL 218.262675 271.332003 \nL 219.894105 256.553654 \nL 221.525535 274.412449 \nL 223.156965 262.912025 \nL 224.788395 271.937521 \nL 226.419825 232.373735 \nL 228.051255 267.773099 \nL 229.682684 256.834547 \nL 231.314114 254.544267 \nL 232.945544 265.974283 \nL 234.576974 243.424844 \nL 236.208404 253.439189 \nL 237.839834 267.191556 \nL 239.471264 268.568834 \nL 241.102694 270.670776 \nL 242.734123 255.883594 \nL 244.365553 251.956095 \nL 245.996983 272.956305 \nL 247.628413 273.595094 \nL 249.259843 271.932493 \nL 250.891273 259.96414 \nL 252.522703 270.510052 \nL 254.154133 271.253455 \nL 257.416992 271.615059 \nL 259.048422 246.382754 \nL 260.679852 267.55811 \nL 262.311282 271.967728 \nL 263.942712 271.415482 \nL 265.574142 268.639916 \nL 267.205572 264.327164 \nL 268.837001 266.873301 \nL 270.468431 272.450635 \nL 272.099861 273.365768 \nL 273.731291 273.016263 \nL 275.362721 273.638587 \nL 278.625581 274.034993 \nL 280.257011 274.148982 \nL 281.88844 274.75631 \nL 285.1513 274.805363 \nL 286.78273 274.627438 \nL 288.41416 275.32035 \nL 290.04559 275.202858 \nL 291.67702 275.856234 \nL 293.30845 276.033299 \nL 294.93988 217.926617 \nL 296.571309 271.186388 \nL 298.202739 274.583217 \nL 299.834169 273.289405 \nL 301.465599 243.911096 \nL 303.097029 269.204503 \nL 304.728459 273.306649 \nL 306.359889 273.615337 \nL 307.991319 272.530931 \nL 309.622748 261.641371 \nL 311.254178 271.294102 \nL 312.885608 275.065082 \nL 314.517038 274.879951 \nL 316.148468 275.432339 \nL 317.779898 276.334125 \nL 319.411328 275.813177 \nL 321.042758 273.76425 \nL 324.305617 275.622391 \nL 325.937047 266.901587 \nL 327.568477 267.546109 \nL 329.199907 273.825002 \nL 330.831337 273.797741 \nL 332.462767 266.111475 \nL 334.094197 271.021383 \nL 335.725626 273.95092 \nL 337.357056 274.646302 \nL 338.988486 274.167932 \nL 340.619916 272.59033 \nL 342.251346 272.661584 \nL 343.882776 266.47014 \nL 345.514206 271.86873 \nL 347.145636 272.598302 \nL 350.408495 271.663023 \nL 352.039925 271.641913 \nL 353.671355 273.215495 \nL 355.302785 271.676232 \nL 356.934215 261.779668 \nL 358.565645 273.532208 \nL 360.197075 273.171639 \nL 361.828504 272.54947 \nL 363.459934 272.66623 \nL 365.091364 272.668878 \nL 366.722794 271.972526 \nL 368.354224 269.785639 \nL 369.985654 273.701433 \nL 371.617084 274.321752 \nL 373.248514 273.757751 \nL 376.511373 274.753981 \nL 378.142803 237.499321 \nL 379.774233 274.986874 \nL 381.405663 275.098681 \nL 383.037093 239.831753 \nL 384.668523 274.497617 \nL 384.668523 274.497617 \n\" clip-path=\"url(#p99d0f665e4)\" style=\"fill: none; stroke: #ff7f0e; stroke-width: 1.5; stroke-linecap: square\"/>\n   </g>\n   <g id=\"patch_3\">\n    <path d=\"M 43.78125 288.430125 \nL 43.78125 22.318125 \n\" style=\"fill: none; stroke: #000000; stroke-width: 0.8; stroke-linejoin: miter; stroke-linecap: square\"/>\n   </g>\n   <g id=\"patch_4\">\n    <path d=\"M 400.90125 288.430125 \nL 400.90125 22.318125 \n\" style=\"fill: none; stroke: #000000; stroke-width: 0.8; stroke-linejoin: miter; stroke-linecap: square\"/>\n   </g>\n   <g id=\"patch_5\">\n    <path d=\"M 43.78125 288.430125 \nL 400.90125 288.430125 \n\" style=\"fill: none; stroke: #000000; stroke-width: 0.8; stroke-linejoin: miter; stroke-linecap: square\"/>\n   </g>\n   <g id=\"patch_6\">\n    <path d=\"M 43.78125 22.318125 \nL 400.90125 22.318125 \n\" style=\"fill: none; stroke: #000000; stroke-width: 0.8; stroke-linejoin: miter; stroke-linecap: square\"/>\n   </g>\n   <g id=\"text_18\">\n    <!-- Training and validation loss -->\n    <g transform=\"translate(140.53125 16.318125) scale(0.12 -0.12)\">\n     <defs>\n      <path id=\"DejaVuSans-54\" d=\"M -19 4666 \nL 3928 4666 \nL 3928 4134 \nL 2272 4134 \nL 2272 0 \nL 1638 0 \nL 1638 4134 \nL -19 4134 \nL -19 4666 \nz\n\" transform=\"scale(0.015625)\"/>\n      <path id=\"DejaVuSans-72\" d=\"M 2631 2963 \nQ 2534 3019 2420 3045 \nQ 2306 3072 2169 3072 \nQ 1681 3072 1420 2755 \nQ 1159 2438 1159 1844 \nL 1159 0 \nL 581 0 \nL 581 3500 \nL 1159 3500 \nL 1159 2956 \nQ 1341 3275 1631 3429 \nQ 1922 3584 2338 3584 \nQ 2397 3584 2469 3576 \nQ 2541 3569 2628 3553 \nL 2631 2963 \nz\n\" transform=\"scale(0.015625)\"/>\n      <path id=\"DejaVuSans-61\" d=\"M 2194 1759 \nQ 1497 1759 1228 1600 \nQ 959 1441 959 1056 \nQ 959 750 1161 570 \nQ 1363 391 1709 391 \nQ 2188 391 2477 730 \nQ 2766 1069 2766 1631 \nL 2766 1759 \nL 2194 1759 \nz\nM 3341 1997 \nL 3341 0 \nL 2766 0 \nL 2766 531 \nQ 2569 213 2275 61 \nQ 1981 -91 1556 -91 \nQ 1019 -91 701 211 \nQ 384 513 384 1019 \nQ 384 1609 779 1909 \nQ 1175 2209 1959 2209 \nL 2766 2209 \nL 2766 2266 \nQ 2766 2663 2505 2880 \nQ 2244 3097 1772 3097 \nQ 1472 3097 1187 3025 \nQ 903 2953 641 2809 \nL 641 3341 \nQ 956 3463 1253 3523 \nQ 1550 3584 1831 3584 \nQ 2591 3584 2966 3190 \nQ 3341 2797 3341 1997 \nz\n\" transform=\"scale(0.015625)\"/>\n      <path id=\"DejaVuSans-69\" d=\"M 603 3500 \nL 1178 3500 \nL 1178 0 \nL 603 0 \nL 603 3500 \nz\nM 603 4863 \nL 1178 4863 \nL 1178 4134 \nL 603 4134 \nL 603 4863 \nz\n\" transform=\"scale(0.015625)\"/>\n      <path id=\"DejaVuSans-6e\" d=\"M 3513 2113 \nL 3513 0 \nL 2938 0 \nL 2938 2094 \nQ 2938 2591 2744 2837 \nQ 2550 3084 2163 3084 \nQ 1697 3084 1428 2787 \nQ 1159 2491 1159 1978 \nL 1159 0 \nL 581 0 \nL 581 3500 \nL 1159 3500 \nL 1159 2956 \nQ 1366 3272 1645 3428 \nQ 1925 3584 2291 3584 \nQ 2894 3584 3203 3211 \nQ 3513 2838 3513 2113 \nz\n\" transform=\"scale(0.015625)\"/>\n      <path id=\"DejaVuSans-67\" d=\"M 2906 1791 \nQ 2906 2416 2648 2759 \nQ 2391 3103 1925 3103 \nQ 1463 3103 1205 2759 \nQ 947 2416 947 1791 \nQ 947 1169 1205 825 \nQ 1463 481 1925 481 \nQ 2391 481 2648 825 \nQ 2906 1169 2906 1791 \nz\nM 3481 434 \nQ 3481 -459 3084 -895 \nQ 2688 -1331 1869 -1331 \nQ 1566 -1331 1297 -1286 \nQ 1028 -1241 775 -1147 \nL 775 -588 \nQ 1028 -725 1275 -790 \nQ 1522 -856 1778 -856 \nQ 2344 -856 2625 -561 \nQ 2906 -266 2906 331 \nL 2906 616 \nQ 2728 306 2450 153 \nQ 2172 0 1784 0 \nQ 1141 0 747 490 \nQ 353 981 353 1791 \nQ 353 2603 747 3093 \nQ 1141 3584 1784 3584 \nQ 2172 3584 2450 3431 \nQ 2728 3278 2906 2969 \nL 2906 3500 \nL 3481 3500 \nL 3481 434 \nz\n\" transform=\"scale(0.015625)\"/>\n      <path id=\"DejaVuSans-20\" transform=\"scale(0.015625)\"/>\n      <path id=\"DejaVuSans-64\" d=\"M 2906 2969 \nL 2906 4863 \nL 3481 4863 \nL 3481 0 \nL 2906 0 \nL 2906 525 \nQ 2725 213 2448 61 \nQ 2172 -91 1784 -91 \nQ 1150 -91 751 415 \nQ 353 922 353 1747 \nQ 353 2572 751 3078 \nQ 1150 3584 1784 3584 \nQ 2172 3584 2448 3432 \nQ 2725 3281 2906 2969 \nz\nM 947 1747 \nQ 947 1113 1208 752 \nQ 1469 391 1925 391 \nQ 2381 391 2643 752 \nQ 2906 1113 2906 1747 \nQ 2906 2381 2643 2742 \nQ 2381 3103 1925 3103 \nQ 1469 3103 1208 2742 \nQ 947 2381 947 1747 \nz\n\" transform=\"scale(0.015625)\"/>\n      <path id=\"DejaVuSans-76\" d=\"M 191 3500 \nL 800 3500 \nL 1894 563 \nL 2988 3500 \nL 3597 3500 \nL 2284 0 \nL 1503 0 \nL 191 3500 \nz\n\" transform=\"scale(0.015625)\"/>\n      <path id=\"DejaVuSans-74\" d=\"M 1172 4494 \nL 1172 3500 \nL 2356 3500 \nL 2356 3053 \nL 1172 3053 \nL 1172 1153 \nQ 1172 725 1289 603 \nQ 1406 481 1766 481 \nL 2356 481 \nL 2356 0 \nL 1766 0 \nQ 1100 0 847 248 \nQ 594 497 594 1153 \nL 594 3053 \nL 172 3053 \nL 172 3500 \nL 594 3500 \nL 594 4494 \nL 1172 4494 \nz\n\" transform=\"scale(0.015625)\"/>\n     </defs>\n     <use xlink:href=\"#DejaVuSans-54\"/>\n     <use xlink:href=\"#DejaVuSans-72\" x=\"46.333984\"/>\n     <use xlink:href=\"#DejaVuSans-61\" x=\"87.447266\"/>\n     <use xlink:href=\"#DejaVuSans-69\" x=\"148.726562\"/>\n     <use xlink:href=\"#DejaVuSans-6e\" x=\"176.509766\"/>\n     <use xlink:href=\"#DejaVuSans-69\" x=\"239.888672\"/>\n     <use xlink:href=\"#DejaVuSans-6e\" x=\"267.671875\"/>\n     <use xlink:href=\"#DejaVuSans-67\" x=\"331.050781\"/>\n     <use xlink:href=\"#DejaVuSans-20\" x=\"394.527344\"/>\n     <use xlink:href=\"#DejaVuSans-61\" x=\"426.314453\"/>\n     <use xlink:href=\"#DejaVuSans-6e\" x=\"487.59375\"/>\n     <use xlink:href=\"#DejaVuSans-64\" x=\"550.972656\"/>\n     <use xlink:href=\"#DejaVuSans-20\" x=\"614.449219\"/>\n     <use xlink:href=\"#DejaVuSans-76\" x=\"646.236328\"/>\n     <use xlink:href=\"#DejaVuSans-61\" x=\"705.416016\"/>\n     <use xlink:href=\"#DejaVuSans-6c\" x=\"766.695312\"/>\n     <use xlink:href=\"#DejaVuSans-69\" x=\"794.478516\"/>\n     <use xlink:href=\"#DejaVuSans-64\" x=\"822.261719\"/>\n     <use xlink:href=\"#DejaVuSans-61\" x=\"885.738281\"/>\n     <use xlink:href=\"#DejaVuSans-74\" x=\"947.017578\"/>\n     <use xlink:href=\"#DejaVuSans-69\" x=\"986.226562\"/>\n     <use xlink:href=\"#DejaVuSans-6f\" x=\"1014.009766\"/>\n     <use xlink:href=\"#DejaVuSans-6e\" x=\"1075.191406\"/>\n     <use xlink:href=\"#DejaVuSans-20\" x=\"1138.570312\"/>\n     <use xlink:href=\"#DejaVuSans-6c\" x=\"1170.357422\"/>\n     <use xlink:href=\"#DejaVuSans-6f\" x=\"1198.140625\"/>\n     <use xlink:href=\"#DejaVuSans-73\" x=\"1259.322266\"/>\n     <use xlink:href=\"#DejaVuSans-73\" x=\"1311.421875\"/>\n    </g>\n   </g>\n   <g id=\"legend_1\">\n    <g id=\"patch_7\">\n     <path d=\"M 314.310625 60.230625 \nL 393.90125 60.230625 \nQ 395.90125 60.230625 395.90125 58.230625 \nL 395.90125 29.318125 \nQ 395.90125 27.318125 393.90125 27.318125 \nL 314.310625 27.318125 \nQ 312.310625 27.318125 312.310625 29.318125 \nL 312.310625 58.230625 \nQ 312.310625 60.230625 314.310625 60.230625 \nz\n\" style=\"fill: #ffffff; opacity: 0.8; stroke: #cccccc; stroke-linejoin: miter\"/>\n    </g>\n    <g id=\"line2d_18\">\n     <path d=\"M 316.310625 35.416562 \nL 326.310625 35.416562 \nL 336.310625 35.416562 \n\" style=\"fill: none; stroke: #1f77b4; stroke-width: 1.5; stroke-linecap: square\"/>\n    </g>\n    <g id=\"text_19\">\n     <!-- train_loss -->\n     <g transform=\"translate(344.310625 38.916562) scale(0.1 -0.1)\">\n      <defs>\n       <path id=\"DejaVuSans-5f\" d=\"M 3263 -1063 \nL 3263 -1509 \nL -63 -1509 \nL -63 -1063 \nL 3263 -1063 \nz\n\" transform=\"scale(0.015625)\"/>\n      </defs>\n      <use xlink:href=\"#DejaVuSans-74\"/>\n      <use xlink:href=\"#DejaVuSans-72\" x=\"39.208984\"/>\n      <use xlink:href=\"#DejaVuSans-61\" x=\"80.322266\"/>\n      <use xlink:href=\"#DejaVuSans-69\" x=\"141.601562\"/>\n      <use xlink:href=\"#DejaVuSans-6e\" x=\"169.384766\"/>\n      <use xlink:href=\"#DejaVuSans-5f\" x=\"232.763672\"/>\n      <use xlink:href=\"#DejaVuSans-6c\" x=\"282.763672\"/>\n      <use xlink:href=\"#DejaVuSans-6f\" x=\"310.546875\"/>\n      <use xlink:href=\"#DejaVuSans-73\" x=\"371.728516\"/>\n      <use xlink:href=\"#DejaVuSans-73\" x=\"423.828125\"/>\n     </g>\n    </g>\n    <g id=\"line2d_19\">\n     <path d=\"M 316.310625 50.372813 \nL 326.310625 50.372813 \nL 336.310625 50.372813 \n\" style=\"fill: none; stroke: #ff7f0e; stroke-width: 1.5; stroke-linecap: square\"/>\n    </g>\n    <g id=\"text_20\">\n     <!-- val_loss -->\n     <g transform=\"translate(344.310625 53.872813) scale(0.1 -0.1)\">\n      <use xlink:href=\"#DejaVuSans-76\"/>\n      <use xlink:href=\"#DejaVuSans-61\" x=\"59.179688\"/>\n      <use xlink:href=\"#DejaVuSans-6c\" x=\"120.458984\"/>\n      <use xlink:href=\"#DejaVuSans-5f\" x=\"148.242188\"/>\n      <use xlink:href=\"#DejaVuSans-6c\" x=\"198.242188\"/>\n      <use xlink:href=\"#DejaVuSans-6f\" x=\"226.025391\"/>\n      <use xlink:href=\"#DejaVuSans-73\" x=\"287.207031\"/>\n      <use xlink:href=\"#DejaVuSans-73\" x=\"339.306641\"/>\n     </g>\n    </g>\n   </g>\n  </g>\n </g>\n <defs>\n  <clipPath id=\"p99d0f665e4\">\n   <rect x=\"43.78125\" y=\"22.318125\" width=\"357.12\" height=\"266.112\"/>\n  </clipPath>\n </defs>\n</svg>\n"
          },
          "metadata": {}
        }
      ]
    },
    {
      "cell_type": "code",
      "source": [
        "from tensorflow.keras.callbacks import EarlyStopping\n",
        "early_stopping = EarlyStopping()"
      ],
      "metadata": {
        "id": "ugpgrvU-aC3v"
      },
      "execution_count": null,
      "outputs": []
    },
    {
      "cell_type": "code",
      "source": [
        "history = model.fit(\n",
        "    X_train, \n",
        "    y_train, \n",
        "    epochs=200, \n",
        "    validation_split=0.25, \n",
        "    batch_size=40, \n",
        "    verbose=2,\n",
        "    callbacks=[early_stopping]\n",
        ")"
      ],
      "metadata": {
        "colab": {
          "base_uri": "https://localhost:8080/"
        },
        "id": "qqKMY2FeaLTi",
        "outputId": "7577608b-7997-42f2-86dc-a85a1dc61077"
      },
      "execution_count": null,
      "outputs": [
        {
          "output_type": "stream",
          "name": "stdout",
          "text": [
            "Epoch 1/200\n",
            "3/3 - 0s - loss: 0.0414 - accuracy: 0.9889 - val_loss: 0.0215 - val_accuracy: 1.0000 - 87ms/epoch - 29ms/step\n",
            "Epoch 2/200\n",
            "3/3 - 0s - loss: 0.0437 - accuracy: 0.9889 - val_loss: 0.0248 - val_accuracy: 1.0000 - 38ms/epoch - 13ms/step\n"
          ]
        }
      ]
    },
    {
      "cell_type": "code",
      "source": [
        "custom_early_stopping = EarlyStopping(\n",
        "    monitor='val_accuracy', \n",
        "    patience=8, \n",
        "    min_delta=0.001, \n",
        "    mode='max'\n",
        ")"
      ],
      "metadata": {
        "id": "sKOjwNvVaMxg"
      },
      "execution_count": null,
      "outputs": []
    },
    {
      "cell_type": "code",
      "source": [
        "history = model.fit(\n",
        "    X_train, \n",
        "    y_train, \n",
        "    epochs=200, \n",
        "    validation_split=0.25, \n",
        "    batch_size=40, \n",
        "    verbose=2,\n",
        "    callbacks=[custom_early_stopping]\n",
        ")"
      ],
      "metadata": {
        "colab": {
          "base_uri": "https://localhost:8080/"
        },
        "id": "udWx5OBDaQSJ",
        "outputId": "d42ac6c9-525e-4f4e-97d1-1a50718d6464"
      },
      "execution_count": null,
      "outputs": [
        {
          "output_type": "stream",
          "name": "stdout",
          "text": [
            "Epoch 1/200\n",
            "3/3 - 0s - loss: 0.0431 - accuracy: 0.9889 - val_loss: 0.0434 - val_accuracy: 1.0000 - 106ms/epoch - 35ms/step\n",
            "Epoch 2/200\n",
            "3/3 - 0s - loss: 0.0477 - accuracy: 0.9889 - val_loss: 0.0349 - val_accuracy: 1.0000 - 45ms/epoch - 15ms/step\n",
            "Epoch 3/200\n",
            "3/3 - 0s - loss: 0.0441 - accuracy: 0.9889 - val_loss: 0.0245 - val_accuracy: 1.0000 - 43ms/epoch - 14ms/step\n",
            "Epoch 4/200\n",
            "3/3 - 0s - loss: 0.0503 - accuracy: 0.9889 - val_loss: 0.0279 - val_accuracy: 1.0000 - 52ms/epoch - 17ms/step\n",
            "Epoch 5/200\n",
            "3/3 - 0s - loss: 0.0460 - accuracy: 0.9889 - val_loss: 0.0909 - val_accuracy: 0.9333 - 65ms/epoch - 22ms/step\n",
            "Epoch 6/200\n",
            "3/3 - 0s - loss: 0.0542 - accuracy: 0.9778 - val_loss: 0.0242 - val_accuracy: 1.0000 - 39ms/epoch - 13ms/step\n",
            "Epoch 7/200\n",
            "3/3 - 0s - loss: 0.0491 - accuracy: 0.9889 - val_loss: 0.0191 - val_accuracy: 1.0000 - 43ms/epoch - 14ms/step\n",
            "Epoch 8/200\n",
            "3/3 - 0s - loss: 0.0420 - accuracy: 0.9889 - val_loss: 0.0421 - val_accuracy: 1.0000 - 56ms/epoch - 19ms/step\n",
            "Epoch 9/200\n",
            "3/3 - 0s - loss: 0.0501 - accuracy: 0.9778 - val_loss: 0.0376 - val_accuracy: 1.0000 - 41ms/epoch - 14ms/step\n"
          ]
        }
      ]
    },
    {
      "cell_type": "code",
      "source": [
        "plot_metric(history, 'accuracy')"
      ],
      "metadata": {
        "colab": {
          "base_uri": "https://localhost:8080/",
          "height": 456
        },
        "id": "UXezxF4aaR0Q",
        "outputId": "a7aae20b-d587-4d59-cf06-5d56378d0f4f"
      },
      "execution_count": null,
      "outputs": [
        {
          "output_type": "display_data",
          "data": {
            "text/plain": [
              "<Figure size 640x480 with 1 Axes>"
            ],
            "image/svg+xml": "<?xml version=\"1.0\" encoding=\"utf-8\" standalone=\"no\"?>\n<!DOCTYPE svg PUBLIC \"-//W3C//DTD SVG 1.1//EN\"\n  \"http://www.w3.org/Graphics/SVG/1.1/DTD/svg11.dtd\">\n<svg xmlns:xlink=\"http://www.w3.org/1999/xlink\" width=\"414.46375pt\" height=\"325.986375pt\" viewBox=\"0 0 414.46375 325.986375\" xmlns=\"http://www.w3.org/2000/svg\" version=\"1.1\">\n <metadata>\n  <rdf:RDF xmlns:dc=\"http://purl.org/dc/elements/1.1/\" xmlns:cc=\"http://creativecommons.org/ns#\" xmlns:rdf=\"http://www.w3.org/1999/02/22-rdf-syntax-ns#\">\n   <cc:Work>\n    <dc:type rdf:resource=\"http://purl.org/dc/dcmitype/StillImage\"/>\n    <dc:date>2023-04-12T07:43:05.251890</dc:date>\n    <dc:format>image/svg+xml</dc:format>\n    <dc:creator>\n     <cc:Agent>\n      <dc:title>Matplotlib v3.7.1, https://matplotlib.org/</dc:title>\n     </cc:Agent>\n    </dc:creator>\n   </cc:Work>\n  </rdf:RDF>\n </metadata>\n <defs>\n  <style type=\"text/css\">*{stroke-linejoin: round; stroke-linecap: butt}</style>\n </defs>\n <g id=\"figure_1\">\n  <g id=\"patch_1\">\n   <path d=\"M 0 325.986375 \nL 414.46375 325.986375 \nL 414.46375 0 \nL 0 0 \nz\n\" style=\"fill: #ffffff\"/>\n  </g>\n  <g id=\"axes_1\">\n   <g id=\"patch_2\">\n    <path d=\"M 50.14375 288.430125 \nL 407.26375 288.430125 \nL 407.26375 22.318125 \nL 50.14375 22.318125 \nz\n\" style=\"fill: #ffffff\"/>\n   </g>\n   <g id=\"matplotlib.axis_1\">\n    <g id=\"xtick_1\">\n     <g id=\"line2d_1\">\n      <defs>\n       <path id=\"m38f62d6ac9\" d=\"M 0 0 \nL 0 3.5 \n\" style=\"stroke: #000000; stroke-width: 0.8\"/>\n      </defs>\n      <g>\n       <use xlink:href=\"#m38f62d6ac9\" x=\"66.376477\" y=\"288.430125\" style=\"stroke: #000000; stroke-width: 0.8\"/>\n      </g>\n     </g>\n     <g id=\"text_1\">\n      <!-- 1 -->\n      <g transform=\"translate(63.195227 303.028562) scale(0.1 -0.1)\">\n       <defs>\n        <path id=\"DejaVuSans-31\" d=\"M 794 531 \nL 1825 531 \nL 1825 4091 \nL 703 3866 \nL 703 4441 \nL 1819 4666 \nL 2450 4666 \nL 2450 531 \nL 3481 531 \nL 3481 0 \nL 794 0 \nL 794 531 \nz\n\" transform=\"scale(0.015625)\"/>\n       </defs>\n       <use xlink:href=\"#DejaVuSans-31\"/>\n      </g>\n     </g>\n    </g>\n    <g id=\"xtick_2\">\n     <g id=\"line2d_2\">\n      <g>\n       <use xlink:href=\"#m38f62d6ac9\" x=\"106.958295\" y=\"288.430125\" style=\"stroke: #000000; stroke-width: 0.8\"/>\n      </g>\n     </g>\n     <g id=\"text_2\">\n      <!-- 2 -->\n      <g transform=\"translate(103.777045 303.028562) scale(0.1 -0.1)\">\n       <defs>\n        <path id=\"DejaVuSans-32\" d=\"M 1228 531 \nL 3431 531 \nL 3431 0 \nL 469 0 \nL 469 531 \nQ 828 903 1448 1529 \nQ 2069 2156 2228 2338 \nQ 2531 2678 2651 2914 \nQ 2772 3150 2772 3378 \nQ 2772 3750 2511 3984 \nQ 2250 4219 1831 4219 \nQ 1534 4219 1204 4116 \nQ 875 4013 500 3803 \nL 500 4441 \nQ 881 4594 1212 4672 \nQ 1544 4750 1819 4750 \nQ 2544 4750 2975 4387 \nQ 3406 4025 3406 3419 \nQ 3406 3131 3298 2873 \nQ 3191 2616 2906 2266 \nQ 2828 2175 2409 1742 \nQ 1991 1309 1228 531 \nz\n\" transform=\"scale(0.015625)\"/>\n       </defs>\n       <use xlink:href=\"#DejaVuSans-32\"/>\n      </g>\n     </g>\n    </g>\n    <g id=\"xtick_3\">\n     <g id=\"line2d_3\">\n      <g>\n       <use xlink:href=\"#m38f62d6ac9\" x=\"147.540114\" y=\"288.430125\" style=\"stroke: #000000; stroke-width: 0.8\"/>\n      </g>\n     </g>\n     <g id=\"text_3\">\n      <!-- 3 -->\n      <g transform=\"translate(144.358864 303.028562) scale(0.1 -0.1)\">\n       <defs>\n        <path id=\"DejaVuSans-33\" d=\"M 2597 2516 \nQ 3050 2419 3304 2112 \nQ 3559 1806 3559 1356 \nQ 3559 666 3084 287 \nQ 2609 -91 1734 -91 \nQ 1441 -91 1130 -33 \nQ 819 25 488 141 \nL 488 750 \nQ 750 597 1062 519 \nQ 1375 441 1716 441 \nQ 2309 441 2620 675 \nQ 2931 909 2931 1356 \nQ 2931 1769 2642 2001 \nQ 2353 2234 1838 2234 \nL 1294 2234 \nL 1294 2753 \nL 1863 2753 \nQ 2328 2753 2575 2939 \nQ 2822 3125 2822 3475 \nQ 2822 3834 2567 4026 \nQ 2313 4219 1838 4219 \nQ 1578 4219 1281 4162 \nQ 984 4106 628 3988 \nL 628 4550 \nQ 988 4650 1302 4700 \nQ 1616 4750 1894 4750 \nQ 2613 4750 3031 4423 \nQ 3450 4097 3450 3541 \nQ 3450 3153 3228 2886 \nQ 3006 2619 2597 2516 \nz\n\" transform=\"scale(0.015625)\"/>\n       </defs>\n       <use xlink:href=\"#DejaVuSans-33\"/>\n      </g>\n     </g>\n    </g>\n    <g id=\"xtick_4\">\n     <g id=\"line2d_4\">\n      <g>\n       <use xlink:href=\"#m38f62d6ac9\" x=\"188.121932\" y=\"288.430125\" style=\"stroke: #000000; stroke-width: 0.8\"/>\n      </g>\n     </g>\n     <g id=\"text_4\">\n      <!-- 4 -->\n      <g transform=\"translate(184.940682 303.028562) scale(0.1 -0.1)\">\n       <defs>\n        <path id=\"DejaVuSans-34\" d=\"M 2419 4116 \nL 825 1625 \nL 2419 1625 \nL 2419 4116 \nz\nM 2253 4666 \nL 3047 4666 \nL 3047 1625 \nL 3713 1625 \nL 3713 1100 \nL 3047 1100 \nL 3047 0 \nL 2419 0 \nL 2419 1100 \nL 313 1100 \nL 313 1709 \nL 2253 4666 \nz\n\" transform=\"scale(0.015625)\"/>\n       </defs>\n       <use xlink:href=\"#DejaVuSans-34\"/>\n      </g>\n     </g>\n    </g>\n    <g id=\"xtick_5\">\n     <g id=\"line2d_5\">\n      <g>\n       <use xlink:href=\"#m38f62d6ac9\" x=\"228.70375\" y=\"288.430125\" style=\"stroke: #000000; stroke-width: 0.8\"/>\n      </g>\n     </g>\n     <g id=\"text_5\">\n      <!-- 5 -->\n      <g transform=\"translate(225.5225 303.028562) scale(0.1 -0.1)\">\n       <defs>\n        <path id=\"DejaVuSans-35\" d=\"M 691 4666 \nL 3169 4666 \nL 3169 4134 \nL 1269 4134 \nL 1269 2991 \nQ 1406 3038 1543 3061 \nQ 1681 3084 1819 3084 \nQ 2600 3084 3056 2656 \nQ 3513 2228 3513 1497 \nQ 3513 744 3044 326 \nQ 2575 -91 1722 -91 \nQ 1428 -91 1123 -41 \nQ 819 9 494 109 \nL 494 744 \nQ 775 591 1075 516 \nQ 1375 441 1709 441 \nQ 2250 441 2565 725 \nQ 2881 1009 2881 1497 \nQ 2881 1984 2565 2268 \nQ 2250 2553 1709 2553 \nQ 1456 2553 1204 2497 \nQ 953 2441 691 2322 \nL 691 4666 \nz\n\" transform=\"scale(0.015625)\"/>\n       </defs>\n       <use xlink:href=\"#DejaVuSans-35\"/>\n      </g>\n     </g>\n    </g>\n    <g id=\"xtick_6\">\n     <g id=\"line2d_6\">\n      <g>\n       <use xlink:href=\"#m38f62d6ac9\" x=\"269.285568\" y=\"288.430125\" style=\"stroke: #000000; stroke-width: 0.8\"/>\n      </g>\n     </g>\n     <g id=\"text_6\">\n      <!-- 6 -->\n      <g transform=\"translate(266.104318 303.028562) scale(0.1 -0.1)\">\n       <defs>\n        <path id=\"DejaVuSans-36\" d=\"M 2113 2584 \nQ 1688 2584 1439 2293 \nQ 1191 2003 1191 1497 \nQ 1191 994 1439 701 \nQ 1688 409 2113 409 \nQ 2538 409 2786 701 \nQ 3034 994 3034 1497 \nQ 3034 2003 2786 2293 \nQ 2538 2584 2113 2584 \nz\nM 3366 4563 \nL 3366 3988 \nQ 3128 4100 2886 4159 \nQ 2644 4219 2406 4219 \nQ 1781 4219 1451 3797 \nQ 1122 3375 1075 2522 \nQ 1259 2794 1537 2939 \nQ 1816 3084 2150 3084 \nQ 2853 3084 3261 2657 \nQ 3669 2231 3669 1497 \nQ 3669 778 3244 343 \nQ 2819 -91 2113 -91 \nQ 1303 -91 875 529 \nQ 447 1150 447 2328 \nQ 447 3434 972 4092 \nQ 1497 4750 2381 4750 \nQ 2619 4750 2861 4703 \nQ 3103 4656 3366 4563 \nz\n\" transform=\"scale(0.015625)\"/>\n       </defs>\n       <use xlink:href=\"#DejaVuSans-36\"/>\n      </g>\n     </g>\n    </g>\n    <g id=\"xtick_7\">\n     <g id=\"line2d_7\">\n      <g>\n       <use xlink:href=\"#m38f62d6ac9\" x=\"309.867386\" y=\"288.430125\" style=\"stroke: #000000; stroke-width: 0.8\"/>\n      </g>\n     </g>\n     <g id=\"text_7\">\n      <!-- 7 -->\n      <g transform=\"translate(306.686136 303.028562) scale(0.1 -0.1)\">\n       <defs>\n        <path id=\"DejaVuSans-37\" d=\"M 525 4666 \nL 3525 4666 \nL 3525 4397 \nL 1831 0 \nL 1172 0 \nL 2766 4134 \nL 525 4134 \nL 525 4666 \nz\n\" transform=\"scale(0.015625)\"/>\n       </defs>\n       <use xlink:href=\"#DejaVuSans-37\"/>\n      </g>\n     </g>\n    </g>\n    <g id=\"xtick_8\">\n     <g id=\"line2d_8\">\n      <g>\n       <use xlink:href=\"#m38f62d6ac9\" x=\"350.449205\" y=\"288.430125\" style=\"stroke: #000000; stroke-width: 0.8\"/>\n      </g>\n     </g>\n     <g id=\"text_8\">\n      <!-- 8 -->\n      <g transform=\"translate(347.267955 303.028562) scale(0.1 -0.1)\">\n       <defs>\n        <path id=\"DejaVuSans-38\" d=\"M 2034 2216 \nQ 1584 2216 1326 1975 \nQ 1069 1734 1069 1313 \nQ 1069 891 1326 650 \nQ 1584 409 2034 409 \nQ 2484 409 2743 651 \nQ 3003 894 3003 1313 \nQ 3003 1734 2745 1975 \nQ 2488 2216 2034 2216 \nz\nM 1403 2484 \nQ 997 2584 770 2862 \nQ 544 3141 544 3541 \nQ 544 4100 942 4425 \nQ 1341 4750 2034 4750 \nQ 2731 4750 3128 4425 \nQ 3525 4100 3525 3541 \nQ 3525 3141 3298 2862 \nQ 3072 2584 2669 2484 \nQ 3125 2378 3379 2068 \nQ 3634 1759 3634 1313 \nQ 3634 634 3220 271 \nQ 2806 -91 2034 -91 \nQ 1263 -91 848 271 \nQ 434 634 434 1313 \nQ 434 1759 690 2068 \nQ 947 2378 1403 2484 \nz\nM 1172 3481 \nQ 1172 3119 1398 2916 \nQ 1625 2713 2034 2713 \nQ 2441 2713 2670 2916 \nQ 2900 3119 2900 3481 \nQ 2900 3844 2670 4047 \nQ 2441 4250 2034 4250 \nQ 1625 4250 1398 4047 \nQ 1172 3844 1172 3481 \nz\n\" transform=\"scale(0.015625)\"/>\n       </defs>\n       <use xlink:href=\"#DejaVuSans-38\"/>\n      </g>\n     </g>\n    </g>\n    <g id=\"xtick_9\">\n     <g id=\"line2d_9\">\n      <g>\n       <use xlink:href=\"#m38f62d6ac9\" x=\"391.031023\" y=\"288.430125\" style=\"stroke: #000000; stroke-width: 0.8\"/>\n      </g>\n     </g>\n     <g id=\"text_9\">\n      <!-- 9 -->\n      <g transform=\"translate(387.849773 303.028562) scale(0.1 -0.1)\">\n       <defs>\n        <path id=\"DejaVuSans-39\" d=\"M 703 97 \nL 703 672 \nQ 941 559 1184 500 \nQ 1428 441 1663 441 \nQ 2288 441 2617 861 \nQ 2947 1281 2994 2138 \nQ 2813 1869 2534 1725 \nQ 2256 1581 1919 1581 \nQ 1219 1581 811 2004 \nQ 403 2428 403 3163 \nQ 403 3881 828 4315 \nQ 1253 4750 1959 4750 \nQ 2769 4750 3195 4129 \nQ 3622 3509 3622 2328 \nQ 3622 1225 3098 567 \nQ 2575 -91 1691 -91 \nQ 1453 -91 1209 -44 \nQ 966 3 703 97 \nz\nM 1959 2075 \nQ 2384 2075 2632 2365 \nQ 2881 2656 2881 3163 \nQ 2881 3666 2632 3958 \nQ 2384 4250 1959 4250 \nQ 1534 4250 1286 3958 \nQ 1038 3666 1038 3163 \nQ 1038 2656 1286 2365 \nQ 1534 2075 1959 2075 \nz\n\" transform=\"scale(0.015625)\"/>\n       </defs>\n       <use xlink:href=\"#DejaVuSans-39\"/>\n      </g>\n     </g>\n    </g>\n    <g id=\"text_10\">\n     <!-- Epochs -->\n     <g transform=\"translate(210.788125 316.706687) scale(0.1 -0.1)\">\n      <defs>\n       <path id=\"DejaVuSans-45\" d=\"M 628 4666 \nL 3578 4666 \nL 3578 4134 \nL 1259 4134 \nL 1259 2753 \nL 3481 2753 \nL 3481 2222 \nL 1259 2222 \nL 1259 531 \nL 3634 531 \nL 3634 0 \nL 628 0 \nL 628 4666 \nz\n\" transform=\"scale(0.015625)\"/>\n       <path id=\"DejaVuSans-70\" d=\"M 1159 525 \nL 1159 -1331 \nL 581 -1331 \nL 581 3500 \nL 1159 3500 \nL 1159 2969 \nQ 1341 3281 1617 3432 \nQ 1894 3584 2278 3584 \nQ 2916 3584 3314 3078 \nQ 3713 2572 3713 1747 \nQ 3713 922 3314 415 \nQ 2916 -91 2278 -91 \nQ 1894 -91 1617 61 \nQ 1341 213 1159 525 \nz\nM 3116 1747 \nQ 3116 2381 2855 2742 \nQ 2594 3103 2138 3103 \nQ 1681 3103 1420 2742 \nQ 1159 2381 1159 1747 \nQ 1159 1113 1420 752 \nQ 1681 391 2138 391 \nQ 2594 391 2855 752 \nQ 3116 1113 3116 1747 \nz\n\" transform=\"scale(0.015625)\"/>\n       <path id=\"DejaVuSans-6f\" d=\"M 1959 3097 \nQ 1497 3097 1228 2736 \nQ 959 2375 959 1747 \nQ 959 1119 1226 758 \nQ 1494 397 1959 397 \nQ 2419 397 2687 759 \nQ 2956 1122 2956 1747 \nQ 2956 2369 2687 2733 \nQ 2419 3097 1959 3097 \nz\nM 1959 3584 \nQ 2709 3584 3137 3096 \nQ 3566 2609 3566 1747 \nQ 3566 888 3137 398 \nQ 2709 -91 1959 -91 \nQ 1206 -91 779 398 \nQ 353 888 353 1747 \nQ 353 2609 779 3096 \nQ 1206 3584 1959 3584 \nz\n\" transform=\"scale(0.015625)\"/>\n       <path id=\"DejaVuSans-63\" d=\"M 3122 3366 \nL 3122 2828 \nQ 2878 2963 2633 3030 \nQ 2388 3097 2138 3097 \nQ 1578 3097 1268 2742 \nQ 959 2388 959 1747 \nQ 959 1106 1268 751 \nQ 1578 397 2138 397 \nQ 2388 397 2633 464 \nQ 2878 531 3122 666 \nL 3122 134 \nQ 2881 22 2623 -34 \nQ 2366 -91 2075 -91 \nQ 1284 -91 818 406 \nQ 353 903 353 1747 \nQ 353 2603 823 3093 \nQ 1294 3584 2113 3584 \nQ 2378 3584 2631 3529 \nQ 2884 3475 3122 3366 \nz\n\" transform=\"scale(0.015625)\"/>\n       <path id=\"DejaVuSans-68\" d=\"M 3513 2113 \nL 3513 0 \nL 2938 0 \nL 2938 2094 \nQ 2938 2591 2744 2837 \nQ 2550 3084 2163 3084 \nQ 1697 3084 1428 2787 \nQ 1159 2491 1159 1978 \nL 1159 0 \nL 581 0 \nL 581 4863 \nL 1159 4863 \nL 1159 2956 \nQ 1366 3272 1645 3428 \nQ 1925 3584 2291 3584 \nQ 2894 3584 3203 3211 \nQ 3513 2838 3513 2113 \nz\n\" transform=\"scale(0.015625)\"/>\n       <path id=\"DejaVuSans-73\" d=\"M 2834 3397 \nL 2834 2853 \nQ 2591 2978 2328 3040 \nQ 2066 3103 1784 3103 \nQ 1356 3103 1142 2972 \nQ 928 2841 928 2578 \nQ 928 2378 1081 2264 \nQ 1234 2150 1697 2047 \nL 1894 2003 \nQ 2506 1872 2764 1633 \nQ 3022 1394 3022 966 \nQ 3022 478 2636 193 \nQ 2250 -91 1575 -91 \nQ 1294 -91 989 -36 \nQ 684 19 347 128 \nL 347 722 \nQ 666 556 975 473 \nQ 1284 391 1588 391 \nQ 1994 391 2212 530 \nQ 2431 669 2431 922 \nQ 2431 1156 2273 1281 \nQ 2116 1406 1581 1522 \nL 1381 1569 \nQ 847 1681 609 1914 \nQ 372 2147 372 2553 \nQ 372 3047 722 3315 \nQ 1072 3584 1716 3584 \nQ 2034 3584 2315 3537 \nQ 2597 3491 2834 3397 \nz\n\" transform=\"scale(0.015625)\"/>\n      </defs>\n      <use xlink:href=\"#DejaVuSans-45\"/>\n      <use xlink:href=\"#DejaVuSans-70\" x=\"63.183594\"/>\n      <use xlink:href=\"#DejaVuSans-6f\" x=\"126.660156\"/>\n      <use xlink:href=\"#DejaVuSans-63\" x=\"187.841797\"/>\n      <use xlink:href=\"#DejaVuSans-68\" x=\"242.822266\"/>\n      <use xlink:href=\"#DejaVuSans-73\" x=\"306.201172\"/>\n     </g>\n    </g>\n   </g>\n   <g id=\"matplotlib.axis_2\">\n    <g id=\"ytick_1\">\n     <g id=\"line2d_10\">\n      <defs>\n       <path id=\"m365fac61c6\" d=\"M 0 0 \nL -3.5 0 \n\" style=\"stroke: #000000; stroke-width: 0.8\"/>\n      </defs>\n      <g>\n       <use xlink:href=\"#m365fac61c6\" x=\"50.14375\" y=\"252.142138\" style=\"stroke: #000000; stroke-width: 0.8\"/>\n      </g>\n     </g>\n     <g id=\"text_11\">\n      <!-- 0.94 -->\n      <g transform=\"translate(20.878125 255.941357) scale(0.1 -0.1)\">\n       <defs>\n        <path id=\"DejaVuSans-30\" d=\"M 2034 4250 \nQ 1547 4250 1301 3770 \nQ 1056 3291 1056 2328 \nQ 1056 1369 1301 889 \nQ 1547 409 2034 409 \nQ 2525 409 2770 889 \nQ 3016 1369 3016 2328 \nQ 3016 3291 2770 3770 \nQ 2525 4250 2034 4250 \nz\nM 2034 4750 \nQ 2819 4750 3233 4129 \nQ 3647 3509 3647 2328 \nQ 3647 1150 3233 529 \nQ 2819 -91 2034 -91 \nQ 1250 -91 836 529 \nQ 422 1150 422 2328 \nQ 422 3509 836 4129 \nQ 1250 4750 2034 4750 \nz\n\" transform=\"scale(0.015625)\"/>\n        <path id=\"DejaVuSans-2e\" d=\"M 684 794 \nL 1344 794 \nL 1344 0 \nL 684 0 \nL 684 794 \nz\n\" transform=\"scale(0.015625)\"/>\n       </defs>\n       <use xlink:href=\"#DejaVuSans-30\"/>\n       <use xlink:href=\"#DejaVuSans-2e\" x=\"63.623047\"/>\n       <use xlink:href=\"#DejaVuSans-39\" x=\"95.410156\"/>\n       <use xlink:href=\"#DejaVuSans-34\" x=\"159.033203\"/>\n      </g>\n     </g>\n    </g>\n    <g id=\"ytick_2\">\n     <g id=\"line2d_11\">\n      <g>\n       <use xlink:href=\"#m365fac61c6\" x=\"50.14375\" y=\"215.854136\" style=\"stroke: #000000; stroke-width: 0.8\"/>\n      </g>\n     </g>\n     <g id=\"text_12\">\n      <!-- 0.95 -->\n      <g transform=\"translate(20.878125 219.653355) scale(0.1 -0.1)\">\n       <use xlink:href=\"#DejaVuSans-30\"/>\n       <use xlink:href=\"#DejaVuSans-2e\" x=\"63.623047\"/>\n       <use xlink:href=\"#DejaVuSans-39\" x=\"95.410156\"/>\n       <use xlink:href=\"#DejaVuSans-35\" x=\"159.033203\"/>\n      </g>\n     </g>\n    </g>\n    <g id=\"ytick_3\">\n     <g id=\"line2d_12\">\n      <g>\n       <use xlink:href=\"#m365fac61c6\" x=\"50.14375\" y=\"179.566134\" style=\"stroke: #000000; stroke-width: 0.8\"/>\n      </g>\n     </g>\n     <g id=\"text_13\">\n      <!-- 0.96 -->\n      <g transform=\"translate(20.878125 183.365352) scale(0.1 -0.1)\">\n       <use xlink:href=\"#DejaVuSans-30\"/>\n       <use xlink:href=\"#DejaVuSans-2e\" x=\"63.623047\"/>\n       <use xlink:href=\"#DejaVuSans-39\" x=\"95.410156\"/>\n       <use xlink:href=\"#DejaVuSans-36\" x=\"159.033203\"/>\n      </g>\n     </g>\n    </g>\n    <g id=\"ytick_4\">\n     <g id=\"line2d_13\">\n      <g>\n       <use xlink:href=\"#m365fac61c6\" x=\"50.14375\" y=\"143.278131\" style=\"stroke: #000000; stroke-width: 0.8\"/>\n      </g>\n     </g>\n     <g id=\"text_14\">\n      <!-- 0.97 -->\n      <g transform=\"translate(20.878125 147.07735) scale(0.1 -0.1)\">\n       <use xlink:href=\"#DejaVuSans-30\"/>\n       <use xlink:href=\"#DejaVuSans-2e\" x=\"63.623047\"/>\n       <use xlink:href=\"#DejaVuSans-39\" x=\"95.410156\"/>\n       <use xlink:href=\"#DejaVuSans-37\" x=\"159.033203\"/>\n      </g>\n     </g>\n    </g>\n    <g id=\"ytick_5\">\n     <g id=\"line2d_14\">\n      <g>\n       <use xlink:href=\"#m365fac61c6\" x=\"50.14375\" y=\"106.990129\" style=\"stroke: #000000; stroke-width: 0.8\"/>\n      </g>\n     </g>\n     <g id=\"text_15\">\n      <!-- 0.98 -->\n      <g transform=\"translate(20.878125 110.789348) scale(0.1 -0.1)\">\n       <use xlink:href=\"#DejaVuSans-30\"/>\n       <use xlink:href=\"#DejaVuSans-2e\" x=\"63.623047\"/>\n       <use xlink:href=\"#DejaVuSans-39\" x=\"95.410156\"/>\n       <use xlink:href=\"#DejaVuSans-38\" x=\"159.033203\"/>\n      </g>\n     </g>\n    </g>\n    <g id=\"ytick_6\">\n     <g id=\"line2d_15\">\n      <g>\n       <use xlink:href=\"#m365fac61c6\" x=\"50.14375\" y=\"70.702127\" style=\"stroke: #000000; stroke-width: 0.8\"/>\n      </g>\n     </g>\n     <g id=\"text_16\">\n      <!-- 0.99 -->\n      <g transform=\"translate(20.878125 74.501346) scale(0.1 -0.1)\">\n       <use xlink:href=\"#DejaVuSans-30\"/>\n       <use xlink:href=\"#DejaVuSans-2e\" x=\"63.623047\"/>\n       <use xlink:href=\"#DejaVuSans-39\" x=\"95.410156\"/>\n       <use xlink:href=\"#DejaVuSans-39\" x=\"159.033203\"/>\n      </g>\n     </g>\n    </g>\n    <g id=\"ytick_7\">\n     <g id=\"line2d_16\">\n      <g>\n       <use xlink:href=\"#m365fac61c6\" x=\"50.14375\" y=\"34.414125\" style=\"stroke: #000000; stroke-width: 0.8\"/>\n      </g>\n     </g>\n     <g id=\"text_17\">\n      <!-- 1.00 -->\n      <g transform=\"translate(20.878125 38.213344) scale(0.1 -0.1)\">\n       <use xlink:href=\"#DejaVuSans-31\"/>\n       <use xlink:href=\"#DejaVuSans-2e\" x=\"63.623047\"/>\n       <use xlink:href=\"#DejaVuSans-30\" x=\"95.410156\"/>\n       <use xlink:href=\"#DejaVuSans-30\" x=\"159.033203\"/>\n      </g>\n     </g>\n    </g>\n    <g id=\"text_18\">\n     <!-- accuracy -->\n     <g transform=\"translate(14.798438 177.9335) rotate(-90) scale(0.1 -0.1)\">\n      <defs>\n       <path id=\"DejaVuSans-61\" d=\"M 2194 1759 \nQ 1497 1759 1228 1600 \nQ 959 1441 959 1056 \nQ 959 750 1161 570 \nQ 1363 391 1709 391 \nQ 2188 391 2477 730 \nQ 2766 1069 2766 1631 \nL 2766 1759 \nL 2194 1759 \nz\nM 3341 1997 \nL 3341 0 \nL 2766 0 \nL 2766 531 \nQ 2569 213 2275 61 \nQ 1981 -91 1556 -91 \nQ 1019 -91 701 211 \nQ 384 513 384 1019 \nQ 384 1609 779 1909 \nQ 1175 2209 1959 2209 \nL 2766 2209 \nL 2766 2266 \nQ 2766 2663 2505 2880 \nQ 2244 3097 1772 3097 \nQ 1472 3097 1187 3025 \nQ 903 2953 641 2809 \nL 641 3341 \nQ 956 3463 1253 3523 \nQ 1550 3584 1831 3584 \nQ 2591 3584 2966 3190 \nQ 3341 2797 3341 1997 \nz\n\" transform=\"scale(0.015625)\"/>\n       <path id=\"DejaVuSans-75\" d=\"M 544 1381 \nL 544 3500 \nL 1119 3500 \nL 1119 1403 \nQ 1119 906 1312 657 \nQ 1506 409 1894 409 \nQ 2359 409 2629 706 \nQ 2900 1003 2900 1516 \nL 2900 3500 \nL 3475 3500 \nL 3475 0 \nL 2900 0 \nL 2900 538 \nQ 2691 219 2414 64 \nQ 2138 -91 1772 -91 \nQ 1169 -91 856 284 \nQ 544 659 544 1381 \nz\nM 1991 3584 \nL 1991 3584 \nz\n\" transform=\"scale(0.015625)\"/>\n       <path id=\"DejaVuSans-72\" d=\"M 2631 2963 \nQ 2534 3019 2420 3045 \nQ 2306 3072 2169 3072 \nQ 1681 3072 1420 2755 \nQ 1159 2438 1159 1844 \nL 1159 0 \nL 581 0 \nL 581 3500 \nL 1159 3500 \nL 1159 2956 \nQ 1341 3275 1631 3429 \nQ 1922 3584 2338 3584 \nQ 2397 3584 2469 3576 \nQ 2541 3569 2628 3553 \nL 2631 2963 \nz\n\" transform=\"scale(0.015625)\"/>\n       <path id=\"DejaVuSans-79\" d=\"M 2059 -325 \nQ 1816 -950 1584 -1140 \nQ 1353 -1331 966 -1331 \nL 506 -1331 \nL 506 -850 \nL 844 -850 \nQ 1081 -850 1212 -737 \nQ 1344 -625 1503 -206 \nL 1606 56 \nL 191 3500 \nL 800 3500 \nL 1894 763 \nL 2988 3500 \nL 3597 3500 \nL 2059 -325 \nz\n\" transform=\"scale(0.015625)\"/>\n      </defs>\n      <use xlink:href=\"#DejaVuSans-61\"/>\n      <use xlink:href=\"#DejaVuSans-63\" x=\"61.279297\"/>\n      <use xlink:href=\"#DejaVuSans-63\" x=\"116.259766\"/>\n      <use xlink:href=\"#DejaVuSans-75\" x=\"171.240234\"/>\n      <use xlink:href=\"#DejaVuSans-72\" x=\"234.619141\"/>\n      <use xlink:href=\"#DejaVuSans-61\" x=\"275.732422\"/>\n      <use xlink:href=\"#DejaVuSans-63\" x=\"337.011719\"/>\n      <use xlink:href=\"#DejaVuSans-79\" x=\"391.992188\"/>\n     </g>\n    </g>\n   </g>\n   <g id=\"line2d_17\">\n    <path d=\"M 66.376477 74.734233 \nL 106.958295 74.734233 \nL 147.540114 74.734233 \nL 188.121932 74.734233 \nL 228.70375 74.734233 \nL 269.285568 115.054125 \nL 309.867386 74.734233 \nL 350.449205 74.734233 \nL 391.031023 115.054125 \n\" clip-path=\"url(#pa2566e98c1)\" style=\"fill: none; stroke: #1f77b4; stroke-width: 1.5; stroke-linecap: square\"/>\n   </g>\n   <g id=\"line2d_18\">\n    <path d=\"M 66.376477 34.414125 \nL 106.958295 34.414125 \nL 147.540114 34.414125 \nL 188.121932 34.414125 \nL 228.70375 276.334125 \nL 269.285568 34.414125 \nL 309.867386 34.414125 \nL 350.449205 34.414125 \nL 391.031023 34.414125 \n\" clip-path=\"url(#pa2566e98c1)\" style=\"fill: none; stroke: #ff7f0e; stroke-width: 1.5; stroke-linecap: square\"/>\n   </g>\n   <g id=\"patch_3\">\n    <path d=\"M 50.14375 288.430125 \nL 50.14375 22.318125 \n\" style=\"fill: none; stroke: #000000; stroke-width: 0.8; stroke-linejoin: miter; stroke-linecap: square\"/>\n   </g>\n   <g id=\"patch_4\">\n    <path d=\"M 407.26375 288.430125 \nL 407.26375 22.318125 \n\" style=\"fill: none; stroke: #000000; stroke-width: 0.8; stroke-linejoin: miter; stroke-linecap: square\"/>\n   </g>\n   <g id=\"patch_5\">\n    <path d=\"M 50.14375 288.430125 \nL 407.26375 288.430125 \n\" style=\"fill: none; stroke: #000000; stroke-width: 0.8; stroke-linejoin: miter; stroke-linecap: square\"/>\n   </g>\n   <g id=\"patch_6\">\n    <path d=\"M 50.14375 22.318125 \nL 407.26375 22.318125 \n\" style=\"fill: none; stroke: #000000; stroke-width: 0.8; stroke-linejoin: miter; stroke-linecap: square\"/>\n   </g>\n   <g id=\"text_19\">\n    <!-- Training and validation accuracy -->\n    <g transform=\"translate(131.411875 16.318125) scale(0.12 -0.12)\">\n     <defs>\n      <path id=\"DejaVuSans-54\" d=\"M -19 4666 \nL 3928 4666 \nL 3928 4134 \nL 2272 4134 \nL 2272 0 \nL 1638 0 \nL 1638 4134 \nL -19 4134 \nL -19 4666 \nz\n\" transform=\"scale(0.015625)\"/>\n      <path id=\"DejaVuSans-69\" d=\"M 603 3500 \nL 1178 3500 \nL 1178 0 \nL 603 0 \nL 603 3500 \nz\nM 603 4863 \nL 1178 4863 \nL 1178 4134 \nL 603 4134 \nL 603 4863 \nz\n\" transform=\"scale(0.015625)\"/>\n      <path id=\"DejaVuSans-6e\" d=\"M 3513 2113 \nL 3513 0 \nL 2938 0 \nL 2938 2094 \nQ 2938 2591 2744 2837 \nQ 2550 3084 2163 3084 \nQ 1697 3084 1428 2787 \nQ 1159 2491 1159 1978 \nL 1159 0 \nL 581 0 \nL 581 3500 \nL 1159 3500 \nL 1159 2956 \nQ 1366 3272 1645 3428 \nQ 1925 3584 2291 3584 \nQ 2894 3584 3203 3211 \nQ 3513 2838 3513 2113 \nz\n\" transform=\"scale(0.015625)\"/>\n      <path id=\"DejaVuSans-67\" d=\"M 2906 1791 \nQ 2906 2416 2648 2759 \nQ 2391 3103 1925 3103 \nQ 1463 3103 1205 2759 \nQ 947 2416 947 1791 \nQ 947 1169 1205 825 \nQ 1463 481 1925 481 \nQ 2391 481 2648 825 \nQ 2906 1169 2906 1791 \nz\nM 3481 434 \nQ 3481 -459 3084 -895 \nQ 2688 -1331 1869 -1331 \nQ 1566 -1331 1297 -1286 \nQ 1028 -1241 775 -1147 \nL 775 -588 \nQ 1028 -725 1275 -790 \nQ 1522 -856 1778 -856 \nQ 2344 -856 2625 -561 \nQ 2906 -266 2906 331 \nL 2906 616 \nQ 2728 306 2450 153 \nQ 2172 0 1784 0 \nQ 1141 0 747 490 \nQ 353 981 353 1791 \nQ 353 2603 747 3093 \nQ 1141 3584 1784 3584 \nQ 2172 3584 2450 3431 \nQ 2728 3278 2906 2969 \nL 2906 3500 \nL 3481 3500 \nL 3481 434 \nz\n\" transform=\"scale(0.015625)\"/>\n      <path id=\"DejaVuSans-20\" transform=\"scale(0.015625)\"/>\n      <path id=\"DejaVuSans-64\" d=\"M 2906 2969 \nL 2906 4863 \nL 3481 4863 \nL 3481 0 \nL 2906 0 \nL 2906 525 \nQ 2725 213 2448 61 \nQ 2172 -91 1784 -91 \nQ 1150 -91 751 415 \nQ 353 922 353 1747 \nQ 353 2572 751 3078 \nQ 1150 3584 1784 3584 \nQ 2172 3584 2448 3432 \nQ 2725 3281 2906 2969 \nz\nM 947 1747 \nQ 947 1113 1208 752 \nQ 1469 391 1925 391 \nQ 2381 391 2643 752 \nQ 2906 1113 2906 1747 \nQ 2906 2381 2643 2742 \nQ 2381 3103 1925 3103 \nQ 1469 3103 1208 2742 \nQ 947 2381 947 1747 \nz\n\" transform=\"scale(0.015625)\"/>\n      <path id=\"DejaVuSans-76\" d=\"M 191 3500 \nL 800 3500 \nL 1894 563 \nL 2988 3500 \nL 3597 3500 \nL 2284 0 \nL 1503 0 \nL 191 3500 \nz\n\" transform=\"scale(0.015625)\"/>\n      <path id=\"DejaVuSans-6c\" d=\"M 603 4863 \nL 1178 4863 \nL 1178 0 \nL 603 0 \nL 603 4863 \nz\n\" transform=\"scale(0.015625)\"/>\n      <path id=\"DejaVuSans-74\" d=\"M 1172 4494 \nL 1172 3500 \nL 2356 3500 \nL 2356 3053 \nL 1172 3053 \nL 1172 1153 \nQ 1172 725 1289 603 \nQ 1406 481 1766 481 \nL 2356 481 \nL 2356 0 \nL 1766 0 \nQ 1100 0 847 248 \nQ 594 497 594 1153 \nL 594 3053 \nL 172 3053 \nL 172 3500 \nL 594 3500 \nL 594 4494 \nL 1172 4494 \nz\n\" transform=\"scale(0.015625)\"/>\n     </defs>\n     <use xlink:href=\"#DejaVuSans-54\"/>\n     <use xlink:href=\"#DejaVuSans-72\" x=\"46.333984\"/>\n     <use xlink:href=\"#DejaVuSans-61\" x=\"87.447266\"/>\n     <use xlink:href=\"#DejaVuSans-69\" x=\"148.726562\"/>\n     <use xlink:href=\"#DejaVuSans-6e\" x=\"176.509766\"/>\n     <use xlink:href=\"#DejaVuSans-69\" x=\"239.888672\"/>\n     <use xlink:href=\"#DejaVuSans-6e\" x=\"267.671875\"/>\n     <use xlink:href=\"#DejaVuSans-67\" x=\"331.050781\"/>\n     <use xlink:href=\"#DejaVuSans-20\" x=\"394.527344\"/>\n     <use xlink:href=\"#DejaVuSans-61\" x=\"426.314453\"/>\n     <use xlink:href=\"#DejaVuSans-6e\" x=\"487.59375\"/>\n     <use xlink:href=\"#DejaVuSans-64\" x=\"550.972656\"/>\n     <use xlink:href=\"#DejaVuSans-20\" x=\"614.449219\"/>\n     <use xlink:href=\"#DejaVuSans-76\" x=\"646.236328\"/>\n     <use xlink:href=\"#DejaVuSans-61\" x=\"705.416016\"/>\n     <use xlink:href=\"#DejaVuSans-6c\" x=\"766.695312\"/>\n     <use xlink:href=\"#DejaVuSans-69\" x=\"794.478516\"/>\n     <use xlink:href=\"#DejaVuSans-64\" x=\"822.261719\"/>\n     <use xlink:href=\"#DejaVuSans-61\" x=\"885.738281\"/>\n     <use xlink:href=\"#DejaVuSans-74\" x=\"947.017578\"/>\n     <use xlink:href=\"#DejaVuSans-69\" x=\"986.226562\"/>\n     <use xlink:href=\"#DejaVuSans-6f\" x=\"1014.009766\"/>\n     <use xlink:href=\"#DejaVuSans-6e\" x=\"1075.191406\"/>\n     <use xlink:href=\"#DejaVuSans-20\" x=\"1138.570312\"/>\n     <use xlink:href=\"#DejaVuSans-61\" x=\"1170.357422\"/>\n     <use xlink:href=\"#DejaVuSans-63\" x=\"1231.636719\"/>\n     <use xlink:href=\"#DejaVuSans-63\" x=\"1286.617188\"/>\n     <use xlink:href=\"#DejaVuSans-75\" x=\"1341.597656\"/>\n     <use xlink:href=\"#DejaVuSans-72\" x=\"1404.976562\"/>\n     <use xlink:href=\"#DejaVuSans-61\" x=\"1446.089844\"/>\n     <use xlink:href=\"#DejaVuSans-63\" x=\"1507.369141\"/>\n     <use xlink:href=\"#DejaVuSans-79\" x=\"1562.349609\"/>\n    </g>\n   </g>\n   <g id=\"legend_1\">\n    <g id=\"patch_7\">\n     <path d=\"M 57.14375 283.430125 \nL 162.5375 283.430125 \nQ 164.5375 283.430125 164.5375 281.430125 \nL 164.5375 252.517625 \nQ 164.5375 250.517625 162.5375 250.517625 \nL 57.14375 250.517625 \nQ 55.14375 250.517625 55.14375 252.517625 \nL 55.14375 281.430125 \nQ 55.14375 283.430125 57.14375 283.430125 \nz\n\" style=\"fill: #ffffff; opacity: 0.8; stroke: #cccccc; stroke-linejoin: miter\"/>\n    </g>\n    <g id=\"line2d_19\">\n     <path d=\"M 59.14375 258.616062 \nL 69.14375 258.616062 \nL 79.14375 258.616062 \n\" style=\"fill: none; stroke: #1f77b4; stroke-width: 1.5; stroke-linecap: square\"/>\n    </g>\n    <g id=\"text_20\">\n     <!-- train_accuracy -->\n     <g transform=\"translate(87.14375 262.116062) scale(0.1 -0.1)\">\n      <defs>\n       <path id=\"DejaVuSans-5f\" d=\"M 3263 -1063 \nL 3263 -1509 \nL -63 -1509 \nL -63 -1063 \nL 3263 -1063 \nz\n\" transform=\"scale(0.015625)\"/>\n      </defs>\n      <use xlink:href=\"#DejaVuSans-74\"/>\n      <use xlink:href=\"#DejaVuSans-72\" x=\"39.208984\"/>\n      <use xlink:href=\"#DejaVuSans-61\" x=\"80.322266\"/>\n      <use xlink:href=\"#DejaVuSans-69\" x=\"141.601562\"/>\n      <use xlink:href=\"#DejaVuSans-6e\" x=\"169.384766\"/>\n      <use xlink:href=\"#DejaVuSans-5f\" x=\"232.763672\"/>\n      <use xlink:href=\"#DejaVuSans-61\" x=\"282.763672\"/>\n      <use xlink:href=\"#DejaVuSans-63\" x=\"344.042969\"/>\n      <use xlink:href=\"#DejaVuSans-63\" x=\"399.023438\"/>\n      <use xlink:href=\"#DejaVuSans-75\" x=\"454.003906\"/>\n      <use xlink:href=\"#DejaVuSans-72\" x=\"517.382812\"/>\n      <use xlink:href=\"#DejaVuSans-61\" x=\"558.496094\"/>\n      <use xlink:href=\"#DejaVuSans-63\" x=\"619.775391\"/>\n      <use xlink:href=\"#DejaVuSans-79\" x=\"674.755859\"/>\n     </g>\n    </g>\n    <g id=\"line2d_20\">\n     <path d=\"M 59.14375 273.572312 \nL 69.14375 273.572312 \nL 79.14375 273.572312 \n\" style=\"fill: none; stroke: #ff7f0e; stroke-width: 1.5; stroke-linecap: square\"/>\n    </g>\n    <g id=\"text_21\">\n     <!-- val_accuracy -->\n     <g transform=\"translate(87.14375 277.072312) scale(0.1 -0.1)\">\n      <use xlink:href=\"#DejaVuSans-76\"/>\n      <use xlink:href=\"#DejaVuSans-61\" x=\"59.179688\"/>\n      <use xlink:href=\"#DejaVuSans-6c\" x=\"120.458984\"/>\n      <use xlink:href=\"#DejaVuSans-5f\" x=\"148.242188\"/>\n      <use xlink:href=\"#DejaVuSans-61\" x=\"198.242188\"/>\n      <use xlink:href=\"#DejaVuSans-63\" x=\"259.521484\"/>\n      <use xlink:href=\"#DejaVuSans-63\" x=\"314.501953\"/>\n      <use xlink:href=\"#DejaVuSans-75\" x=\"369.482422\"/>\n      <use xlink:href=\"#DejaVuSans-72\" x=\"432.861328\"/>\n      <use xlink:href=\"#DejaVuSans-61\" x=\"473.974609\"/>\n      <use xlink:href=\"#DejaVuSans-63\" x=\"535.253906\"/>\n      <use xlink:href=\"#DejaVuSans-79\" x=\"590.234375\"/>\n     </g>\n    </g>\n   </g>\n  </g>\n </g>\n <defs>\n  <clipPath id=\"pa2566e98c1\">\n   <rect x=\"50.14375\" y=\"22.318125\" width=\"357.12\" height=\"266.112\"/>\n  </clipPath>\n </defs>\n</svg>\n"
          },
          "metadata": {}
        }
      ]
    },
    {
      "cell_type": "code",
      "source": [],
      "metadata": {
        "id": "RWGhcTXIaZyR"
      },
      "execution_count": null,
      "outputs": []
    }
  ]
}