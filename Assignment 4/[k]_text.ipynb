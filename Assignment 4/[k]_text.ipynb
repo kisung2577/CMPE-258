{
  "nbformat": 4,
  "nbformat_minor": 0,
  "metadata": {
    "colab": {
      "provenance": [],
      "include_colab_link": true
    },
    "kernelspec": {
      "name": "python3",
      "display_name": "Python 3"
    },
    "language_info": {
      "name": "python"
    }
  },
  "cells": [
    {
      "cell_type": "markdown",
      "metadata": {
        "id": "view-in-github",
        "colab_type": "text"
      },
      "source": [
        "<a href=\"https://colab.research.google.com/github/kisung2577/CMPE-258/blob/main/Assignment%204/%5Bk%5D_text.ipynb\" target=\"_parent\"><img src=\"https://colab.research.google.com/assets/colab-badge.svg\" alt=\"Open In Colab\"/></a>"
      ]
    },
    {
      "cell_type": "markdown",
      "source": [
        "Installations Required"
      ],
      "metadata": {
        "id": "SDjlxtxrdciS"
      }
    },
    {
      "cell_type": "code",
      "metadata": {
        "id": "ABLd8on9lFwK",
        "colab": {
          "base_uri": "https://localhost:8080/"
        },
        "outputId": "01daecdd-d928-472f-dcd3-4fd5b5889097"
      },
      "source": [
        "\n",
        "!pip install -U augly[text]\n",
        "!sudo apt-get install python3-magic"
      ],
      "execution_count": null,
      "outputs": [
        {
          "output_type": "stream",
          "name": "stdout",
          "text": [
            "Looking in indexes: https://pypi.org/simple, https://us-python.pkg.dev/colab-wheels/public/simple/\n",
            "Collecting augly[text]\n",
            "  Downloading augly-1.0.0-py3-none-any.whl (24.3 MB)\n",
            "\u001b[2K     \u001b[90m━━━━━━━━━━━━━━━━━━━━━━━━━━━━━━━━━━━━━━━━\u001b[0m \u001b[32m24.3/24.3 MB\u001b[0m \u001b[31m15.6 MB/s\u001b[0m eta \u001b[36m0:00:00\u001b[0m\n",
            "\u001b[?25hCollecting python-magic>=0.4.22\n",
            "  Downloading python_magic-0.4.27-py2.py3-none-any.whl (13 kB)\n",
            "Collecting iopath>=0.1.8\n",
            "  Downloading iopath-0.1.10.tar.gz (42 kB)\n",
            "\u001b[2K     \u001b[90m━━━━━━━━━━━━━━━━━━━━━━━━━━━━━━━━━━━━━━━━\u001b[0m \u001b[32m42.2/42.2 kB\u001b[0m \u001b[31m1.7 MB/s\u001b[0m eta \u001b[36m0:00:00\u001b[0m\n",
            "\u001b[?25h  Preparing metadata (setup.py) ... \u001b[?25l\u001b[?25hdone\n",
            "Requirement already satisfied: regex>=2021.4.4 in /usr/local/lib/python3.9/dist-packages (from augly[text]) (2022.10.31)\n",
            "Collecting nlpaug==1.1.3\n",
            "  Downloading nlpaug-1.1.3-py3-none-any.whl (394 kB)\n",
            "\u001b[2K     \u001b[90m━━━━━━━━━━━━━━━━━━━━━━━━━━━━━━━━━━━━━━\u001b[0m \u001b[32m394.2/394.2 kB\u001b[0m \u001b[31m25.0 MB/s\u001b[0m eta \u001b[36m0:00:00\u001b[0m\n",
            "\u001b[?25hRequirement already satisfied: tqdm in /usr/local/lib/python3.9/dist-packages (from iopath>=0.1.8->augly[text]) (4.65.0)\n",
            "Requirement already satisfied: typing_extensions in /usr/local/lib/python3.9/dist-packages (from iopath>=0.1.8->augly[text]) (4.5.0)\n",
            "Collecting portalocker\n",
            "  Downloading portalocker-2.7.0-py2.py3-none-any.whl (15 kB)\n",
            "Building wheels for collected packages: iopath\n",
            "  Building wheel for iopath (setup.py) ... \u001b[?25l\u001b[?25hdone\n",
            "  Created wheel for iopath: filename=iopath-0.1.10-py3-none-any.whl size=31547 sha256=c899b06478b6c5038ae507622dc6ee536fb31e22cdcecc3e60c4dc0d82088d04\n",
            "  Stored in directory: /root/.cache/pip/wheels/c1/13/6d/441d8f2af76ee6d2a3e67eebb1d0c556fefcee0a8b32266a8e\n",
            "Successfully built iopath\n",
            "Installing collected packages: nlpaug, python-magic, portalocker, iopath, augly\n",
            "Successfully installed augly-1.0.0 iopath-0.1.10 nlpaug-1.1.3 portalocker-2.7.0 python-magic-0.4.27\n",
            "Reading package lists... Done\n",
            "Building dependency tree       \n",
            "Reading state information... Done\n",
            "The following NEW packages will be installed:\n",
            "  python3-magic\n",
            "0 upgraded, 1 newly installed, 0 to remove and 24 not upgraded.\n",
            "Need to get 9,376 B of archives.\n",
            "After this operation, 43.0 kB of additional disk space will be used.\n",
            "Get:1 http://archive.ubuntu.com/ubuntu focal/main amd64 python3-magic all 2:0.4.15-3 [9,376 B]\n",
            "Fetched 9,376 B in 1s (15.7 kB/s)\n",
            "debconf: unable to initialize frontend: Dialog\n",
            "debconf: (No usable dialog-like program is installed, so the dialog based frontend cannot be used. at /usr/share/perl5/Debconf/FrontEnd/Dialog.pm line 76, <> line 1.)\n",
            "debconf: falling back to frontend: Readline\n",
            "debconf: unable to initialize frontend: Readline\n",
            "debconf: (This frontend requires a controlling tty.)\n",
            "debconf: falling back to frontend: Teletype\n",
            "dpkg-preconfigure: unable to re-open stdin: \n",
            "Selecting previously unselected package python3-magic.\n",
            "(Reading database ... 122349 files and directories currently installed.)\n",
            "Preparing to unpack .../python3-magic_2%3a0.4.15-3_all.deb ...\n",
            "Unpacking python3-magic (2:0.4.15-3) ...\n",
            "Setting up python3-magic (2:0.4.15-3) ...\n"
          ]
        }
      ]
    },
    {
      "cell_type": "markdown",
      "source": [
        "Imports and inputs"
      ],
      "metadata": {
        "id": "vReq_aAzdfqZ"
      }
    },
    {
      "cell_type": "code",
      "metadata": {
        "id": "LJeIPC67lJet",
        "colab": {
          "base_uri": "https://localhost:8080/",
          "height": 35
        },
        "outputId": "1b779bd4-cc9f-488e-bef9-a3e087a04bfd"
      },
      "source": [
        "import augly.text as textaugs\n",
        "\n",
        "# Define input text\n",
        "input_text = \"I am Dhanasree, I am pursuing Masters in software engineering in San Jose State University, I love data science\"\n",
        "input_text"
      ],
      "execution_count": null,
      "outputs": [
        {
          "output_type": "execute_result",
          "data": {
            "text/plain": [
              "'I am Dhanasree, I am pursuing Masters in software engineering in San Jose State University, I love data science'"
            ],
            "application/vnd.google.colaboratory.intrinsic+json": {
              "type": "string"
            }
          },
          "metadata": {},
          "execution_count": 2
        }
      ]
    },
    {
      "cell_type": "markdown",
      "source": [
        "Apply various augmentations"
      ],
      "metadata": {
        "id": "wrr3ZxbydkKG"
      }
    },
    {
      "cell_type": "code",
      "metadata": {
        "id": "LdGl0JxjlRXR",
        "colab": {
          "base_uri": "https://localhost:8080/"
        },
        "outputId": "8d97eadc-4576-450b-e973-94ac30783510"
      },
      "source": [
        "print(textaugs.simulate_typos(input_text))"
      ],
      "execution_count": null,
      "outputs": [
        {
          "output_type": "stream",
          "name": "stdout",
          "text": [
            "I am Dhanasree, I ma pursuing Msaters (n software engineering ni San Jose Cstate University, I love data science\n"
          ]
        }
      ]
    },
    {
      "cell_type": "markdown",
      "source": [
        "Passing in a metadata list, to which metadata about the augmentation will be appended including kwargs and intensity (defined based on\n",
        "the kwargs for each augmentation).\n"
      ],
      "metadata": {
        "id": "5Ysf-ywVdngs"
      }
    },
    {
      "cell_type": "code",
      "metadata": {
        "id": "-PklmlHolR4j",
        "colab": {
          "base_uri": "https://localhost:8080/"
        },
        "outputId": "5b71f696-6d39-49fc-a5b6-e36a484f5145"
      },
      "source": [
        "meta = []\n",
        "print(\n",
        "    textaugs.replace_fun_fonts(\n",
        "        input_text, vary_fonts=True, granularity=\"word\", metadata=meta\n",
        "    )\n",
        ")\n",
        "meta"
      ],
      "execution_count": null,
      "outputs": [
        {
          "output_type": "stream",
          "name": "stdout",
          "text": [
            "I am Dhanasree, I am pursuing Masters i̲n̲ s͎o͎f͎t͎w͎a͎r͎e͎ engineering 𝕚𝕟 S͓̽a͓̽n͓̽ Jose State U̴n̴i̴v̴e̴r̴s̴i̴t̴y̴, I love d̳a̳t̳a̳ science\n"
          ]
        },
        {
          "output_type": "execute_result",
          "data": {
            "text/plain": [
              "[{'name': 'replace_fun_fonts',\n",
              "  'input_type': 'string',\n",
              "  'src_length': 1,\n",
              "  'dst_length': 141,\n",
              "  'aug_p': 0.3,\n",
              "  'aug_min': 1,\n",
              "  'aug_max': 10000,\n",
              "  'granularity': 'word',\n",
              "  'vary_fonts': True,\n",
              "  'fonts_path': '/usr/local/lib/python3.9/dist-packages/augly/assets/text/fun_fonts.json',\n",
              "  'n': 1,\n",
              "  'priority_words': None,\n",
              "  'intensity': 30.0}]"
            ]
          },
          "metadata": {},
          "execution_count": 4
        }
      ]
    },
    {
      "cell_type": "markdown",
      "source": [
        "For all the augmentations, we have class-based definitions as well as functional"
      ],
      "metadata": {
        "id": "S4Uo1kdudtIt"
      }
    },
    {
      "cell_type": "code",
      "metadata": {
        "id": "_ab92YUjyM6y",
        "colab": {
          "base_uri": "https://localhost:8080/"
        },
        "outputId": "ca1f22cf-33d1-4291-a4a7-6e3bad3d524b"
      },
      "source": [
        "meta = []\n",
        "aug = textaugs.ReplaceSimilarUnicodeChars(aug_word_p=0.6)\n",
        "print(aug(input_text, metadata=meta))\n",
        "meta"
      ],
      "execution_count": null,
      "outputs": [
        {
          "output_type": "stream",
          "name": "stdout",
          "text": [
            "I a♍ DhẵnasŖee, I a爪 pursuing Masters in şoftwarę engiກεerinĝ în śan ⓙose SᎿate ựnivérᏕity, I ℒove ȡata science\n"
          ]
        },
        {
          "output_type": "execute_result",
          "data": {
            "text/plain": [
              "[{'name': 'replace_similar_unicode_chars',\n",
              "  'input_type': 'string',\n",
              "  'src_length': 1,\n",
              "  'dst_length': 111,\n",
              "  'aug_char_p': 0.3,\n",
              "  'aug_word_p': 0.6,\n",
              "  'min_char': 2,\n",
              "  'aug_char_min': 1,\n",
              "  'aug_char_max': 1000,\n",
              "  'aug_word_min': 1,\n",
              "  'aug_word_max': 1000,\n",
              "  'n': 1,\n",
              "  'mapping_path': '/usr/local/lib/python3.9/dist-packages/augly/assets/text/letter_unicode_mapping.json',\n",
              "  'priority_words': None,\n",
              "  'intensity': 18.0}]"
            ]
          },
          "metadata": {},
          "execution_count": 5
        }
      ]
    },
    {
      "cell_type": "markdown",
      "source": [
        "Evaluating the fairness of your model by swapping gender in text\n",
        "\n",
        "inputs & evaluating the performance!"
      ],
      "metadata": {
        "id": "1XQ-NrlQdyCt"
      }
    },
    {
      "cell_type": "code",
      "metadata": {
        "id": "9-IMYGRyzNen",
        "colab": {
          "base_uri": "https://localhost:8080/"
        },
        "outputId": "ae45383b-7125-4cd4-ed20-40da65d82bef"
      },
      "source": [
        "gendered_text = \"My daughter is a beautiful girl and my son is a handsome boy\"\n",
        "aug = textaugs.SwapGenderedWords(aug_word_p=1.0)\n",
        "print(aug(gendered_text))"
      ],
      "execution_count": null,
      "outputs": [
        {
          "output_type": "stream",
          "name": "stdout",
          "text": [
            "My son is a beautiful boy and my daughter is a handsome girl\n"
          ]
        }
      ]
    },
    {
      "cell_type": "code",
      "metadata": {
        "id": "P_pXLW_l7euY",
        "colab": {
          "base_uri": "https://localhost:8080/"
        },
        "outputId": "179b707d-a7b8-4f73-f778-ee205897d55f"
      },
      "source": [
        "aug = textaugs.Contractions(aug_p=1.0)\n",
        "print(aug(input_text))"
      ],
      "execution_count": null,
      "outputs": [
        {
          "output_type": "stream",
          "name": "stdout",
          "text": [
            "[\"I'm Dhanasree, I'm pursuing Masters in software engineering in San Jose State University, I love data science\"]\n"
          ]
        }
      ]
    }
  ]
}