{
  "nbformat": 4,
  "nbformat_minor": 0,
  "metadata": {
    "colab": {
      "provenance": [],
      "include_colab_link": true
    },
    "kernelspec": {
      "name": "python3",
      "display_name": "Python 3"
    },
    "language_info": {
      "name": "python"
    }
  },
  "cells": [
    {
      "cell_type": "markdown",
      "metadata": {
        "id": "view-in-github",
        "colab_type": "text"
      },
      "source": [
        "<a href=\"https://colab.research.google.com/github/kisung2577/CMPE-258/blob/main/2b_NumPy.ipynb\" target=\"_parent\"><img src=\"https://colab.research.google.com/assets/colab-badge.svg\" alt=\"Open In Colab\"/></a>"
      ]
    },
    {
      "cell_type": "code",
      "execution_count": null,
      "metadata": {
        "id": "RqZL6hVLFLGZ"
      },
      "outputs": [],
      "source": [
        "import numpy as np"
      ]
    },
    {
      "cell_type": "code",
      "source": [
        "# Scalar vector multiplication\n",
        "\n",
        "a = np.array([3])\n",
        "b = np.array([2, 4, 5])\n",
        "mult = np.einsum('i, i -> i', a, b)\n",
        "print(a)\n",
        "print(b)\n",
        "print(mult)"
      ],
      "metadata": {
        "colab": {
          "base_uri": "https://localhost:8080/"
        },
        "id": "c7HOe-ZsFatj",
        "outputId": "e8ba1eb8-a76a-4a90-e69b-20541117a08c"
      },
      "execution_count": null,
      "outputs": [
        {
          "output_type": "stream",
          "name": "stdout",
          "text": [
            "[3]\n",
            "[2 4 5]\n",
            "[ 6 12 15]\n"
          ]
        }
      ]
    },
    {
      "cell_type": "code",
      "source": [
        "# Vector vector multiplication\n",
        "\n",
        "a = np.random.randn(2, 4)\n",
        "b = np.random.randn(4, 3)\n",
        "mult = np.einsum('ij, jk -> ik', a, b)\n",
        "print(a)\n",
        "print(b)\n",
        "print(mult)"
      ],
      "metadata": {
        "colab": {
          "base_uri": "https://localhost:8080/"
        },
        "id": "lypdY6QAFcni",
        "outputId": "f4c287f4-609b-48fc-ad2c-bbf031c37e3c"
      },
      "execution_count": null,
      "outputs": [
        {
          "output_type": "stream",
          "name": "stdout",
          "text": [
            "[[-0.00338652 -0.52004263 -0.79945164 -1.34850146]\n",
            " [-0.19883934 -0.80090957 -1.56811686  1.84009868]]\n",
            "[[ 1.19780323  1.51750588 -0.92404393]\n",
            " [-1.57687202 -1.28682156  0.27996047]\n",
            " [ 0.89980632 -0.72144876 -2.05001009]\n",
            " [ 0.98495439  0.40051464 -1.58427072]]\n",
            "[[-1.23157978  0.70073182  3.63281322]\n",
            " [ 1.42617331  2.59719027  0.25895418]]\n"
          ]
        }
      ]
    },
    {
      "cell_type": "code",
      "source": [
        "# Outer product\n",
        "\n",
        "a = np.arange(1, 4)\n",
        "b = np.arange(3, 6)  \n",
        "prod = np.einsum('i,j -> ij', a, b)\n",
        "print(a)\n",
        "print(b)\n",
        "print(prod)"
      ],
      "metadata": {
        "colab": {
          "base_uri": "https://localhost:8080/"
        },
        "id": "SiKW6k1KFev4",
        "outputId": "e71f6b23-f9cc-4b95-e744-504f2f0c608f"
      },
      "execution_count": null,
      "outputs": [
        {
          "output_type": "stream",
          "name": "stdout",
          "text": [
            "[1 2 3]\n",
            "[3 4 5]\n",
            "[[ 3  4  5]\n",
            " [ 6  8 10]\n",
            " [ 9 12 15]]\n"
          ]
        }
      ]
    },
    {
      "cell_type": "code",
      "source": [
        "# Scalar dot product\n",
        "\n",
        "a = np.arange(9).reshape(3, 3)\n",
        "b = np.arange(6).reshape(3, 2)\n",
        "prod = np.einsum('ij, jk ->', a, b)\n",
        "print(a)\n",
        "print(b)\n",
        "print(prod)"
      ],
      "metadata": {
        "colab": {
          "base_uri": "https://localhost:8080/"
        },
        "id": "mIOx2ysoFgtp",
        "outputId": "c0468294-c407-4043-d726-f0c1819b91bb"
      },
      "execution_count": null,
      "outputs": [
        {
          "output_type": "stream",
          "name": "stdout",
          "text": [
            "[[0 1 2]\n",
            " [3 4 5]\n",
            " [6 7 8]]\n",
            "[[0 1]\n",
            " [2 3]\n",
            " [4 5]]\n",
            "204\n"
          ]
        }
      ]
    },
    {
      "cell_type": "code",
      "source": [
        "# Hadamard product\n",
        "\n",
        "a = np.arange(8).reshape(2, 4)\n",
        "b = np.arange(4, 12).reshape(2, 4)\n",
        "prod = np.einsum('ij, ij -> ij', a, b)\n",
        "print(a)\n",
        "print(b)\n",
        "print(prod)"
      ],
      "metadata": {
        "colab": {
          "base_uri": "https://localhost:8080/"
        },
        "id": "6R8Ry3ExFjNZ",
        "outputId": "de98a1bb-ef8b-411d-de2d-f8b989c02c30"
      },
      "execution_count": null,
      "outputs": [
        {
          "output_type": "stream",
          "name": "stdout",
          "text": [
            "[[0 1 2 3]\n",
            " [4 5 6 7]]\n",
            "[[ 4  5  6  7]\n",
            " [ 8  9 10 11]]\n",
            "[[ 0  5 12 21]\n",
            " [32 45 60 77]]\n"
          ]
        }
      ]
    },
    {
      "cell_type": "code",
      "source": [
        "# Batch matrix multiplication\n",
        "\n",
        "a = np.random.randn(3, 3, 2)\n",
        "b = np.random.randn(3, 2, 2)\n",
        "batch_mult = np.einsum('bij, bjk -> bik', a, b)\n",
        "print(a)\n",
        "print(b)\n",
        "print(batch_mult)"
      ],
      "metadata": {
        "colab": {
          "base_uri": "https://localhost:8080/"
        },
        "id": "q9THP3RRFla1",
        "outputId": "bbd0b996-3c7e-4893-e3fa-72639dac49c4"
      },
      "execution_count": null,
      "outputs": [
        {
          "output_type": "stream",
          "name": "stdout",
          "text": [
            "[[[-0.63076012  1.00914109]\n",
            "  [ 1.88456338 -0.44343745]\n",
            "  [ 0.10799052  0.97722733]]\n",
            "\n",
            " [[ 0.89348979 -0.3491128 ]\n",
            "  [ 0.31415594  0.56329561]\n",
            "  [ 0.86966602  0.88046334]]\n",
            "\n",
            " [[ 0.81926236 -0.69685057]\n",
            "  [ 0.16912912 -1.91777209]\n",
            "  [ 0.8531975   1.58821208]]]\n",
            "[[[ 0.25332386 -0.15025246]\n",
            "  [-0.83064993  1.30635767]]\n",
            "\n",
            " [[-0.63080076  1.77141133]\n",
            "  [-1.60835342 -0.40780997]]\n",
            "\n",
            " [[-1.62385013 -0.76012173]\n",
            "  [ 1.09193228 -1.67468762]]]\n",
            "[[[-9.98029559e-01  1.41307246e+00]\n",
            "  [ 8.45746154e-01 -8.62448198e-01]\n",
            "  [-7.84377230e-01  1.26038257e+00]]\n",
            "\n",
            " [[-2.11728143e-03  1.72510962e+00]\n",
            "  [-1.10414823e+00  3.26781825e-01]\n",
            "  [-1.96468221e+00  1.18147451e+00]]\n",
            "\n",
            " [[-2.09127293e+00  5.44267895e-01]\n",
            "  [-2.36871760e+00  3.08311046e+00]\n",
            "  [ 3.48755169e-01 -3.30829305e+00]]]\n"
          ]
        }
      ]
    },
    {
      "cell_type": "code",
      "source": [
        "# Tensor reduction\n",
        "\n",
        "a = np.random.randn(2, 3, 5, 7)\n",
        "b = np.random.randn(4, 1, 3, 11, 5)\n",
        "reduction = np.einsum('pqrs, tuqvr -> pstuv', a, b)\n",
        "print(a.shape, b.shape, reduction.shape)"
      ],
      "metadata": {
        "colab": {
          "base_uri": "https://localhost:8080/"
        },
        "id": "VQKeTPfTFmli",
        "outputId": "d2de3fe7-99b5-4d73-8fea-748ae60c039a"
      },
      "execution_count": null,
      "outputs": [
        {
          "output_type": "stream",
          "name": "stdout",
          "text": [
            "(2, 3, 5, 7) (4, 1, 3, 11, 5) (2, 7, 4, 1, 11)\n"
          ]
        }
      ]
    },
    {
      "cell_type": "code",
      "source": [
        "# Transpose\n",
        "\n",
        "a = np.arange(8).reshape(4, 2)\n",
        "transpose = np.einsum('ij -> ji', a)\n",
        "print(a)\n",
        "print(transpose)"
      ],
      "metadata": {
        "colab": {
          "base_uri": "https://localhost:8080/"
        },
        "id": "Sbmsyq1bFpyq",
        "outputId": "2aaffca8-b574-4acb-f808-20e191411ee1"
      },
      "execution_count": null,
      "outputs": [
        {
          "output_type": "stream",
          "name": "stdout",
          "text": [
            "[[0 1]\n",
            " [2 3]\n",
            " [4 5]\n",
            " [6 7]]\n",
            "[[0 2 4 6]\n",
            " [1 3 5 7]]\n"
          ]
        }
      ]
    },
    {
      "cell_type": "code",
      "source": [
        "# Bilinear transformation\n",
        "\n",
        "a = np.random.randn(2, 3)\n",
        "b = np.random.randn(3, 3, 4)\n",
        "c = np.random.randn(2, 4)\n",
        "bilinear = np.einsum('ik, jkl, il -> ij', a, b, c)\n",
        "print(a)\n",
        "print(b)\n",
        "print(c)\n",
        "print(bilinear)"
      ],
      "metadata": {
        "colab": {
          "base_uri": "https://localhost:8080/"
        },
        "id": "nv7PFH-PFtL4",
        "outputId": "1d28ec23-3c02-45d3-89d2-3d1b06d39a24"
      },
      "execution_count": null,
      "outputs": [
        {
          "output_type": "stream",
          "name": "stdout",
          "text": [
            "[[-1.4485944   0.55887873 -2.62459252]\n",
            " [ 0.8559395   2.59987455 -1.42999501]]\n",
            "[[[-0.54927212  0.17903394  0.2014629   0.03917421]\n",
            "  [-0.72322818  0.45718757  1.43569689  0.50849107]\n",
            "  [ 0.26767527  1.34071031 -0.82566379 -0.66827142]]\n",
            "\n",
            " [[ 2.49446094 -0.73595566 -0.70024972 -0.0103839 ]\n",
            "  [ 0.92078244  1.16321481 -0.68400726  0.22027506]\n",
            "  [ 0.41928042 -0.37746651 -1.67376953 -0.02967343]]\n",
            "\n",
            " [[-0.03569245  0.13793576  1.32990835 -0.00434988]\n",
            "  [-1.46486173  0.49473248 -1.39964611  1.46589578]\n",
            "  [-0.86498001  0.16806743  0.42753547 -1.30813548]]]\n",
            "[[-0.39227401 -0.20273234  0.2477246  -0.14672633]\n",
            " [ 0.43258626 -1.04729208  0.01067211  0.25972644]]\n",
            "[[ 1.20875817  2.31163481 -2.08968511]\n",
            " [ 0.07473915 -1.2153595  -0.90311826]]\n"
          ]
        }
      ]
    },
    {
      "cell_type": "code",
      "source": [
        "# Attention\n",
        "\n",
        "# Parameters\n",
        "# [hidden_dimension]\n",
        "bM = np.random.randn(7)\n",
        "br = np.random.randn(7) \n",
        "w = np.random.randn(7)\n",
        "# [hidden_dimension x hidden_dimension]\n",
        "WY = np.random.randn(7, 7)\n",
        "Wh = np.random.randn(7, 7)\n",
        "Wr = np.random.randn(7, 7)\n",
        "Wt = np.random.randn(7, 7)\n",
        "\n",
        "def attention(Y, ht, rt1):\n",
        "  # [batch_size x hidden_dimension] \n",
        "  tmp = np.einsum('ik, kl -> il', ht, Wh) + np.einsum('ik, kl -> il', rt1, Wr)\n",
        "\n",
        "  tmp_expanded = np.expand_dims(tmp, 1)\n",
        "  tmp_tiled = np.tile(tmp_expanded, [1, Y.shape[1], 1]) \n",
        "  Mt = np.tanh(np.einsum('ijk, kl -> ijl', Y, WY) + tmp_tiled + bM)\n",
        "  \n",
        "  # [batch_size x sequence_length]\n",
        "  at = np.einsum('ijk, k -> ij', Mt, w)\n",
        "  at = np.exp(at)/np.sum(np.exp(at))\n",
        "  \n",
        "  # [batch_size x hidden_dimension]\n",
        "  rt = np.einsum('ijk, ij -> ik', Y, at) + np.tanh(np.einsum('ij, jk -> ik', rt1, Wt) + br)\n",
        "  \n",
        "  return rt, at\n",
        "\n",
        "# Inputs - [batch_size x sequence_length x hidden_dimension]\n",
        "Y = np.random.randn(3,5,7)\n",
        "# [batch_size x hidden_dimension]\n",
        "ht = np.random.randn(3, 7)\n",
        "rt1 = np.random.randn(3, 7)\n",
        "\n",
        "rt, at = attention(Y, ht, rt1)\n",
        "\n",
        "print(at)"
      ],
      "metadata": {
        "colab": {
          "base_uri": "https://localhost:8080/"
        },
        "id": "mXQ27HwyFvwU",
        "outputId": "731cc9f5-446c-420e-f817-03c8abb3a539"
      },
      "execution_count": null,
      "outputs": [
        {
          "output_type": "stream",
          "name": "stdout",
          "text": [
            "[[5.47125812e-04 2.28926215e-03 6.91404338e-03 2.59498241e-03\n",
            "  3.09866300e-04]\n",
            " [5.79239575e-03 1.57265700e-02 4.45565438e-03 2.63792353e-03\n",
            "  4.55725721e-03]\n",
            " [4.29491981e-01 1.73101541e-01 6.68868033e-02 1.30561439e-01\n",
            "  1.54133155e-01]]\n"
          ]
        }
      ]
    },
    {
      "cell_type": "code",
      "source": [
        "# Treeqn\n",
        "\n",
        "def transition(zl):\n",
        "  # [batch_size x num_actions x hidden_dimension]\n",
        "  return np.expand_dims(zl, 1) + np.tanh(np.einsum('bk, aki -> bai', zl, W) + b)\n",
        "\n",
        "# Inputs - [batch_size x hidden_dimension]\n",
        "zl = np.random.rand(2, 3)\n",
        "# Parameters - [num_actions x hidden_dimension]\n",
        "b = np.random.rand(5, 3)\n",
        "# Actions - [num_actions x hidden_dimension x hidden_dimension]\n",
        "W = np.random.rand(5, 3, 3)\n",
        "\n",
        "transition(zl)"
      ],
      "metadata": {
        "colab": {
          "base_uri": "https://localhost:8080/"
        },
        "id": "rqwteeTRFyIE",
        "outputId": "ccac6607-4df4-4d58-ca4f-cd8c49707bcc"
      },
      "execution_count": null,
      "outputs": [
        {
          "output_type": "execute_result",
          "data": {
            "text/plain": [
              "array([[[0.58320689, 1.20307567, 0.83216163],\n",
              "        [0.62859962, 1.03290905, 0.54467109],\n",
              "        [0.68747555, 0.78291113, 0.39386395],\n",
              "        [0.73146644, 1.17128639, 0.85214295],\n",
              "        [0.35983477, 1.24340611, 0.69242728]],\n",
              "\n",
              "       [[1.54465543, 1.6016828 , 1.64602312],\n",
              "        [1.62968541, 1.60709961, 1.55287599],\n",
              "        [1.62526219, 1.36889805, 1.29103008],\n",
              "        [1.6106972 , 1.68072835, 1.56289925],\n",
              "        [1.41939064, 1.66450216, 1.5679081 ]]])"
            ]
          },
          "metadata": {},
          "execution_count": 12
        }
      ]
    }
  ]
}
