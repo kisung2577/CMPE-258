{
  "nbformat": 4,
  "nbformat_minor": 0,
  "metadata": {
    "colab": {
      "provenance": [],
      "authorship_tag": "ABX9TyMDTihgezvJHq20TLnXlTwF",
      "include_colab_link": true
    },
    "kernelspec": {
      "name": "python3",
      "display_name": "Python 3"
    },
    "language_info": {
      "name": "python"
    }
  },
  "cells": [
    {
      "cell_type": "markdown",
      "metadata": {
        "id": "view-in-github",
        "colab_type": "text"
      },
      "source": [
        "<a href=\"https://colab.research.google.com/github/kisung2577/CMPE-258/blob/main/3h.ipynb\" target=\"_parent\"><img src=\"https://colab.research.google.com/assets/colab-badge.svg\" alt=\"Open In Colab\"/></a>"
      ]
    },
    {
      "cell_type": "code",
      "execution_count": 1,
      "metadata": {
        "id": "ryBSripzG5Oc"
      },
      "outputs": [],
      "source": [
        "# Imports\n",
        "import jax\n",
        "from jax import numpy as jnp\n",
        "from jax import grad, value_and_grad\n",
        "from jax.example_libraries import stax, optimizers\n",
        "import numpy as np\n",
        "import matplotlib.pyplot as plt\n",
        "from mpl_toolkits.mplot3d import Axes3D"
      ]
    },
    {
      "cell_type": "code",
      "source": [
        "# Generate non-linear data\n",
        "n = 600\n",
        "dim = 3\n",
        "x = np.random.uniform(-1, 1, (n, dim))\n",
        "print('Input shape =', x.shape)"
      ],
      "metadata": {
        "colab": {
          "base_uri": "https://localhost:8080/"
        },
        "id": "-ruRe_utHmFK",
        "outputId": "9d32edb8-30eb-4079-e088-e92ffdb7b55b"
      },
      "execution_count": 2,
      "outputs": [
        {
          "output_type": "stream",
          "name": "stdout",
          "text": [
            "Input shape = (600, 3)\n"
          ]
        }
      ]
    },
    {
      "cell_type": "code",
      "source": [
        "# Initialize weights and bias\n",
        "weights = np.array([[2, -3, 1]]).T\n",
        "bias = np.array([8])\n",
        "print('Weights shape =', weights.shape)\n",
        "print('Bias shape =', bias.shape)\n",
        "\n",
        "# non-linear 3 variable function we want to learn\n",
        "y_true = np.einsum('ij, jk -> ik', (x**3),  weights) + np.einsum('ij, jk -> ik', (x**2),  weights) + np.einsum('ij, jk -> ik', x, weights) + bias\n",
        "print('Function output shape =', y_true.shape)"
      ],
      "metadata": {
        "colab": {
          "base_uri": "https://localhost:8080/"
        },
        "id": "QLIZd9FUHmCs",
        "outputId": "95f3ab41-4c95-43cd-b0d8-fafe6c577437"
      },
      "execution_count": 3,
      "outputs": [
        {
          "output_type": "stream",
          "name": "stdout",
          "text": [
            "Weights shape = (3, 1)\n",
            "Bias shape = (1,)\n",
            "Function output shape = (600, 1)\n"
          ]
        }
      ]
    },
    {
      "cell_type": "code",
      "source": [
        "# Hyperparamter initializations\n",
        "\n",
        "input_dim = dim\n",
        "output_dim = 1\n",
        "hidden_dim = 16\n",
        "\n",
        "learning_rate = 0.01\n",
        "num_epochs = 50\n",
        "\n",
        "seed = jax.random.PRNGKey(101)"
      ],
      "metadata": {
        "colab": {
          "base_uri": "https://localhost:8080/"
        },
        "id": "kun20h6pHmAy",
        "outputId": "27c63e60-0951-48f2-f53b-4482abf22d0d"
      },
      "execution_count": 4,
      "outputs": [
        {
          "output_type": "stream",
          "name": "stderr",
          "text": [
            "WARNING:jax._src.lib.xla_bridge:No GPU/TPU found, falling back to CPU. (Set TF_CPP_MIN_LOG_LEVEL=0 and rerun for more info.)\n"
          ]
        }
      ]
    },
    {
      "cell_type": "markdown",
      "source": [
        "#Using low-level API"
      ],
      "metadata": {
        "id": "hQ9pHL1UHyUF"
      }
    },
    {
      "cell_type": "code",
      "source": [
        "def initialize_weights(input_dim, output_dim, hidden_dim, seed):\n",
        "  weights = []\n",
        "\n",
        "  # Weights for 1st hidden layer\n",
        "  w = jax.random.uniform(key=seed, shape=(input_dim, hidden_dim), minval=-1.0, maxval=1.0, dtype=jnp.float32)\n",
        "  b = jax.random.uniform(key=seed, minval=-1.0, maxval=1.0, shape=(hidden_dim,), dtype=jnp.float32)\n",
        "  weights.append([w,b])\n",
        "\n",
        "  # Weights for 2nd hidden layer\n",
        "  w = jax.random.uniform(key=seed, shape=(hidden_dim, hidden_dim), minval=-1.0, maxval=1.0, dtype=jnp.float32)\n",
        "  b = jax.random.uniform(key=seed, minval=-1.0, maxval=1.0, shape=(hidden_dim,), dtype=jnp.float32)\n",
        "  weights.append([w,b])\n",
        "\n",
        "  # Weights for output layer\n",
        "  w = jax.random.uniform(key=seed, shape=(hidden_dim, output_dim), minval=-1.0, maxval=1.0, dtype=jnp.float32)\n",
        "  b = jax.random.uniform(key=seed, minval=-1.0, maxval=1.0, shape=(output_dim,), dtype=jnp.float32)\n",
        "  weights.append([w,b])\n",
        "\n",
        "  return weights"
      ],
      "metadata": {
        "id": "hT83q7O-Hl-S"
      },
      "execution_count": 5,
      "outputs": []
    },
    {
      "cell_type": "code",
      "source": [
        "# Non-linear activation function\n",
        "\n",
        "def relu(x):\n",
        "  return jnp.maximum(x, jnp.zeros_like(x))"
      ],
      "metadata": {
        "id": "_pTwImwFHl7_"
      },
      "execution_count": 6,
      "outputs": []
    },
    {
      "cell_type": "code",
      "source": [
        "# Linear layer\n",
        "\n",
        "def linear(weights, input, activation=lambda x: x):\n",
        "  weights, bias = weights\n",
        "  out = jnp.dot(input, weights) + bias\n",
        "  return activation(out)"
      ],
      "metadata": {
        "id": "gtGIfp93H4sZ"
      },
      "execution_count": 7,
      "outputs": []
    },
    {
      "cell_type": "code",
      "source": [
        "# Forward pass\n",
        "\n",
        "def forward(weights, input):\n",
        "  layer_out = input\n",
        "\n",
        "  for i in range(len(weights[:-1])):\n",
        "    layer_out = linear(weights[i], layer_out, relu)\n",
        "\n",
        "  preds = linear(weights[-1], layer_out)\n",
        "\n",
        "  return preds.squeeze()"
      ],
      "metadata": {
        "id": "KQ2fbbtvH4qg"
      },
      "execution_count": 8,
      "outputs": []
    },
    {
      "cell_type": "code",
      "source": [
        "# Error function - Mean Square Error\n",
        "\n",
        "def mean_squared_error(weights, input, actual):\n",
        "    preds = forward(weights, input)\n",
        "    return jnp.power(actual - preds, 2).mean()"
      ],
      "metadata": {
        "id": "A3lP29KfH4oT"
      },
      "execution_count": 9,
      "outputs": []
    },
    {
      "cell_type": "code",
      "source": [
        "# Computing gradients using JAX grad\n",
        "\n",
        "def backward(weights, input, actual):\n",
        "    loss = grad(mean_squared_error)\n",
        "    gradients = loss(weights, input, actual)\n",
        "    return gradients"
      ],
      "metadata": {
        "id": "bgk2Yl-CH4mT"
      },
      "execution_count": 10,
      "outputs": []
    },
    {
      "cell_type": "code",
      "source": [
        "# Train network\n",
        "\n",
        "def train(weights, x, y_true, learning_rate, num_epochs):\n",
        "  loss_ =  []\n",
        "\n",
        "  for epoch in range(num_epochs):\n",
        "    loss_value = mean_squared_error(weights, x, y_true)\n",
        "    gradients = backward(weights, x, y_true)\n",
        "\n",
        "    # Update Weights\n",
        "    for j in range(len(weights)):\n",
        "      weights[j][0] -= learning_rate * gradients[j][0] \n",
        "      weights[j][1] -= learning_rate * gradients[j][1]\n",
        "\n",
        "    print(f'Epoch {epoch}, loss {loss_value}')\n",
        "    loss_.append(loss_value)\n",
        "\n",
        "  return loss_"
      ],
      "metadata": {
        "id": "DklPQrl9H4jw"
      },
      "execution_count": 11,
      "outputs": []
    },
    {
      "cell_type": "code",
      "source": [
        "# Initialize weights\n",
        "weights = initialize_weights(input_dim, output_dim, hidden_dim, seed)\n",
        "\n",
        "# Train model\n",
        "loss_ = train(weights, x, y_true, learning_rate, num_epochs)"
      ],
      "metadata": {
        "colab": {
          "base_uri": "https://localhost:8080/"
        },
        "id": "MyMxNRZjH4hk",
        "outputId": "efa01a57-f2d4-4833-a45c-12bd0075fd03"
      },
      "execution_count": 12,
      "outputs": [
        {
          "output_type": "stream",
          "name": "stdout",
          "text": [
            "Epoch 0, loss 16.50585174560547\n",
            "Epoch 1, loss 15.976628303527832\n",
            "Epoch 2, loss 15.695318222045898\n",
            "Epoch 3, loss 15.467085838317871\n",
            "Epoch 4, loss 15.275958061218262\n",
            "Epoch 5, loss 15.114917755126953\n",
            "Epoch 6, loss 14.97708797454834\n",
            "Epoch 7, loss 14.857584953308105\n",
            "Epoch 8, loss 14.75370979309082\n",
            "Epoch 9, loss 14.663254737854004\n",
            "Epoch 10, loss 14.584296226501465\n",
            "Epoch 11, loss 14.515229225158691\n",
            "Epoch 12, loss 14.45443344116211\n",
            "Epoch 13, loss 14.400781631469727\n",
            "Epoch 14, loss 14.353110313415527\n",
            "Epoch 15, loss 14.310754776000977\n",
            "Epoch 16, loss 14.273127555847168\n",
            "Epoch 17, loss 14.2395658493042\n",
            "Epoch 18, loss 14.209342002868652\n",
            "Epoch 19, loss 14.181991577148438\n",
            "Epoch 20, loss 14.157437324523926\n",
            "Epoch 21, loss 14.135189056396484\n",
            "Epoch 22, loss 14.114897727966309\n",
            "Epoch 23, loss 14.096355438232422\n",
            "Epoch 24, loss 14.079562187194824\n",
            "Epoch 25, loss 14.064197540283203\n",
            "Epoch 26, loss 14.05008316040039\n",
            "Epoch 27, loss 14.037059783935547\n",
            "Epoch 28, loss 14.025110244750977\n",
            "Epoch 29, loss 14.014005661010742\n",
            "Epoch 30, loss 14.003664016723633\n",
            "Epoch 31, loss 13.994023323059082\n",
            "Epoch 32, loss 13.985089302062988\n",
            "Epoch 33, loss 13.976776123046875\n",
            "Epoch 34, loss 13.969032287597656\n",
            "Epoch 35, loss 13.961753845214844\n",
            "Epoch 36, loss 13.954893112182617\n",
            "Epoch 37, loss 13.94837474822998\n",
            "Epoch 38, loss 13.942211151123047\n",
            "Epoch 39, loss 13.936394691467285\n",
            "Epoch 40, loss 13.930870056152344\n",
            "Epoch 41, loss 13.925652503967285\n",
            "Epoch 42, loss 13.92074203491211\n",
            "Epoch 43, loss 13.916074752807617\n",
            "Epoch 44, loss 13.911614418029785\n",
            "Epoch 45, loss 13.90737247467041\n",
            "Epoch 46, loss 13.903324127197266\n",
            "Epoch 47, loss 13.899456977844238\n",
            "Epoch 48, loss 13.895750045776367\n",
            "Epoch 49, loss 13.892192840576172\n"
          ]
        }
      ]
    },
    {
      "cell_type": "code",
      "source": [
        "# Plot epoch vs loss\n",
        "\n",
        "plt.figure(figsize=(8, 5))\n",
        "plt.plot(range(num_epochs), loss_, label='Loss')\n",
        "plt.legend()"
      ],
      "metadata": {
        "colab": {
          "base_uri": "https://localhost:8080/",
          "height": 337
        },
        "id": "W0TE3L70Hl5g",
        "outputId": "3d1b06b4-1c39-4189-cf54-b2ce6c18318b"
      },
      "execution_count": 13,
      "outputs": [
        {
          "output_type": "execute_result",
          "data": {
            "text/plain": [
              "<matplotlib.legend.Legend at 0x7f9a441d6b20>"
            ]
          },
          "metadata": {},
          "execution_count": 13
        },
        {
          "output_type": "display_data",
          "data": {
            "text/plain": [
              "<Figure size 576x360 with 1 Axes>"
            ],
            "image/png": "[encoded data removed]"
          },
          "metadata": {
            "needs_background": "light"
          }
        }
      ]
    },
    {
      "cell_type": "markdown",
      "source": [
        "#Using high-level API"
      ],
      "metadata": {
        "id": "FPwk_a62IC9l"
      }
    },
    {
      "cell_type": "code",
      "source": [
        "# Create 3 layer deep neural network with non-linear activation function\n",
        "\n",
        "init, apply = stax.serial(stax.Dense(input_dim),\n",
        "                          stax.Relu,\n",
        "                          stax.Dense(hidden_dim),\n",
        "                          stax.Relu,\n",
        "                          stax.Dense(hidden_dim),\n",
        "                          stax.Relu,\n",
        "                          stax.Dense(output_dim),\n",
        "                          )"
      ],
      "metadata": {
        "id": "JE_8EOO2Hl3R"
      },
      "execution_count": 14,
      "outputs": []
    },
    {
      "cell_type": "code",
      "source": [
        "# Loss function\n",
        "\n",
        "def mean_squared_error(weights, input, y_true):\n",
        "    y_pred = apply(weights, input).squeeze()\n",
        "    return jnp.power(y_true - y_pred, 2).mean()"
      ],
      "metadata": {
        "id": "MjJ7sa-wHl02"
      },
      "execution_count": 15,
      "outputs": []
    },
    {
      "cell_type": "code",
      "source": [
        "# Training neural netwrok method\n",
        "\n",
        "def train(x, y_true, num_epochs, opt_state):\n",
        "  loss_ = []\n",
        "\n",
        "  for epoch in range(num_epochs):\n",
        "    # Optimizer state is an object that has weights of our model\n",
        "    loss_value, gradients = value_and_grad(mean_squared_error)(optimizer_get_weights(opt_state), x, y_true)\n",
        "\n",
        "    # Update Weights\n",
        "    opt_state = optimizer_update(epoch, gradients, opt_state)\n",
        "\n",
        "    loss_.append(loss_value)\n",
        "    print(f'Epoch {epoch}, loss {loss_value}')\n",
        "\n",
        "  return opt_state, loss_"
      ],
      "metadata": {
        "id": "KdoidOU_IMWL"
      },
      "execution_count": 16,
      "outputs": []
    },
    {
      "cell_type": "code",
      "source": [
        "# Initialize weights by passing input dimensions to init function \n",
        "\n",
        "weights = init(seed, (x.shape[1],))\n",
        "weights = weights[1]\n",
        "\n",
        "optimizer_init, optimizer_update, optimizer_get_weights = optimizers.sgd(learning_rate)\n",
        "optimizer_state = optimizer_init(weights)\n",
        "\n",
        "final_optimizer_state, loss_ = train(x, y_true, num_epochs, optimizer_state)"
      ],
      "metadata": {
        "colab": {
          "base_uri": "https://localhost:8080/"
        },
        "id": "oC1IULCZIMUP",
        "outputId": "77914747-2492-4bc8-a5ab-f15d5be91731"
      },
      "execution_count": 17,
      "outputs": [
        {
          "output_type": "stream",
          "name": "stdout",
          "text": [
            "Epoch 0, loss 75.59780883789062\n",
            "Epoch 1, loss 70.67094421386719\n",
            "Epoch 2, loss 65.7586898803711\n",
            "Epoch 3, loss 60.391502380371094\n",
            "Epoch 4, loss 54.28157424926758\n",
            "Epoch 5, loss 47.2927131652832\n",
            "Epoch 6, loss 39.40260314941406\n",
            "Epoch 7, loss 30.95091438293457\n",
            "Epoch 8, loss 23.0488224029541\n",
            "Epoch 9, loss 17.397573471069336\n",
            "Epoch 10, loss 14.833170890808105\n",
            "Epoch 11, loss 14.212218284606934\n",
            "Epoch 12, loss 14.120656967163086\n",
            "Epoch 13, loss 14.094590187072754\n",
            "Epoch 14, loss 14.074613571166992\n",
            "Epoch 15, loss 14.056427001953125\n",
            "Epoch 16, loss 14.039647102355957\n",
            "Epoch 17, loss 14.024353981018066\n",
            "Epoch 18, loss 14.01050853729248\n",
            "Epoch 19, loss 13.997633934020996\n",
            "Epoch 20, loss 13.985664367675781\n",
            "Epoch 21, loss 13.974519729614258\n",
            "Epoch 22, loss 13.964102745056152\n",
            "Epoch 23, loss 13.954379081726074\n",
            "Epoch 24, loss 13.945284843444824\n",
            "Epoch 25, loss 13.93674087524414\n",
            "Epoch 26, loss 13.928728103637695\n",
            "Epoch 27, loss 13.921195030212402\n",
            "Epoch 28, loss 13.914128303527832\n",
            "Epoch 29, loss 13.907476425170898\n",
            "Epoch 30, loss 13.901226997375488\n",
            "Epoch 31, loss 13.895353317260742\n",
            "Epoch 32, loss 13.889822006225586\n",
            "Epoch 33, loss 13.884623527526855\n",
            "Epoch 34, loss 13.87968921661377\n",
            "Epoch 35, loss 13.875020980834961\n",
            "Epoch 36, loss 13.870610237121582\n",
            "Epoch 37, loss 13.866435050964355\n",
            "Epoch 38, loss 13.862479209899902\n",
            "Epoch 39, loss 13.858747482299805\n",
            "Epoch 40, loss 13.855216979980469\n",
            "Epoch 41, loss 13.851873397827148\n",
            "Epoch 42, loss 13.848710060119629\n",
            "Epoch 43, loss 13.845706939697266\n",
            "Epoch 44, loss 13.842845916748047\n",
            "Epoch 45, loss 13.840142250061035\n",
            "Epoch 46, loss 13.837579727172852\n",
            "Epoch 47, loss 13.835129737854004\n",
            "Epoch 48, loss 13.832793235778809\n",
            "Epoch 49, loss 13.83056926727295\n"
          ]
        }
      ]
    },
    {
      "cell_type": "code",
      "source": [
        "# Plot epoch vs loss\n",
        "\n",
        "plt.figure(figsize=(8, 5))\n",
        "plt.plot(range(num_epochs), loss_, label='Loss')\n",
        "plt.legend()"
      ],
      "metadata": {
        "colab": {
          "base_uri": "https://localhost:8080/",
          "height": 337
        },
        "id": "EJjDa0-SIMR8",
        "outputId": "f6940736-4cc8-4ec1-8ff6-2fe238150cd6"
      },
      "execution_count": 18,
      "outputs": [
        {
          "output_type": "execute_result",
          "data": {
            "text/plain": [
              "<matplotlib.legend.Legend at 0x7f9a3cadd460>"
            ]
          },
          "metadata": {},
          "execution_count": 18
        },
        {
          "output_type": "display_data",
          "data": {
            "text/plain": [
              "<Figure size 576x360 with 1 Axes>"
            ],
            "image/png": "[encoded data removed]"
          },
          "metadata": {
            "needs_background": "light"
          }
        }
      ]
    }
  ]
}